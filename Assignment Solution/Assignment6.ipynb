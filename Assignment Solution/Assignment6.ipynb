{
 "cells": [
  {
   "cell_type": "markdown",
   "id": "5eaec75a",
   "metadata": {},
   "source": [
    "# Assignment-6\n",
    "\n",
    "Name: Anish kumar\n",
    "\n",
    "Regd. no: 2241011101\n",
    "\n",
    "Section: 2241007"
   ]
  },
  {
   "cell_type": "markdown",
   "id": "e3f96680",
   "metadata": {},
   "source": [
    " 1. Convert the list [’100’, ’200’, ’python’, ’300.12’, ’400’] to a Series object than sort it. The output should be [’100’,’200’,’300.12’,’400’,’python’]."
   ]
  },
  {
   "cell_type": "code",
   "execution_count": 2,
   "id": "462c898f",
   "metadata": {},
   "outputs": [
    {
     "name": "stdout",
     "output_type": "stream",
     "text": [
      "0       100\n",
      "1       200\n",
      "2    python\n",
      "3    300.12\n",
      "4       400\n",
      "dtype: object \n",
      "\n",
      "sorted data:\n"
     ]
    },
    {
     "data": {
      "text/plain": [
       "0       100\n",
       "1       200\n",
       "3    300.12\n",
       "4       400\n",
       "2    python\n",
       "dtype: object"
      ]
     },
     "execution_count": 2,
     "metadata": {},
     "output_type": "execute_result"
    }
   ],
   "source": [
    "import pandas as pd\n",
    "l=['100','200','python','300.12','400']\n",
    "arr=pd.Series(l)\n",
    "print(arr,'\\n')\n",
    "print('sorted data:')\n",
    "arr.sort_values()"
   ]
  },
  {
   "cell_type": "markdown",
   "id": "e85be221",
   "metadata": {},
   "source": [
    " 2. Write a Pandas program to convert the first column of a DataFrame as a Series."
   ]
  },
  {
   "cell_type": "code",
   "execution_count": 12,
   "id": "9c28a9f1",
   "metadata": {},
   "outputs": [
    {
     "name": "stdout",
     "output_type": "stream",
     "text": [
      "Original DataFrame:\n",
      "   c1 c2\n",
      "0   1  A\n",
      "1   2  B\n",
      "2   3  C\n",
      "3   4  D\n",
      "4   5  E\n",
      "5   6  F\n",
      "\n",
      "First Column as Series:\n",
      "0    1\n",
      "1    2\n",
      "2    3\n",
      "3    4\n",
      "4    5\n",
      "5    6\n",
      "Name: c1, dtype: int64\n"
     ]
    }
   ],
   "source": [
    "data={'c1':[1,2,3,4,5,6],\n",
    "'c2':['A','B','C','D','E','F']}\n",
    "df=pd.DataFrame(data)\n",
    "firstColoumSeries=df.iloc[:,0]\n",
    "print(\"Original DataFrame:\")\n",
    "print(df)\n",
    "print(\"\\nFirst Column as Series:\")\n",
    "print(firstColoumSeries)"
   ]
  },
  {
   "cell_type": "markdown",
   "id": "74884b33",
   "metadata": {},
   "source": [
    " 3. Create a data frame containing names of first five presidents of India,and years served by them.Once the data frame is created, add another column containing their home state for the first four presidents."
   ]
  },
  {
   "cell_type": "code",
   "execution_count": 14,
   "id": "444429cc",
   "metadata": {},
   "outputs": [
    {
     "data": {
      "text/html": [
       "<div>\n",
       "<style scoped>\n",
       "    .dataframe tbody tr th:only-of-type {\n",
       "        vertical-align: middle;\n",
       "    }\n",
       "\n",
       "    .dataframe tbody tr th {\n",
       "        vertical-align: top;\n",
       "    }\n",
       "\n",
       "    .dataframe thead th {\n",
       "        text-align: right;\n",
       "    }\n",
       "</style>\n",
       "<table border=\"1\" class=\"dataframe\">\n",
       "  <thead>\n",
       "    <tr style=\"text-align: right;\">\n",
       "      <th></th>\n",
       "      <th>Name</th>\n",
       "      <th>Years Served</th>\n",
       "    </tr>\n",
       "  </thead>\n",
       "  <tbody>\n",
       "    <tr>\n",
       "      <th>0</th>\n",
       "      <td>Rajendra Prasad</td>\n",
       "      <td>1950-1962</td>\n",
       "    </tr>\n",
       "    <tr>\n",
       "      <th>1</th>\n",
       "      <td>Sarvepalli Radhakrishnan</td>\n",
       "      <td>1962-1967</td>\n",
       "    </tr>\n",
       "    <tr>\n",
       "      <th>2</th>\n",
       "      <td>Zakir Hussain</td>\n",
       "      <td>1967-1969</td>\n",
       "    </tr>\n",
       "    <tr>\n",
       "      <th>3</th>\n",
       "      <td>Varahagiri Venkata Giri</td>\n",
       "      <td>1969-1974</td>\n",
       "    </tr>\n",
       "    <tr>\n",
       "      <th>4</th>\n",
       "      <td>Fakhruddin Ali Ahmed</td>\n",
       "      <td>1974-1977</td>\n",
       "    </tr>\n",
       "  </tbody>\n",
       "</table>\n",
       "</div>"
      ],
      "text/plain": [
       "                       Name Years Served\n",
       "0           Rajendra Prasad    1950-1962\n",
       "1  Sarvepalli Radhakrishnan    1962-1967\n",
       "2             Zakir Hussain    1967-1969\n",
       "3   Varahagiri Venkata Giri    1969-1974\n",
       "4      Fakhruddin Ali Ahmed    1974-1977"
      ]
     },
     "execution_count": 14,
     "metadata": {},
     "output_type": "execute_result"
    }
   ],
   "source": [
    "data={'Name':['Rajendra Prasad','Sarvepalli Radhakrishnan','Zakir Hussain','Varahagiri Venkata Giri','Fakhruddin Ali Ahmed'],\n",
    "        'Years Served':['1950-1962','1962-1967','1967-1969','1969-1974','1974-1977']} \n",
    "df=pd.DataFrame(data)\n",
    "df"
   ]
  },
  {
   "cell_type": "code",
   "execution_count": 15,
   "id": "d2a60218",
   "metadata": {},
   "outputs": [
    {
     "data": {
      "text/html": [
       "<div>\n",
       "<style scoped>\n",
       "    .dataframe tbody tr th:only-of-type {\n",
       "        vertical-align: middle;\n",
       "    }\n",
       "\n",
       "    .dataframe tbody tr th {\n",
       "        vertical-align: top;\n",
       "    }\n",
       "\n",
       "    .dataframe thead th {\n",
       "        text-align: right;\n",
       "    }\n",
       "</style>\n",
       "<table border=\"1\" class=\"dataframe\">\n",
       "  <thead>\n",
       "    <tr style=\"text-align: right;\">\n",
       "      <th></th>\n",
       "      <th>Name</th>\n",
       "      <th>Years Served</th>\n",
       "      <th>Home State</th>\n",
       "    </tr>\n",
       "  </thead>\n",
       "  <tbody>\n",
       "    <tr>\n",
       "      <th>0</th>\n",
       "      <td>Rajendra Prasad</td>\n",
       "      <td>1950-1962</td>\n",
       "      <td>Bihar</td>\n",
       "    </tr>\n",
       "    <tr>\n",
       "      <th>1</th>\n",
       "      <td>Sarvepalli Radhakrishnan</td>\n",
       "      <td>1962-1967</td>\n",
       "      <td>Andhra Pradesh</td>\n",
       "    </tr>\n",
       "    <tr>\n",
       "      <th>2</th>\n",
       "      <td>Zakir Hussain</td>\n",
       "      <td>1967-1969</td>\n",
       "      <td>Bihar</td>\n",
       "    </tr>\n",
       "    <tr>\n",
       "      <th>3</th>\n",
       "      <td>Varahagiri Venkata Giri</td>\n",
       "      <td>1969-1974</td>\n",
       "      <td>Kerala</td>\n",
       "    </tr>\n",
       "    <tr>\n",
       "      <th>4</th>\n",
       "      <td>Fakhruddin Ali Ahmed</td>\n",
       "      <td>1974-1977</td>\n",
       "      <td>None</td>\n",
       "    </tr>\n",
       "  </tbody>\n",
       "</table>\n",
       "</div>"
      ],
      "text/plain": [
       "                       Name Years Served      Home State\n",
       "0           Rajendra Prasad    1950-1962           Bihar\n",
       "1  Sarvepalli Radhakrishnan    1962-1967  Andhra Pradesh\n",
       "2             Zakir Hussain    1967-1969           Bihar\n",
       "3   Varahagiri Venkata Giri    1969-1974          Kerala\n",
       "4      Fakhruddin Ali Ahmed    1974-1977            None"
      ]
     },
     "execution_count": 15,
     "metadata": {},
     "output_type": "execute_result"
    }
   ],
   "source": [
    "df['Home State']=['Bihar', 'Andhra Pradesh', 'Bihar', 'Kerala', None]\n",
    "df"
   ]
  },
  {
   "cell_type": "markdown",
   "id": "b7e43867",
   "metadata": {},
   "source": [
    " 4. Convert s1=[1,2,3,4,2] and s2=[3,4,5,6] to two series objects. Find elements in s1, which are not\n",
    " present in s2."
   ]
  },
  {
   "cell_type": "code",
   "execution_count": 25,
   "id": "75364487",
   "metadata": {},
   "outputs": [
    {
     "name": "stdout",
     "output_type": "stream",
     "text": [
      "0    1\n",
      "1    2\n",
      "2    3\n",
      "3    4\n",
      "4    2\n",
      "dtype: int64\n",
      "0    3\n",
      "1    4\n",
      "2    5\n",
      "3    6\n",
      "dtype: int64\n",
      "element that are not present in s1:\n",
      "1\n",
      "2\n",
      "2\n"
     ]
    }
   ],
   "source": [
    "s1=[1,2,3,4,2]\n",
    "s2=[3,4,5,6]\n",
    "\n",
    "S1=pd.Series(s1)\n",
    "print(S1)\n",
    "\n",
    "S2=pd.Series(s2)\n",
    "print(S2)\n",
    "\n",
    "print(\"element that are not present in s1:\")\n",
    "for i in s1:\n",
    "    if i not in s2:\n",
    "        print(i)"
   ]
  },
  {
   "cell_type": "markdown",
   "id": "73f47439",
   "metadata": {},
   "source": [
    " 5. Write a Pandas program to find the index of the first occurrence of the smallest and largest value of a\n",
    " given series. If the input is [1,1,3,7,88,12,88,23,3,1,9,0], the output should be 0 and 4."
   ]
  },
  {
   "cell_type": "code",
   "execution_count": 18,
   "id": "4ad29a39",
   "metadata": {},
   "outputs": [
    {
     "name": "stdout",
     "output_type": "stream",
     "text": [
      "0      1\n",
      "1      1\n",
      "2      3\n",
      "3      7\n",
      "4     88\n",
      "5     12\n",
      "6     88\n",
      "7     23\n",
      "8      3\n",
      "9      1\n",
      "10     9\n",
      "11     0\n",
      "dtype: int64\n",
      "Index of the first occurrence of the smallest and largest value of the series:\n",
      "smallest: 11\n",
      "largest: 4\n"
     ]
    }
   ],
   "source": [
    "x=[1,1,3,7,88,12,88,23,3,1,9,0]\n",
    "s=pd.Series(x)\n",
    "print(s)\n",
    "print(\"Index of the first occurrence of the smallest and largest value of the series:\")\n",
    "print(\"smallest:\",s.idxmin())\n",
    "print(\"largest:\",s.idxmax())"
   ]
  },
  {
   "cell_type": "markdown",
   "id": "64c840c6",
   "metadata": {},
   "source": [
    " 6. Convert L=[’Cry’, ’Apple’, ’Orange’, ’Sky’, ’Banana’] to a pandas series.Create a new series with\n",
    " the elements which has a vowel. Create another series which starts with a vowel."
   ]
  },
  {
   "cell_type": "code",
   "execution_count": 20,
   "id": "02e4fdc2",
   "metadata": {},
   "outputs": [
    {
     "name": "stdout",
     "output_type": "stream",
     "text": [
      "Original Series:\n",
      "0       Cry\n",
      "1     Apple\n",
      "2    Orange\n",
      "3       Sky\n",
      "4    Banana\n",
      "dtype: object\n",
      "\n",
      "Series with Elements Containing Vowels:\n",
      "1     Apple\n",
      "2    Orange\n",
      "4    Banana\n",
      "dtype: object\n",
      "\n",
      "Series with Elements Starting with a Vowel:\n",
      "1     Apple\n",
      "2    Orange\n",
      "dtype: object\n"
     ]
    }
   ],
   "source": [
    "import pandas as pd\n",
    "L=['Cry','Apple','Orange','Sky','Banana']\n",
    "s=pd.Series(L)\n",
    "\n",
    "# Create a series with elements containing vowels\n",
    "s1=s[s.str.contains('[aeiouAEIOU]')]\n",
    "\n",
    "# Create a series with elements starting with a vowel\n",
    "s2=s[s.str[0].str.lower().isin(['a', 'e', 'i', 'o', 'u'])]\n",
    "\n",
    "print(\"Original Series:\")\n",
    "print(s)\n",
    "\n",
    "print(\"\\nSeries with Elements Containing Vowels:\")\n",
    "print(s1)\n",
    "\n",
    "print(\"\\nSeries with Elements Starting with a Vowel:\")\n",
    "print(s2)\n"
   ]
  },
  {
   "cell_type": "markdown",
   "id": "d57682a0",
   "metadata": {},
   "source": [
    " 7. Write a Pandas program to calculate the number of characters in each word in a given series."
   ]
  },
  {
   "cell_type": "code",
   "execution_count": 21,
   "id": "ea17b278",
   "metadata": {},
   "outputs": [
    {
     "data": {
      "text/html": [
       "<div>\n",
       "<style scoped>\n",
       "    .dataframe tbody tr th:only-of-type {\n",
       "        vertical-align: middle;\n",
       "    }\n",
       "\n",
       "    .dataframe tbody tr th {\n",
       "        vertical-align: top;\n",
       "    }\n",
       "\n",
       "    .dataframe thead th {\n",
       "        text-align: right;\n",
       "    }\n",
       "</style>\n",
       "<table border=\"1\" class=\"dataframe\">\n",
       "  <thead>\n",
       "    <tr style=\"text-align: right;\">\n",
       "      <th></th>\n",
       "      <th>Word</th>\n",
       "      <th>Length</th>\n",
       "    </tr>\n",
       "  </thead>\n",
       "  <tbody>\n",
       "    <tr>\n",
       "      <th>0</th>\n",
       "      <td>Cry</td>\n",
       "      <td>3</td>\n",
       "    </tr>\n",
       "    <tr>\n",
       "      <th>1</th>\n",
       "      <td>Apple</td>\n",
       "      <td>5</td>\n",
       "    </tr>\n",
       "    <tr>\n",
       "      <th>2</th>\n",
       "      <td>Orange</td>\n",
       "      <td>6</td>\n",
       "    </tr>\n",
       "    <tr>\n",
       "      <th>3</th>\n",
       "      <td>Sky</td>\n",
       "      <td>3</td>\n",
       "    </tr>\n",
       "    <tr>\n",
       "      <th>4</th>\n",
       "      <td>Banana</td>\n",
       "      <td>6</td>\n",
       "    </tr>\n",
       "  </tbody>\n",
       "</table>\n",
       "</div>"
      ],
      "text/plain": [
       "     Word  Length\n",
       "0     Cry       3\n",
       "1   Apple       5\n",
       "2  Orange       6\n",
       "3     Sky       3\n",
       "4  Banana       6"
      ]
     },
     "execution_count": 21,
     "metadata": {},
     "output_type": "execute_result"
    }
   ],
   "source": [
    "import pandas as pd\n",
    "L=['Cry','Apple','Orange','Sky','Banana']\n",
    "s=pd.Series(L)\n",
    "l=s.str.len()\n",
    "df=pd.DataFrame({'Word':s,'Length':l})\n",
    "df"
   ]
  },
  {
   "cell_type": "markdown",
   "id": "8de45745",
   "metadata": {},
   "source": [
    " 8. Create a 4*4 data frame where each entry is from the standard normal distribution. Create another matrix which is element wise square root of the previous matrix. Find the number of NaN values in\n",
    " each column. Find the mean and standard deviation of each column."
   ]
  },
  {
   "cell_type": "code",
   "execution_count": 5,
   "id": "7bdb6c23",
   "metadata": {},
   "outputs": [
    {
     "name": "stdout",
     "output_type": "stream",
     "text": [
      "Matrix:\n",
      "[[-1.94093588  0.4392883   0.12482826 -0.77149446]\n",
      " [-0.22507675  0.58095939 -0.14360922  2.33390816]\n",
      " [-0.39339114  2.17181742  1.64873922 -0.89536789]\n",
      " [-0.18902861 -0.40653364 -1.17542166 -1.74620026]]\n",
      "\n",
      "Square Root Matrix:\n",
      "[[       nan 0.66278828 0.35331044        nan]\n",
      " [       nan 0.76220692        nan 1.52771338]\n",
      " [       nan 1.47370873 1.2840324         nan]\n",
      " [       nan        nan        nan        nan]]\n",
      "Data Frame:\n",
      "    0         1         2         3\n",
      "0 NaN  0.662788  0.353310       NaN\n",
      "1 NaN  0.762207       NaN  1.527713\n",
      "2 NaN  1.473709  1.284032       NaN\n",
      "3 NaN       NaN       NaN       NaN\n",
      "\n",
      "NaN Counts:\n",
      "0    4\n",
      "1    1\n",
      "2    2\n",
      "3    3\n",
      "dtype: int64\n",
      "\n",
      "Means:\n",
      "0         NaN\n",
      "1    0.966235\n",
      "2    0.818671\n",
      "3    1.527713\n",
      "dtype: float64\n",
      "\n",
      "Standard Deviations:\n",
      "0         NaN\n",
      "1    0.442288\n",
      "2    0.658120\n",
      "3         NaN\n",
      "dtype: float64\n"
     ]
    },
    {
     "name": "stderr",
     "output_type": "stream",
     "text": [
      "C:\\Users\\anish\\AppData\\Local\\Temp\\ipykernel_1412\\2900044679.py:8: RuntimeWarning: invalid value encountered in sqrt\n",
      "  squareRootMatrix=np.sqrt(matrix)\n"
     ]
    }
   ],
   "source": [
    "import numpy as np\n",
    "import pandas as pd\n",
    "\n",
    "# Generate a 4x4 matrix with entries from the standard normal distribution\n",
    "matrix=np.random.standard_normal((4, 4))\n",
    "\n",
    "# Calculate the element-wise square root of the matrix\n",
    "squareRootMatrix=np.sqrt(matrix)\n",
    "\n",
    "# Create a data frame from the matrix\n",
    "df=pd.DataFrame(squareRootMatrix)\n",
    "\n",
    "# Calculate the number of NaN values, mean, and standard deviation for each column\n",
    "nanCounts=df.isna().sum()\n",
    "means=df.mean()\n",
    "stdDevs=df.std()\n",
    "\n",
    "# Print the results\n",
    "print(\"Matrix:\")\n",
    "print(matrix)\n",
    "print(\"\\nSquare Root Matrix:\")\n",
    "print(squareRootMatrix)\n",
    "print(\"Data Frame:\")\n",
    "print(df)\n",
    "print(\"\\nNaN Counts:\")\n",
    "print(nanCounts)\n",
    "print(\"\\nMeans:\")\n",
    "print(means)\n",
    "print(\"\\nStandard Deviations:\")\n",
    "print(stdDevs)"
   ]
  },
  {
   "cell_type": "markdown",
   "id": "b2b3de54",
   "metadata": {},
   "source": [
    "9. Create a 4*4 matrix, where each row contains Student’s name,registration no,sec and cgpa.\n",
    " D=’Name’:[’A’,”B”,”C”,”D”], ’Regno’:[1,2,3,4], ’Sec’:[’i’,’ii’,’iii’,’iv’], ’CGPA’:[7,8,9,10] Find the name,\n",
    " registration no of the student with highest cgpa. (Use np.max on cgpa column) What is the row and\n",
    " column number of the cell with the highest CGPA?(Convert dataframe to numpy array and see which\n",
    " indices has maximum value)"
   ]
  },
  {
   "cell_type": "code",
   "execution_count": 79,
   "id": "a38512c2",
   "metadata": {},
   "outputs": [
    {
     "name": "stdout",
     "output_type": "stream",
     "text": [
      "Data Frame:\n",
      "  Name  RedgdNo  sec  cgpa\n",
      "0    A        1    i     7\n",
      "1    B        2   ii     8\n",
      "2    C        3  iii     9\n",
      "3    D        4   iv    10\n",
      "the name, registration no of the student with highest cgpa:\n",
      "Name: D\n",
      "Regd No: 4\n",
      "the row and column number of the cell with the highest CGPA:\n",
      "(array([3, 3, 3, 3], dtype=int64), array([0, 1, 2, 3], dtype=int64))\n",
      "Use np.max on cgpa column:\n",
      "Numpy array:\n",
      "[['A' 1 'i' 7]\n",
      " ['B' 2 'ii' 8]\n",
      " ['C' 3 'iii' 9]\n",
      " ['D' 4 'iv' 10]]\n"
     ]
    },
    {
     "data": {
      "text/plain": [
       "10"
      ]
     },
     "execution_count": 79,
     "metadata": {},
     "output_type": "execute_result"
    }
   ],
   "source": [
    "import pandas as pd\n",
    "D={'Name':['A','B','C','D'],\n",
    "   'RedgdNo':[1,2,3,4],\n",
    "   'sec':['i','ii','iii','iv'],\n",
    "   'cgpa':[7,8,9,10]}\n",
    "\n",
    "df=pd.DataFrame(D)\n",
    "print('Data Frame:')\n",
    "print(df)\n",
    "\n",
    "# highestCGPA=df['cgpa'].max()\n",
    "# x=df[df['cgpa']==highestCGPA][['Name','RedgdNo']]\n",
    "# print(x)\n",
    "print('the name, registration no of the student with highest cgpa:')\n",
    "hcn=df[df['cgpa']==df['cgpa'].max()]['Name'].values[0]\n",
    "print('Name:',hcn)\n",
    "\n",
    "hcr=df[df['cgpa']==df['cgpa'].max()]['RedgdNo'].values[0]\n",
    "print('Regd No:',hcr)\n",
    "\n",
    "print('the row and column number of the cell with the highest CGPA:')\n",
    "# highestCGPARow=df['cgpa'].idxmax()\n",
    "# print('row:',highestCGPARow)\n",
    "rc=np.where(df==df.max())\n",
    "print(rc)\n",
    "\n",
    "print('Use np.max on cgpa column:')\n",
    "npdf=df.to_numpy()\n",
    "print('Numpy array:')\n",
    "print(npdf)\n",
    "npdf[:,3].max()\n",
    "# maxIndex=np.argmax(npdf)"
   ]
  },
  {
   "cell_type": "markdown",
   "id": "7c7dd071",
   "metadata": {},
   "source": [
    "10. Create a data frame object,df containing some Nan values. Count the number of missing values in\n",
    " each column of df. Which column has the maximum number of missing values?(create a function to\n",
    " count nan values in a column,use df.apply and that function)"
   ]
  },
  {
   "cell_type": "code",
   "execution_count": 88,
   "id": "cc836ce2",
   "metadata": {},
   "outputs": [
    {
     "name": "stdout",
     "output_type": "stream",
     "text": [
      "the number of missing values in each column:\n",
      "A    2\n",
      "B    3\n",
      "C    4\n",
      "dtype: int64\n",
      "column has the maximum number of missing values:\n"
     ]
    },
    {
     "data": {
      "text/plain": [
       "'C'"
      ]
     },
     "execution_count": 88,
     "metadata": {},
     "output_type": "execute_result"
    }
   ],
   "source": [
    "data={'A':[1,2,3,np.nan,None],\n",
    "    'B':[1.4,1.0,None,np.nan,np.nan],\n",
    "    'C':[np.nan,np.nan,np.nan,1,None]}\n",
    "df=pd.DataFrame(data)\n",
    "missingValues=df.isnull().sum()\n",
    "print('the number of missing values in each column:')\n",
    "print(missingValues)\n",
    "print('column has the maximum number of missing values:')\n",
    "missingValues.idxmax()"
   ]
  },
  {
   "cell_type": "markdown",
   "id": "53f0ed1e",
   "metadata": {},
   "source": [
    "11. Create a 4*4 matrix, entries from np.arange(16). Reverse the entries of the matrix. The matrix will look like:"
   ]
  },
  {
   "cell_type": "code",
   "execution_count": 95,
   "id": "24a2428b",
   "metadata": {},
   "outputs": [
    {
     "data": {
      "text/plain": [
       "array([[15, 14, 13, 12],\n",
       "       [11, 10,  9,  8],\n",
       "       [ 7,  6,  5,  4],\n",
       "       [ 3,  2,  1,  0]])"
      ]
     },
     "execution_count": 95,
     "metadata": {},
     "output_type": "execute_result"
    }
   ],
   "source": [
    "import numpy as np\n",
    "x=np.arange(16).reshape(4,4)\n",
    "r=np.flip(x)\n",
    "r"
   ]
  },
  {
   "cell_type": "markdown",
   "id": "5ae5ad16",
   "metadata": {},
   "source": [
    "12. Create a 4*4 matrix where each entries are from standard normal distribution. Add a column to this\n",
    " dataframe, which contains row wise minimums."
   ]
  },
  {
   "cell_type": "code",
   "execution_count": 103,
   "id": "e1cd1e85",
   "metadata": {},
   "outputs": [
    {
     "data": {
      "text/html": [
       "<div>\n",
       "<style scoped>\n",
       "    .dataframe tbody tr th:only-of-type {\n",
       "        vertical-align: middle;\n",
       "    }\n",
       "\n",
       "    .dataframe tbody tr th {\n",
       "        vertical-align: top;\n",
       "    }\n",
       "\n",
       "    .dataframe thead th {\n",
       "        text-align: right;\n",
       "    }\n",
       "</style>\n",
       "<table border=\"1\" class=\"dataframe\">\n",
       "  <thead>\n",
       "    <tr style=\"text-align: right;\">\n",
       "      <th></th>\n",
       "      <th>0</th>\n",
       "      <th>1</th>\n",
       "      <th>2</th>\n",
       "      <th>3</th>\n",
       "      <th>min</th>\n",
       "    </tr>\n",
       "  </thead>\n",
       "  <tbody>\n",
       "    <tr>\n",
       "      <th>0</th>\n",
       "      <td>1.057167</td>\n",
       "      <td>0.642492</td>\n",
       "      <td>-0.280820</td>\n",
       "      <td>-0.658117</td>\n",
       "      <td>-0.658117</td>\n",
       "    </tr>\n",
       "    <tr>\n",
       "      <th>1</th>\n",
       "      <td>0.288150</td>\n",
       "      <td>1.767884</td>\n",
       "      <td>2.089377</td>\n",
       "      <td>-0.367981</td>\n",
       "      <td>-0.367981</td>\n",
       "    </tr>\n",
       "    <tr>\n",
       "      <th>2</th>\n",
       "      <td>0.907408</td>\n",
       "      <td>-2.035014</td>\n",
       "      <td>-0.470189</td>\n",
       "      <td>0.760535</td>\n",
       "      <td>-2.035014</td>\n",
       "    </tr>\n",
       "    <tr>\n",
       "      <th>3</th>\n",
       "      <td>-0.018235</td>\n",
       "      <td>0.343373</td>\n",
       "      <td>1.040429</td>\n",
       "      <td>-0.993466</td>\n",
       "      <td>-0.993466</td>\n",
       "    </tr>\n",
       "  </tbody>\n",
       "</table>\n",
       "</div>"
      ],
      "text/plain": [
       "          0         1         2         3       min\n",
       "0  1.057167  0.642492 -0.280820 -0.658117 -0.658117\n",
       "1  0.288150  1.767884  2.089377 -0.367981 -0.367981\n",
       "2  0.907408 -2.035014 -0.470189  0.760535 -2.035014\n",
       "3 -0.018235  0.343373  1.040429 -0.993466 -0.993466"
      ]
     },
     "execution_count": 103,
     "metadata": {},
     "output_type": "execute_result"
    }
   ],
   "source": [
    "x=np.random.standard_normal((4, 4))\n",
    "df=pd.DataFrame(x)\n",
    "df['min']=np.min(df.values,axis=1) # axis=1; column\n",
    "df"
   ]
  },
  {
   "cell_type": "markdown",
   "id": "643c4410",
   "metadata": {},
   "source": [
    "13. Create a 4*4 matrix entries from standard normal distribution.Add another row where all entries are\n",
    " NaN. Replace missing values in ’col1’ and ’col2’ columns with the irrespective mean."
   ]
  },
  {
   "cell_type": "code",
   "execution_count": 120,
   "id": "d0835623",
   "metadata": {},
   "outputs": [
    {
     "name": "stdout",
     "output_type": "stream",
     "text": [
      "Before matrix:\n",
      "       col1      col2      col3      col4\n",
      "0  0.783419 -1.418413  0.837519  0.308217\n",
      "1  0.235522  0.146144 -0.172531  0.712967\n",
      "2 -0.271967 -1.307944 -1.330137  0.806793\n",
      "3  0.395483 -0.441588  1.318296  0.884651\n",
      "4       NaN       NaN       NaN       NaN\n",
      "After matrix:\n",
      "       col1      col2      col3      col4\n",
      "0  0.783419 -1.418413  0.837519  0.308217\n",
      "1  0.235522  0.146144 -0.172531  0.712967\n",
      "2 -0.271967 -1.307944 -1.330137  0.806793\n",
      "3  0.395483 -0.441588  1.318296  0.884651\n",
      "4  0.285614 -0.755450       NaN       NaN\n"
     ]
    }
   ],
   "source": [
    "import numpy as np\n",
    "import pandas as pd\n",
    "\n",
    "# Create a 4x4 matrix with standard normal distribution\n",
    "x=np.random.standard_normal((4,4))\n",
    "df=pd.DataFrame(x, columns=['col1', 'col2', 'col3', 'col4'])\n",
    "\n",
    "# Add a row of NaNs\n",
    "df.loc[4] = np.nan\n",
    "\n",
    "print('Before matrix:')\n",
    "print(df)\n",
    "\n",
    "# Calculate mean for 'col1' and 'col2'\n",
    "meanCol1 = df['col1'].mean()\n",
    "meanCol2 = df['col2'].mean()\n",
    "\n",
    "# Replace missing values in 'col1' and 'col2' with the respective mean\n",
    "df['col1'] = df['col1'].fillna(meanCol1)\n",
    "df['col2'] = df['col2'].fillna(meanCol2)\n",
    "\n",
    "print('After matrix:')\n",
    "print(df)"
   ]
  }
 ],
 "metadata": {
  "kernelspec": {
   "display_name": "Python 3 (ipykernel)",
   "language": "python",
   "name": "python3"
  },
  "language_info": {
   "codemirror_mode": {
    "name": "ipython",
    "version": 3
   },
   "file_extension": ".py",
   "mimetype": "text/x-python",
   "name": "python",
   "nbconvert_exporter": "python",
   "pygments_lexer": "ipython3",
   "version": "3.11.4"
  }
 },
 "nbformat": 4,
 "nbformat_minor": 5
}
