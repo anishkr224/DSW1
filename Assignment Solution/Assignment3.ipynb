{
 "cells": [
  {
   "cell_type": "markdown",
   "metadata": {},
   "source": [
    "# Assignment-3\n",
    "\n",
    "Name: Anish kumar\n",
    "\n",
    "Regd. no: 2241011101\n",
    "\n",
    "Section: 2241007"
   ]
  },
  {
   "cell_type": "markdown",
   "metadata": {},
   "source": [
    "1.  In a particular jurisdiction, old format of license plates consist of three uppercase letters followed\n",
    "by three digits and new format consist of four digits followed by three uppercase letters. Write a\n",
    "program that begins by reading a string of characters from the user. Then your program should\n",
    "display a message indicating whether the characters are valid for an old style license plate or a new\n",
    "style license plate."
   ]
  },
  {
   "cell_type": "code",
   "execution_count": 11,
   "metadata": {},
   "outputs": [
    {
     "name": "stdout",
     "output_type": "stream",
     "text": [
      "ABC\n",
      "123\n"
     ]
    }
   ],
   "source": [
    "o='ABC123'\n",
    "n='1234ABC'\n",
    "print(o[:3])\n",
    "print(o[3:])"
   ]
  },
  {
   "cell_type": "code",
   "execution_count": 23,
   "metadata": {},
   "outputs": [
    {
     "name": "stdout",
     "output_type": "stream",
     "text": [
      "Enter license plates: 1234ABC\n",
      "new-style license plate\n"
     ]
    }
   ],
   "source": [
    "LP=str(input('Enter license plates: '))\n",
    "\n",
    "if len(LP)==6 and LP[:3].isalpha() and LP[:3].isupper() and LP[3:].isdigit():\n",
    "        print('old-style license plate')\n",
    "elif len(LP)==7 and LP[:4].isdigit() and LP[4:].isalpha() and LP[4:].isupper():\n",
    "        print('new-style license plate')\n",
    "else:\n",
    "        print('not valid')\n",
    "        "
   ]
  },
  {
   "cell_type": "markdown",
   "metadata": {},
   "source": [
    " 2. Check whether a string is palindrome or not(Without using inbuilt functions.)"
   ]
  },
  {
   "cell_type": "code",
   "execution_count": 67,
   "metadata": {},
   "outputs": [
    {
     "name": "stdout",
     "output_type": "stream",
     "text": [
      "Enter string: adda\n",
      "The string is a palindrome.\n"
     ]
    }
   ],
   "source": [
    "s=input('Enter string: ')\n",
    "def isPalindrome(s):\n",
    "    length=len(s)\n",
    "    for i in range(length // 2):\n",
    "        if s[i]!=s[length-1-i]:\n",
    "            return False\n",
    "    return True\n",
    "if isPalindrome(s):\n",
    "    print(\"The string is a palindrome.\")\n",
    "else:\n",
    "    print(\"The string is not a palindrome.\")"
   ]
  },
  {
   "cell_type": "markdown",
   "metadata": {},
   "source": [
    "3. Write a program that reads two positive integers from the user and uses Euclid’s algorithm to determine and report their greatest common divisor."
   ]
  },
  {
   "cell_type": "code",
   "execution_count": 28,
   "metadata": {},
   "outputs": [
    {
     "name": "stdout",
     "output_type": "stream",
     "text": [
      "Enter a:48\n",
      "Enter b:60\n",
      "GCD: 12\n"
     ]
    }
   ],
   "source": [
    "a=int(input('Enter a:'))\n",
    "b=int(input('Enter b:'))\n",
    "while(b>0):\n",
    "    r=a%b\n",
    "    a=b\n",
    "    b=r\n",
    "print('GCD:',a)"
   ]
  },
  {
   "cell_type": "markdown",
   "metadata": {},
   "source": [
    "4. Write a program that reads an integer from the user and displays a message indicating whether or not\n",
    "it is prime."
   ]
  },
  {
   "cell_type": "code",
   "execution_count": 8,
   "metadata": {},
   "outputs": [
    {
     "name": "stdout",
     "output_type": "stream",
     "text": [
      "Enter n:31\n",
      "Prime\n"
     ]
    }
   ],
   "source": [
    "n=(int)(input('Enter n:'))\n",
    "count=0\n",
    "for i in range (1,n+1):\n",
    "    if n%i==0:\n",
    "        count=count+1\n",
    "if count==2:\n",
    "    print('Prime')\n",
    "else:\n",
    "    print('Not prime')"
   ]
  },
  {
   "cell_type": "markdown",
   "metadata": {},
   "source": [
    "5. Write a function that determines whether or not a password is good. We will define a good password\n",
    "to be a one that is at least 8 characters long and contains at least one uppercase letter, at least one\n",
    "lowercase letter, and at least one number."
   ]
  },
  {
   "cell_type": "code",
   "execution_count": 15,
   "metadata": {},
   "outputs": [
    {
     "name": "stdout",
     "output_type": "stream",
     "text": [
      "Enter a password: Ram12345\n",
      "Good password!\n"
     ]
    }
   ],
   "source": [
    "import re # Regular Expression\n",
    "\n",
    "def is_good_password(password):\n",
    "    # Check if password is at least 8 characters long\n",
    "    if len(password) < 8:\n",
    "        return False\n",
    "    \n",
    "    # Check if password contains at least one uppercase letter\n",
    "    if not re.search('[A-Z]', password):\n",
    "        return False\n",
    "    \n",
    "    # Check if password contains at least one lowercase letter\n",
    "    if not re.search('[a-z]', password):\n",
    "        return False\n",
    "    \n",
    "    # Check if password contains at least one number\n",
    "    if not re.search('[0-9]', password):\n",
    "        return False\n",
    "    \n",
    "    # If all conditions are met, the password is good\n",
    "    return True\n",
    "\n",
    "password = input(\"Enter a password: \")\n",
    "if is_good_password(password):\n",
    "    print(\"Good password!\")\n",
    "else:\n",
    "    print(\"Password does not meet the criteria.\")\n"
   ]
  },
  {
   "cell_type": "markdown",
   "metadata": {},
   "source": [
    "6. Write a program to input 10 numbers. Then compute and display the sum of even numbers and\n",
    "product of odd numbers."
   ]
  },
  {
   "cell_type": "code",
   "execution_count": 27,
   "metadata": {},
   "outputs": [
    {
     "name": "stdout",
     "output_type": "stream",
     "text": [
      "Enter a no: 0\n",
      "Enter a no: 1\n",
      "Enter a no: 2\n",
      "Enter a no: 3\n",
      "Enter a no: 4\n",
      "Enter a no: 5\n",
      "Enter a no: 6\n",
      "Enter a no: 7\n",
      "Enter a no: 8\n",
      "Enter a no: 9\n",
      "sum: 20\n",
      "prod: 945\n"
     ]
    }
   ],
   "source": [
    "sum=0\n",
    "prod=1\n",
    "for i in range(1,11,1):\n",
    "    n=int(input('Enter a no: '))\n",
    "    if n%2==0:\n",
    "        sum=sum+n\n",
    "    else:\n",
    "        prod=prod*n\n",
    "    \n",
    "print('sum:',sum)\n",
    "print('prod:',prod)"
   ]
  },
  {
   "cell_type": "markdown",
   "metadata": {},
   "source": [
    "7. Write a program to compute the factorial of a number."
   ]
  },
  {
   "cell_type": "code",
   "execution_count": 1,
   "metadata": {},
   "outputs": [
    {
     "name": "stdout",
     "output_type": "stream",
     "text": [
      "Enter a no: 9\n",
      "362880\n"
     ]
    }
   ],
   "source": [
    "n=int(input('Enter a no: '))\n",
    "fact=1\n",
    "for i in range(1,n+1):\n",
    "    fact=fact*i\n",
    "print(fact)"
   ]
  },
  {
   "cell_type": "markdown",
   "metadata": {},
   "source": [
    "8. Write a Python Program to Count the Number of Occurrence of a Character in String, without using\n",
    "str.count() method."
   ]
  },
  {
   "cell_type": "code",
   "execution_count": 47,
   "metadata": {},
   "outputs": [
    {
     "name": "stdout",
     "output_type": "stream",
     "text": [
      "Enter string: anish\n",
      "Enter a character to count the number of occurrence in string: a\n",
      "The character 'a' appears '1' times in the string.\n"
     ]
    }
   ],
   "source": [
    "string=str(input('Enter string: '))\n",
    "character=input('Enter a character to count the number of occurrence in string: ')\n",
    "count=0\n",
    "for i in range (len(string)):\n",
    "    if s[i]==character:\n",
    "        count=count+1\n",
    "print(f\"The character '{character}' appears '{count}' times in the string.\")"
   ]
  },
  {
   "cell_type": "markdown",
   "metadata": {},
   "source": [
    "9. Write a program to generate prime numbers in a certain range input by the user. if (number break\n",
    "else: print (number)"
   ]
  },
  {
   "cell_type": "code",
   "execution_count": 11,
   "metadata": {},
   "outputs": [
    {
     "name": "stdout",
     "output_type": "stream",
     "text": [
      "Enter n:10\n",
      "2\n",
      "3\n",
      "5\n",
      "7\n"
     ]
    }
   ],
   "source": [
    "n=(int)(input('Enter n:'))\n",
    "for num in range (2,n+1):\n",
    "        for i in range(2,num):\n",
    "            if(num%i)==0:\n",
    "                break\n",
    "        else:\n",
    "            print(num)"
   ]
  },
  {
   "cell_type": "markdown",
   "metadata": {},
   "source": [
    "10. Write a program to reverse the digits of a number.(You should not use any string methods.)"
   ]
  },
  {
   "cell_type": "code",
   "execution_count": 22,
   "metadata": {},
   "outputs": [
    {
     "name": "stdout",
     "output_type": "stream",
     "text": [
      "Enter n:922\n",
      "Reverse: 229\n"
     ]
    }
   ],
   "source": [
    "n=(int)(input('Enter n:'))\n",
    "sum=0\n",
    "while(n>0):\n",
    "    r=n%10\n",
    "    sum=sum*10+r\n",
    "    n=n//10\n",
    "print('Reverse:',sum)\n",
    "    "
   ]
  },
  {
   "cell_type": "markdown",
   "metadata": {},
   "source": [
    "11. Write a program to determine an Armstrong number."
   ]
  },
  {
   "cell_type": "code",
   "execution_count": 3,
   "metadata": {},
   "outputs": [
    {
     "name": "stdout",
     "output_type": "stream",
     "text": [
      "Enter a Number to check either Armstrong or not : 153\n",
      "Armstrong\n"
     ]
    }
   ],
   "source": [
    "n=int(input('Enter a Number to check either Armstrong or not : '))\n",
    "s=0\n",
    "l=len(str(n))\n",
    "m=n\n",
    "while(m>0) : \n",
    "    s=s+(m%10)**l\n",
    "    m=m//10\n",
    "if s == n:\n",
    "    print('Armstrong')\n",
    "else :\n",
    "    print('Not Armstrong')"
   ]
  },
  {
   "cell_type": "markdown",
   "metadata": {},
   "source": [
    " 12. Write a program that prompts the user for an integer number and then prints all it’s factors."
   ]
  },
  {
   "cell_type": "code",
   "execution_count": 47,
   "metadata": {},
   "outputs": [
    {
     "name": "stdout",
     "output_type": "stream",
     "text": [
      "Enter number:56\n",
      "Factors of 56 are:\n",
      "1\n",
      "2\n",
      "4\n",
      "7\n",
      "8\n",
      "14\n",
      "28\n",
      "56\n"
     ]
    }
   ],
   "source": [
    "n=(int)(input('Enter number:'))\n",
    "print(f'Factors of {n} are:')\n",
    "for i in range (1,n+1,1):\n",
    "    if (n%i)==0:\n",
    "        print(i)"
   ]
  },
  {
   "cell_type": "markdown",
   "metadata": {},
   "source": [
    "13. Write a program that prompts a number from the user and generates the Fibonacci sequence up to that\n",
    "number. The Fibonacci sequence is given as under: 0, 1, 1, 2, 3, 5, 8, ....."
   ]
  },
  {
   "cell_type": "code",
   "execution_count": 14,
   "metadata": {},
   "outputs": [
    {
     "name": "stdout",
     "output_type": "stream",
     "text": [
      "Enter the nth value: 10\n",
      "Fibonacci Series :  0 1 1 2 3 5 8 "
     ]
    }
   ],
   "source": [
    "n = int(input(\"Enter the nth value: \"))\n",
    "a = 0\n",
    "b = 1\n",
    "sum = 0\n",
    "print(\"Fibonacci Series : \", end = \" \")\n",
    "while(sum <= n):\n",
    "     print(sum, end = \" \")\n",
    "     a = b\n",
    "     b = sum\n",
    "     sum = a + b"
   ]
  },
  {
   "cell_type": "markdown",
   "metadata": {},
   "source": [
    " 14. Write a python program to find the area of a triangle whose three sides are given."
   ]
  },
  {
   "cell_type": "code",
   "execution_count": 88,
   "metadata": {},
   "outputs": [
    {
     "name": "stdout",
     "output_type": "stream",
     "text": [
      "Enter a:8\n",
      "Enter b:3\n",
      "Enter c:9\n",
      "Area: 11.832159566199232\n"
     ]
    }
   ],
   "source": [
    "import math\n",
    "a=int(input('Enter a:'))\n",
    "b=int(input('Enter b:'))\n",
    "c=int(input('Enter c:'))\n",
    "s=(a+b+c)/2\n",
    "area=math.sqrt(s*(s-a)*(s-b)*(s-c))\n",
    "print(f\"Area: {area}\")"
   ]
  },
  {
   "cell_type": "markdown",
   "metadata": {},
   "source": [
    "15. Write a python program to find out the average of a set of integers"
   ]
  },
  {
   "cell_type": "code",
   "execution_count": 103,
   "metadata": {},
   "outputs": [
    {
     "name": "stdout",
     "output_type": "stream",
     "text": [
      "Enter the number of integers you want to average: 4\n",
      "Enter integer 1: 2\n",
      "Enter integer 2: 4\n",
      "Enter integer 3: 6\n",
      "Enter integer 4: 8\n",
      "Average: 5.0\n"
     ]
    }
   ],
   "source": [
    "n=int(input('Enter the number of integers you want to average: '))\n",
    "total=0\n",
    "for i in range (1,n+1):\n",
    "    x=(int)(input(f\"Enter integer {i}: \"))\n",
    "    total=total+x\n",
    "average=total/n\n",
    "print(f\"Average: {average}\")"
   ]
  },
  {
   "cell_type": "markdown",
   "metadata": {},
   "source": [
    "16. Write a python program to find the sum of the digits of an integer using a while loop."
   ]
  },
  {
   "cell_type": "code",
   "execution_count": 90,
   "metadata": {},
   "outputs": [
    {
     "name": "stdout",
     "output_type": "stream",
     "text": [
      "Enter number:198\n",
      "Sum: 18\n"
     ]
    }
   ],
   "source": [
    "n=(int)(input('Enter number:'))\n",
    "sum=0\n",
    "while(n>0):\n",
    "    r=n%10\n",
    "    sum=sum+r\n",
    "    n=n//10\n",
    "print(f\"Sum: {sum}\")"
   ]
  },
  {
   "cell_type": "markdown",
   "metadata": {},
   "source": [
    "17. Write a python program to display all integers within the range 100-200 whose sum of digits is an\n",
    "even number."
   ]
  },
  {
   "cell_type": "code",
   "execution_count": 13,
   "metadata": {},
   "outputs": [
    {
     "name": "stdout",
     "output_type": "stream",
     "text": [
      "All integers within the range 100-200 whose sum of digits is an even number is= ['101', '103', '105', '107', '109', '110', '112', '114', '116', '118', '121', '123', '125', '127', '129', '130', '132', '134', '136', '138', '141', '143', '145', '147', '149', '150', '152', '154', '156', '158', '161', '163', '165', '167', '169', '170', '172', '174', '176', '178', '181', '183', '185', '187', '189', '190', '192', '194', '196', '198', '200']\n"
     ]
    }
   ],
   "source": [
    "l=[]\n",
    "for i in range(100,201,1):\n",
    "    i=str(i)\n",
    "    sum=0\n",
    "    for j in i:\n",
    "        j=int(j)\n",
    "        sum=sum+j\n",
    "    if sum%2==0:\n",
    "        l.append(i)\n",
    "print('All integers within the range 100-200 whose sum of digits is an even number is=',l)"
   ]
  },
  {
   "cell_type": "markdown",
   "metadata": {},
   "source": [
    "18. Write a python program that takes two numbers as input parameters and returns True or False depending on whether they are co-primes. Two numbers are called co-prime if they don’t have any common\n",
    "divisor other than one."
   ]
  },
  {
   "cell_type": "code",
   "execution_count": 5,
   "metadata": {},
   "outputs": [
    {
     "name": "stdout",
     "output_type": "stream",
     "text": [
      "Enter x:8\n",
      "Enter y:9\n",
      "n: {8, 1, 2, 4}\n",
      "m: {1, 3, 9}\n",
      "common divisor: {1}\n",
      "co-prime\n"
     ]
    }
   ],
   "source": [
    "n=set()\n",
    "m=set()\n",
    "x=(int)(input('Enter x:'))\n",
    "y=(int)(input('Enter y:'))\n",
    "for i in range(1,x+1):\n",
    "    if (x%i==0):\n",
    "        n.add(i)\n",
    "for i in range(1,y+1):\n",
    "    if (y%i==0):\n",
    "        m.add(i)\n",
    "print('n:',n)\n",
    "print('m:',m)\n",
    "l=len(n.intersection(m))\n",
    "\n",
    "print('common divisor:',(n.intersection(m)))\n",
    "if(l==1):\n",
    "    print('co-prime')\n",
    "else:\n",
    "    print('not co-prime')"
   ]
  },
  {
   "cell_type": "markdown",
   "metadata": {},
   "source": [
    "19. (FizzBuzz Game in Python)Assume you are given the number ’n,’ and asked to display the string\n",
    "representations of all the numbers from 1 to n. However, there are some restrictions, such as:\n",
    "\n",
    "    – If the number can be divided by 3, it will output Fizz instead of the number.\n",
    "\n",
    "    – If the number is divisible by 5, the result will display Buzz instead of the number.\n",
    "\n",
    "    – If the given number is divisible by both 3 and 5, Fizz Buzz will be printed instead of the number.\n",
    "\n",
    "    – If the number cannot be divided by 3 or 5, it will be printed as a string."
   ]
  },
  {
   "cell_type": "code",
   "execution_count": 9,
   "metadata": {},
   "outputs": [
    {
     "name": "stdout",
     "output_type": "stream",
     "text": [
      "Enter no:9\n",
      "FizzBuzz\n",
      "1\n",
      "2\n",
      "Fizz\n",
      "4\n",
      "Buzz\n",
      "Fizz\n",
      "7\n",
      "8\n",
      "Fizz\n"
     ]
    }
   ],
   "source": [
    "n=(int)(input('Enter no:'))\n",
    "for i in range(n+1):\n",
    "    if (i%3==0 and i%5==0):\n",
    "        print('FizzBuzz')\n",
    "        continue\n",
    "    elif(i%3==0):\n",
    "        print('Fizz')\n",
    "        continue\n",
    "    elif(i%5==0):\n",
    "        print('Buzz')\n",
    "        continue\n",
    "    else:\n",
    "        print(i)"
   ]
  },
  {
   "cell_type": "markdown",
   "metadata": {},
   "source": [
    "*20. (Rock-Paper-Scissor)Create a simple command-line Rock-Paper-Scissor game without using any external game libraries like PyGame. In this game, the user gets the first chance to pick the option between Rock, paper, and scissors. After the computer select from the remaining two choices(randomly),\n",
    "the winner is decided as per the rules.\n",
    "\n",
    "    – Rock smashes scissors.(Rock wins over scissors)\n",
    "\n",
    "    – Paper covers rock.(Paper wins over Rock)\n",
    "\n",
    "    – Scissors cut paper.(Scissors win over paper)\n"
   ]
  },
  {
   "cell_type": "code",
   "execution_count": 68,
   "metadata": {},
   "outputs": [
    {
     "name": "stdout",
     "output_type": "stream",
     "text": [
      "Enter your choice :1\n",
      "User choice is: Scissor\n",
      "Computer choice is: scissoR\n",
      "It's a tie.\n"
     ]
    }
   ],
   "source": [
    "import random\n",
    "\n",
    "choice=int(input(\"Enter your choice :\"))\n",
    "\n",
    "while choice > 3 or choice <1:\n",
    "    choice=int(input('Enter a valid choice please:'))\n",
    "\n",
    "if choice == 1:\n",
    "    choiceName= 'Scissor'\n",
    "elif choice == 2:\n",
    "    choiceName= 'Rock'\n",
    "elif choice==3:\n",
    "    choiceName= 'Paper'\n",
    "    \n",
    "print('User choice is:',choiceName)\n",
    "\n",
    "compChoice = random.randint(1,3)\n",
    "\n",
    "if compChoice == 1:\n",
    "    compChoiceName = 'scissoR'\n",
    "elif compChoice == 2:\n",
    "    compChoiceName = 'RocK'\n",
    "elif compChoice == 3:\n",
    "    compChoiceName = 'PapeR'\n",
    "print(\"Computer choice is:\", compChoiceName)\n",
    "\n",
    "if choice == compChoice:\n",
    "    print('It\\'s a tie.')\n",
    "else:\n",
    "    if(choice==3 and compChoice==1):\n",
    "        print('The computer won.')\n",
    "    elif (choice==1 and compChoice==3):\n",
    "        print('You won.')\n",
    "    elif (choice<compChoice):\n",
    "        print('The computer won.')\n",
    "    else:\n",
    "        print('You won.')"
   ]
  },
  {
   "cell_type": "markdown",
   "metadata": {},
   "source": [
    "*21. (Coin flip simulation) What’s the minimum number of times you have to flip a coin before you can\n",
    "have three consecutive flips that result in the same outcome (either all three are heads or all three are\n",
    "tails)? How many flips are needed on average?(Experiment by doing the experiment for 10 times).\n",
    "Display an H each time the outcome is heads, and a T each time the outcome is tails, with all of the\n",
    "outcomes for one simulation on the same line. Then display the number of flips that were needed to\n",
    "reach 3 consecutive occurrences of the same outcome."
   ]
  },
  {
   "cell_type": "code",
   "execution_count": 8,
   "metadata": {},
   "outputs": [
    {
     "name": "stdout",
     "output_type": "stream",
     "text": [
      "H L H H H ( 5 flips)\n",
      "L L L ( 3 flips)\n",
      "H H H ( 3 flips)\n",
      "L H L L H H L H H H ( 10 flips)\n",
      "L L L ( 3 flips)\n",
      "H H H ( 3 flips)\n",
      "H H H ( 3 flips)\n",
      "H H L L L ( 5 flips)\n",
      "H L H L H H L H L H L H L L L ( 15 flips)\n",
      "H H L L L ( 5 flips)\n",
      "L \n",
      "Average: 5.5\n"
     ]
    }
   ],
   "source": [
    "import random\n",
    "SST=[\"H\",\"L\"]\n",
    "curr=\"\"\n",
    "flipsCount=0\n",
    "sum=0\n",
    "count=0\n",
    "while(count<10):\n",
    "    flipResult=random.choice(SST)\n",
    "    if len(curr) >= 3:\n",
    "        while curr[-3] == curr[-2] == curr[-1]:\n",
    "            sum=sum+flipsCount\n",
    "            print('(',flipsCount,'flips)')\n",
    "            count=count+1\n",
    "            flipsCount=0\n",
    "            curr=\"\"\n",
    "            break\n",
    "    curr=curr+flipResult\n",
    "    flipsCount=flipsCount+1\n",
    "    print(flipResult, end=\" \")\n",
    "avg=sum/10\n",
    "print('\\nAverage:', avg)"
   ]
  },
  {
   "cell_type": "markdown",
   "metadata": {},
   "source": [
    "*22. (Guessing game problem) Write a program to select a random number between 1 and 10 and the user\n",
    "has to guess it in 5 attempts. Based on the user’s guess computer will give various hints if the number\n",
    "is high or low. When the user guess matches the number computer will print the answer along with\n",
    "the number of attempts."
   ]
  },
  {
   "cell_type": "code",
   "execution_count": 9,
   "metadata": {},
   "outputs": [
    {
     "name": "stdout",
     "output_type": "stream",
     "text": [
      "Enter no: 9\n",
      "Found, No of attempts: 1 ,Random no: 9\n"
     ]
    }
   ],
   "source": [
    "import random\n",
    "n=random.randint(1, 10)\n",
    "c=1\n",
    "while(c<=5):\n",
    "    x=int(input('Enter no: '))\n",
    "    if(x==n):\n",
    "        print('Found, No of attempts:',c,',Random no:',n)\n",
    "        break\n",
    "        c=c+1\n",
    "    elif(x>n):\n",
    "        print('High,','No of attempts left:',(5-c))\n",
    "        c=c+1\n",
    "    elif(x<n):\n",
    "        print('Low,','No of attempts left:',(5-c))\n",
    "        c=c+1\n",
    "    else:\n",
    "        c=c+1"
   ]
  }
 ],
 "metadata": {
  "kernelspec": {
   "display_name": "Python 3 (ipykernel)",
   "language": "python",
   "name": "python3"
  },
  "language_info": {
   "codemirror_mode": {
    "name": "ipython",
    "version": 3
   },
   "file_extension": ".py",
   "mimetype": "text/x-python",
   "name": "python",
   "nbconvert_exporter": "python",
   "pygments_lexer": "ipython3",
   "version": "3.11.4"
  }
 },
 "nbformat": 4,
 "nbformat_minor": 2
}
