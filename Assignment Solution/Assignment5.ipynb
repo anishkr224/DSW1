{
 "cells": [
  {
   "cell_type": "markdown",
   "id": "c5c4189d",
   "metadata": {},
   "source": [
    "# Assignment-5\n",
    "\n",
    "Name: Anish kumar\n",
    "\n",
    "Regd. no: 2241011101\n",
    "\n",
    "Section: 2241007"
   ]
  },
  {
   "cell_type": "markdown",
   "id": "0592cd86",
   "metadata": {},
   "source": [
    "1. Find the index of the 5\n",
    "th repetition of number 1 in x= np.array([1, 2, 1, 1, 3, 4, 3, 1, 1, 2, 1, 1, 2])."
   ]
  },
  {
   "cell_type": "code",
   "execution_count": 1,
   "id": "05e8e40a",
   "metadata": {},
   "outputs": [
    {
     "name": "stdout",
     "output_type": "stream",
     "text": [
      "the index of the 5'th repetition of number 1 in x is: 8\n"
     ]
    }
   ],
   "source": [
    "import numpy as np\n",
    "x= np.array([1, 2, 1, 1, 3, 4, 3, 1, 1, 2, 1, 1, 2])\n",
    "n=len(x)\n",
    "c=0\n",
    "for i in range (n):\n",
    "    if x[i]==1:\n",
    "        c=c+1\n",
    "    if c==5:\n",
    "        print(\"the index of the 5'th repetition of number 1 in x is:\",i)\n",
    "        break"
   ]
  },
  {
   "cell_type": "markdown",
   "id": "c6834f44",
   "metadata": {},
   "source": [
    "2. Compute the Euclidean distance between two arrays a = np.array([1,2,3]) b = np.array([4,5,6])."
   ]
  },
  {
   "cell_type": "code",
   "execution_count": 26,
   "id": "f09abe24",
   "metadata": {},
   "outputs": [
    {
     "name": "stdout",
     "output_type": "stream",
     "text": [
      "Euclidean distance between two arrays a and b is: 5.196152422706632\n"
     ]
    }
   ],
   "source": [
    "a = np.array([1,2,3])\n",
    "b = np.array([4,5,6])\n",
    "EucDis=((b[0]-a[0])**2+(b[1]-a[1])**2+(b[2]-a[2])**2)**0.5\n",
    "print('Euclidean distance between two arrays a and b is:',EucDis)"
   ]
  },
  {
   "cell_type": "markdown",
   "id": "e596b55d",
   "metadata": {},
   "source": [
    "3. (a) Replace all odd numbers in the array with -1 without changing the array.\n",
    "\n",
    "   "
   ]
  },
  {
   "cell_type": "code",
   "execution_count": 78,
   "id": "426e8e81",
   "metadata": {},
   "outputs": [
    {
     "name": "stdout",
     "output_type": "stream",
     "text": [
      "array befor: [0 1 2 3 4 5 6 7 8 9]\n",
      "array after: [ 0 -1  2 -1  4 -1  6 -1  8 -1]\n"
     ]
    }
   ],
   "source": [
    "import numpy as np\n",
    "x=np.arange(10)\n",
    "print('array befor:',x)\n",
    "for i in range(len(x)):\n",
    "    if x[i]%2!=0:\n",
    "        x[i]=-1\n",
    "print('array after:',x)\n",
    "        "
   ]
  },
  {
   "cell_type": "code",
   "execution_count": 85,
   "id": "d9980020",
   "metadata": {},
   "outputs": [
    {
     "name": "stdout",
     "output_type": "stream",
     "text": [
      "array befor:\n",
      " [[ 0  1  2  3]\n",
      " [ 4  5  6  7]\n",
      " [ 8  9 10 11]\n",
      " [12 13 14 15]]\n",
      "array after:\n",
      " [[ 0 -1  2 -1]\n",
      " [ 4 -1  6 -1]\n",
      " [ 8 -1 10 -1]\n",
      " [12 -1 14 -1]]\n"
     ]
    }
   ],
   "source": [
    "import numpy as np\n",
    "a=np.arange(16).reshape(4,4)\n",
    "print('array befor:\\n',a)\n",
    "for i in range(len(a)):\n",
    "    for j in range(len(a[0])):\n",
    "        if a[i,j]%2!=0:\n",
    "            a[i,j]=-1\n",
    "print('array after:\\n',a)"
   ]
  },
  {
   "cell_type": "markdown",
   "id": "5464d0a5",
   "metadata": {},
   "source": [
    "3. (b) From the array a, replace all values greater than 30 to 30 and less than 10 to 10."
   ]
  },
  {
   "cell_type": "code",
   "execution_count": 96,
   "id": "097c7cec",
   "metadata": {},
   "outputs": [
    {
     "name": "stdout",
     "output_type": "stream",
     "text": [
      "array befor:\n",
      " [[25 33 31 48]\n",
      " [33 20 13 16]\n",
      " [ 7 21 36 21]\n",
      " [24 34 29 48]]\n",
      "array after:\n",
      " [[25 30 30 30]\n",
      " [30 20 13 16]\n",
      " [10 21 30 21]\n",
      " [24 30 29 30]]\n"
     ]
    }
   ],
   "source": [
    "import numpy as np\n",
    "a=np.random.randint(1,50,(4,4))\n",
    "print('array befor:\\n',a)\n",
    "for i in range(len(a)):\n",
    "    for j in range(len(a[0])):\n",
    "        if a[i,j]>30:\n",
    "            a[i,j]=30\n",
    "        if a[i,j]<10:\n",
    "            a[i,j]=10\n",
    "print('array after:\\n',a)"
   ]
  },
  {
   "cell_type": "markdown",
   "id": "e19be529",
   "metadata": {},
   "source": [
    "4. Create a 4*4 matrix with entries from uniform distribution data in the interval 10 to 20. Normalize\n",
    "the matrix so that the minimum has a value of 0 and the maximum has a value of 1."
   ]
  },
  {
   "cell_type": "code",
   "execution_count": 2,
   "id": "ea782a4d",
   "metadata": {},
   "outputs": [
    {
     "name": "stdout",
     "output_type": "stream",
     "text": [
      "Original Matrix:\n",
      "[[16.50328516 18.83861887 10.45934398 13.60133176]\n",
      " [12.23268581 10.7720802  10.32801165 16.6119219 ]\n",
      " [12.25386747 17.52757919 18.80561155 18.70116084]\n",
      " [17.2345411  13.21945026 12.62188333 14.66132741]]\n",
      "\n",
      "Normalized Matrix:\n",
      "[[0.72559729 1.         0.0154316  0.38461652]\n",
      " [0.22380003 0.05217825 0.         0.73836215]\n",
      " [0.22628889 0.84595227 0.99612163 0.98384862]\n",
      " [0.81152017 0.33974528 0.26953091 0.50916646]]\n"
     ]
    }
   ],
   "source": [
    "import numpy as np\n",
    "matrix=np.random.uniform(10,20,size=(4,4))\n",
    "print(\"Original Matrix:\")\n",
    "print(matrix)\n",
    "normalizes_matrix=(matrix-np.min(matrix))/(np.max(matrix)-np.min(matrix))\n",
    "print(\"\\nNormalized Matrix:\")\n",
    "print(normalizes_matrix)"
   ]
  },
  {
   "cell_type": "markdown",
   "id": "dbd484fc",
   "metadata": {},
   "source": [
    "5. Find the mean, median, and standard deviation of a 1-d array."
   ]
  },
  {
   "cell_type": "code",
   "execution_count": 125,
   "id": "e49a1103",
   "metadata": {},
   "outputs": [
    {
     "name": "stdout",
     "output_type": "stream",
     "text": [
      "array: [1 2 3 4 5]\n",
      "mean: 3.0\n",
      "median: 3.0\n",
      "standard deviation: 1.4142135623730951\n"
     ]
    }
   ],
   "source": [
    "x=np.array([1,2,3,4,5])\n",
    "print('array:',x)\n",
    "mean=np.mean(x)\n",
    "print('mean:',mean)\n",
    "median=np.median(x)\n",
    "print('median:',median)\n",
    "standard_deviation=np.std(x)\n",
    "print('standard deviation:',standard_deviation)"
   ]
  },
  {
   "cell_type": "markdown",
   "id": "fc9fc4d4",
   "metadata": {},
   "source": [
    "6. Get all items between 5 and 10 from a. Input: a= [2, 6, 1, 9, 10, 3, 27]."
   ]
  },
  {
   "cell_type": "code",
   "execution_count": 134,
   "id": "de962f23",
   "metadata": {},
   "outputs": [
    {
     "name": "stdout",
     "output_type": "stream",
     "text": [
      "6\n",
      "9\n"
     ]
    }
   ],
   "source": [
    "a= [2, 6, 1, 9, 10, 3, 27]\n",
    "for i in range(len(a)):\n",
    "    if a[i]>5 and a[i]<10:\n",
    "        print(a[i])"
   ]
  },
  {
   "cell_type": "markdown",
   "id": "cdcfe32c",
   "metadata": {},
   "source": [
    "7. Convert a 1D array to a 2D array with 2 rows."
   ]
  },
  {
   "cell_type": "code",
   "execution_count": 4,
   "id": "deea7bcb",
   "metadata": {},
   "outputs": [
    {
     "name": "stdout",
     "output_type": "stream",
     "text": [
      "1D array is: [0, 1, 2, 3, 4, 5, 6, 7, 8, 9]\n",
      "2D array is:\n",
      " [[0 1 2 3 4]\n",
      " [5 6 7 8 9]]\n"
     ]
    }
   ],
   "source": [
    "a=[0,1,2,3,4,5,6,7,8,9]\n",
    "print('1D array is:',a)\n",
    "x=np.array(a).reshape(2,5)\n",
    "print('2D array is:\\n',x)"
   ]
  },
  {
   "cell_type": "markdown",
   "id": "3812b253",
   "metadata": {},
   "source": [
    "8. Create a 2D array and swap the first two rows and two columns."
   ]
  },
  {
   "cell_type": "code",
   "execution_count": 2,
   "id": "dee68717",
   "metadata": {},
   "outputs": [
    {
     "name": "stdout",
     "output_type": "stream",
     "text": [
      "Original Matrix:\n",
      " [[1 2 3]\n",
      " [4 5 6]\n",
      " [7 8 9]]\n",
      "after swaping the first two rows:\n",
      " [[4 5 6]\n",
      " [1 2 3]\n",
      " [7 8 9]]\n",
      "after swaping the first two columns:\n",
      " [[2 1 3]\n",
      " [5 4 6]\n",
      " [8 7 9]]\n"
     ]
    }
   ],
   "source": [
    "import numpy as np\n",
    "x=np.arange(1,10).reshape(3,3)\n",
    "print(\"Original Matrix:\\n\",x)\n",
    "r=x[[1,0,2]]\n",
    "print('after swaping the first two rows:\\n',r)\n",
    "c=x[:,[1,0,2]]\n",
    "print('after swaping the first two columns:\\n',c)"
   ]
  },
  {
   "cell_type": "code",
   "execution_count": 125,
   "id": "9e7ddb4f",
   "metadata": {},
   "outputs": [
    {
     "name": "stdout",
     "output_type": "stream",
     "text": [
      "Original Matrix:\n",
      " [[ 0  1  2  3]\n",
      " [ 4  5  6  7]\n",
      " [ 8  9 10 11]\n",
      " [12 13 14 15]]\n",
      "after swaping the first two rows:\n",
      " [[ 4  5  6  7]\n",
      " [ 0  1  2  3]\n",
      " [ 8  9 10 11]\n",
      " [12 13 14 15]]\n",
      "after swaping the first two coulmns:\n",
      " [[ 1  0  2  3]\n",
      " [ 5  4  6  7]\n",
      " [ 9  8 10 11]\n",
      " [13 12 14 15]]\n"
     ]
    }
   ],
   "source": [
    "import numpy as np\n",
    "x=np.arange(16).reshape(4,4)\n",
    "print(\"Original Matrix:\\n\",x)\n",
    "r=x[[1,0,2,3]]\n",
    "print('after swaping the first two rows:\\n',r)\n",
    "x[:,[0,1]]=x[:,[1,0]]\n",
    "print('after swaping the first two coulmns:\\n',x)"
   ]
  },
  {
   "cell_type": "markdown",
   "id": "2fd9b58c",
   "metadata": {},
   "source": [
    "9. Find the most frequent values in an array of positive integers.\n",
    "\n",
    "   The original array is [6 9 5 1 7 5 1 0 1 5 5 0 8 9 0 7 0 7 6 5 1 1 9 5 3 8 7 9 6 3 4 5 9 7 2 7 0 2 2 6]."
   ]
  },
  {
   "cell_type": "code",
   "execution_count": 3,
   "id": "160afa09",
   "metadata": {},
   "outputs": [
    {
     "name": "stdout",
     "output_type": "stream",
     "text": [
      "Most freuent value: 5\n"
     ]
    }
   ],
   "source": [
    "x=[6,9,5,1,7,5,1,0,1,5,5,0,8,9,0,7,0,7,6,5,1,1,9,5,3,8,7,9,6,3,4,5,9,7,2,7,0,2,2,6]\n",
    "maxcount=0\n",
    "mostFreuentValue=0\n",
    "for i in range(len(x)):\n",
    "    count=0\n",
    "    for j in range(len(x)):\n",
    "        if x[i]==x[j]:\n",
    "            count=count+1\n",
    "    if count>maxcount:\n",
    "        maxcount=count\n",
    "        mostFreuentValue=x[i]\n",
    "print('Most freuent value:',mostFreuentValue)"
   ]
  },
  {
   "cell_type": "markdown",
   "id": "aa4339ed",
   "metadata": {},
   "source": [
    "10. Create a symmetric matrix of order 4*4, whose items are taken from a standard normal distribution.\n",
    "\n",
    "    symmetric matrix: a square matrix that is equal to its transpose"
   ]
  },
  {
   "cell_type": "code",
   "execution_count": 112,
   "id": "bf03af65",
   "metadata": {},
   "outputs": [
    {
     "name": "stdout",
     "output_type": "stream",
     "text": [
      "Original Matrix:\n",
      "[[-0.66920273  1.16193732  1.55285978 -0.43951788]\n",
      " [-0.40791535  0.26162306  0.01214651  0.93093408]\n",
      " [-0.52318809  0.94914299 -0.2392248   0.85397471]\n",
      " [-0.27104046 -0.61309468  1.91231764  1.06522708]]\n",
      "Symmetric Matrix:\n",
      " [[-0.66920273  0.37701098  0.51483584 -0.35527917]\n",
      " [ 0.37701098  0.26162306  0.48064475  0.1589197 ]\n",
      " [ 0.51483584  0.48064475 -0.2392248   1.38314618]\n",
      " [-0.35527917  0.1589197   1.38314618  1.06522708]]\n"
     ]
    }
   ],
   "source": [
    "matrix=np.random.normal(size=(4,4))\n",
    "print(\"Original Matrix:\")\n",
    "print(matrix)\n",
    "matrixTranspose=matrix.T\n",
    "S=(matrix+matrixTranspose)/2\n",
    "print('Symmetric Matrix:\\n', S)"
   ]
  },
  {
   "cell_type": "markdown",
   "id": "c969ada2",
   "metadata": {},
   "source": [
    "11. In a cricket match, a batsman scores any one of {1, 2, 3, 4, 6, 0}. When he scores 0, it will be considered as ”OUT”. If he will face 50 balls maximum, then find the score that he will make before getting\n",
    "”OUT”. Draw the plot of the run scored by the batsman."
   ]
  },
  {
   "cell_type": "code",
   "execution_count": 5,
   "id": "77260877",
   "metadata": {},
   "outputs": [
    {
     "name": "stdout",
     "output_type": "stream",
     "text": [
      "ball played: 7\n",
      "run scored at each ball: [2, 2, 3, 1, 3, 1, 0]\n",
      "total run scored: 12\n"
     ]
    },
    {
     "data": {
      "image/png": "[encoded data removed]",
      "text/plain": [
       "<Figure size 640x480 with 1 Axes>"
      ]
     },
     "metadata": {},
     "output_type": "display_data"
    }
   ],
   "source": [
    "import matplotlib.pyplot as plt\n",
    "import numpy as np\n",
    "l=[]\n",
    "sum=0\n",
    "ballPlayed=0\n",
    "for i in range(1,51):\n",
    "    \n",
    "    x=np.random.randint(0,7)\n",
    "    l.append(x)\n",
    "    if x==0:\n",
    "        ballPlayed=ballPlayed+1\n",
    "        break\n",
    "    else:\n",
    "        sum=sum+x\n",
    "        ballPlayed=ballPlayed+1\n",
    "print('ball played:',ballPlayed)\n",
    "print('run scored at each ball:',l)\n",
    "print('total run scored:',sum)\n",
    "\n",
    "plt.plot(np.cumsum(l[:sum]))\n",
    "plt.xlabel(\"Balls Faced\")\n",
    "plt.ylabel(\"Run Scored\")\n",
    "plt.title(\"Run Scored by the Batsman\")\n",
    "plt.show()"
   ]
  },
  {
   "cell_type": "markdown",
   "id": "b6b06787",
   "metadata": {},
   "source": [
    "12. Compute the cross product of two 3*3 matrices."
   ]
  },
  {
   "cell_type": "code",
   "execution_count": 52,
   "id": "16982c76",
   "metadata": {},
   "outputs": [
    {
     "name": "stdout",
     "output_type": "stream",
     "text": [
      "matrix1:\n",
      " [[1 2 3]\n",
      " [4 5 6]\n",
      " [7 8 9]]\n",
      "matrix1:\n",
      " [[1 2 1]\n",
      " [2 4 6]\n",
      " [7 2 5]]\n",
      "cross product:\n",
      " [[ 26  16  28]\n",
      " [ 56  40  64]\n",
      " [ 86  64 100]]\n",
      "\n",
      " [[ 26  16  28]\n",
      " [ 56  40  64]\n",
      " [ 86  64 100]]\n",
      "\n",
      " [[ -4   2   0]\n",
      " [  6 -12   6]\n",
      " [ 22  28 -42]]\n"
     ]
    }
   ],
   "source": [
    "x=[1,2,3,4,5,6,7,8,9]\n",
    "y=[1,2,1,2,4,6,7,2,5]\n",
    "x1=np.array(x).reshape(3,3)\n",
    "y1=np.array(y).reshape(3,3)\n",
    "print('matrix1:\\n',x1)\n",
    "print('matrix1:\\n',y1)\n",
    "z1=x1@y1\n",
    "z2=np.matmul(x1,y1)\n",
    "z3=np.cross(x1,y1)\n",
    "print('cross product:\\n',z1)\n",
    "print('\\n',z2)\n",
    "print('\\n',z3)"
   ]
  },
  {
   "cell_type": "markdown",
   "id": "dbbaaa52",
   "metadata": {},
   "source": [
    "13. Write a NumPy program to sort the student id with increasing height of the students from the given\n",
    "student id and height. Print the integer indices that describe the sort order by multiple columns and\n",
    "the sorted data."
   ]
  },
  {
   "cell_type": "code",
   "execution_count": 4,
   "id": "8d46a0b0",
   "metadata": {},
   "outputs": [
    {
     "name": "stdout",
     "output_type": "stream",
     "text": [
      "Sorted indices:\n",
      "[4 0 5 3 1 6 2]\n",
      "Sorted data:\n",
      "1105 138\n",
      "1101 140\n",
      "1106 140\n",
      "1104 141\n",
      "1102 142\n",
      "1107 142\n",
      "1103 145\n"
     ]
    }
   ],
   "source": [
    "import numpy as np\n",
    "studentId = np.array([1101, 1102, 1103, 1104, 1105, 1106, 1107])\n",
    "studentHeight = np.array([140, 142, 145, 141, 138, 140, 142])\n",
    "indices = np.lexsort((studentId, studentHeight))\n",
    "print(\"Sorted indices:\")\n",
    "print(indices)\n",
    "print(\"Sorted data:\")\n",
    "for n in indices:\n",
    "    print(studentId[n], studentHeight[n])"
   ]
  },
  {
   "cell_type": "markdown",
   "id": "448637be",
   "metadata": {},
   "source": [
    "14. Return array of odd rows and even columns from below numpy array :\n",
    "\n",
    "    x= np.array([[3, 6, 9, 12], [15, 18, 21, 24], [27, 30, 33, 36], [39, 42, 45, 48], [51, 54, 57, 60]])"
   ]
  },
  {
   "cell_type": "code",
   "execution_count": 21,
   "id": "09e5e6c1",
   "metadata": {},
   "outputs": [
    {
     "name": "stdout",
     "output_type": "stream",
     "text": [
      "array is:\n",
      " [[ 3  6  9 12]\n",
      " [15 18 21 24]\n",
      " [27 30 33 36]\n",
      " [39 42 45 48]\n",
      " [51 54 57 60]]\n",
      "Result Array:\n",
      "[[ 6 12]\n",
      " [30 36]\n",
      " [54 60]]\n"
     ]
    }
   ],
   "source": [
    "x= np.array([[3, 6, 9, 12], [15, 18, 21, 24], [27, 30, 33, 36], [39, 42, 45, 48], [51, 54, 57, 60]])\n",
    "print('array is:\\n',x)\n",
    "\n",
    "# print('array of odd rows:')\n",
    "# print(x[[1]])\n",
    "# print(x[[3]])\n",
    "# print('array of even columns:')\n",
    "# print(x[:,[1]])\n",
    "# print(x[:,[3]])\n",
    "\n",
    "resultArray = x[::2, 1::2]\n",
    "print(\"Result Array:\")\n",
    "print(resultArray)"
   ]
  },
  {
   "cell_type": "markdown",
   "id": "02b5f186",
   "metadata": {},
   "source": [
    "15. Calculate the sum of all rows and columns of a 2-D NumPy array."
   ]
  },
  {
   "cell_type": "code",
   "execution_count": 141,
   "id": "92b72ff5",
   "metadata": {},
   "outputs": [
    {
     "name": "stdout",
     "output_type": "stream",
     "text": [
      "array is:\n",
      " [[0 1 2]\n",
      " [3 4 5]\n",
      " [6 7 8]]\n",
      "Sum of each row: [ 3 12 21]\n",
      "Sum of each column: [ 9 12 15]\n"
     ]
    }
   ],
   "source": [
    "x=np.arange(9).reshape(3,3)\n",
    "print('array is:\\n',x)\n",
    "\n",
    "r=np.sum(x,axis=1)\n",
    "print(\"Sum of each row:\",r)\n",
    "\n",
    "c=np.sum(x,axis=0)\n",
    "print(\"Sum of each column:\",c)"
   ]
  },
  {
   "cell_type": "markdown",
   "id": "bfa212ad",
   "metadata": {},
   "source": [
    "16. Write a code to multiply a 5x3 matrix by a 3x2 matrix and create a real matrix product."
   ]
  },
  {
   "cell_type": "code",
   "execution_count": 153,
   "id": "a6846779",
   "metadata": {},
   "outputs": [
    {
     "name": "stdout",
     "output_type": "stream",
     "text": [
      "matrix 1 is:\n",
      " [[ 1  2  3]\n",
      " [ 4  5  6]\n",
      " [ 7  8  9]\n",
      " [10 11 12]\n",
      " [13 14 15]]\n",
      "matrix 2 is:\n",
      " [[1 2]\n",
      " [3 4]\n",
      " [5 6]]\n",
      "matrix product is:\n",
      " [[ 22  28]\n",
      " [ 49  64]\n",
      " [ 76 100]\n",
      " [103 136]\n",
      " [130 172]]\n"
     ]
    }
   ],
   "source": [
    "x=np.arange(1,16).reshape(5,3)\n",
    "y=np.arange(1,7).reshape(3,2)\n",
    "print('matrix 1 is:\\n',x)\n",
    "print('matrix 2 is:\\n',y)\n",
    "z=np.dot(x,y)\n",
    "print('matrix product is:\\n',z)"
   ]
  },
  {
   "cell_type": "markdown",
   "id": "ef27d59a",
   "metadata": {},
   "source": [
    "17. Write a code to find the roots of the polynomials x^2 − 4x + 7 = 0."
   ]
  },
  {
   "cell_type": "code",
   "execution_count": 22,
   "id": "f205703f",
   "metadata": {},
   "outputs": [
    {
     "name": "stdout",
     "output_type": "stream",
     "text": [
      "Roots of the polynomial: [2.+1.73205081j 2.-1.73205081j]\n"
     ]
    }
   ],
   "source": [
    "import numpy as np\n",
    "coefficients = [1, -4, 7]\n",
    "roots = np.roots(coefficients)\n",
    "print(\"Roots of the polynomial:\", roots)"
   ]
  },
  {
   "cell_type": "markdown",
   "id": "b747ad79",
   "metadata": {},
   "source": [
    "18. Write a code to create a 5x5 array with random values and normalize it row-wise."
   ]
  },
  {
   "cell_type": "code",
   "execution_count": 27,
   "id": "4c4c8cf1",
   "metadata": {},
   "outputs": [
    {
     "name": "stdout",
     "output_type": "stream",
     "text": [
      "[[0.62908762 0.01779702 0.72486916 0.35680289 0.45347159]\n",
      " [0.3159457  0.79915167 0.73079044 0.03227185 0.58013553]\n",
      " [0.35168657 0.6258309  0.13523309 0.70242352 0.6759085 ]\n",
      " [0.08809598 0.32052006 0.16088836 0.94529646 0.19707143]\n",
      " [0.96479756 0.34742953 0.23120774 0.55524736 0.33925369]]\n"
     ]
    },
    {
     "data": {
      "text/plain": [
       "array([[0.64550185, 0.        , 0.74664386, 0.35797854, 0.46005736],\n",
       "       [0.31483475, 0.82508363, 0.75289653, 0.01528492, 0.59381012],\n",
       "       [0.35257588, 0.64206287, 0.12400845, 0.72294203, 0.69494309],\n",
       "       [0.07423328, 0.31966512, 0.15109954, 0.97940751, 0.18930761],\n",
       "       [1.        , 0.34808059, 0.22535438, 0.56752907, 0.33944718]])"
      ]
     },
     "execution_count": 27,
     "metadata": {},
     "output_type": "execute_result"
    }
   ],
   "source": [
    "x=np.random.rand(5,5)\n",
    "print(x)\n",
    "NM=(x-np.min(x))/(np.max(x)-np.min(x))\n",
    "NM"
   ]
  },
  {
   "cell_type": "markdown",
   "id": "c5ccd8a7",
   "metadata": {},
   "source": [
    "19. Write a NumPy program to create a 9 * 9 * 2 array with random values and extract any array of shape\n",
    "(5,5,2) from the said array."
   ]
  },
  {
   "cell_type": "code",
   "execution_count": 33,
   "id": "0dcfca83",
   "metadata": {},
   "outputs": [
    {
     "data": {
      "text/plain": [
       "array([[[0.57978445, 0.39916893],\n",
       "        [0.83194972, 0.53488902],\n",
       "        [0.2264199 , 0.30333957],\n",
       "        [0.2173571 , 0.62605224],\n",
       "        [0.48553059, 0.37894512]],\n",
       "\n",
       "       [[0.72976431, 0.42908078],\n",
       "        [0.47277972, 0.79332023],\n",
       "        [0.81979282, 0.51495683],\n",
       "        [0.61980862, 0.84312915],\n",
       "        [0.04259222, 0.49507642]],\n",
       "\n",
       "       [[0.77609838, 0.33788956],\n",
       "        [0.96572552, 0.42101961],\n",
       "        [0.7565223 , 0.11358143],\n",
       "        [0.25289632, 0.88404668],\n",
       "        [0.32913011, 0.48747862]],\n",
       "\n",
       "       [[0.8447857 , 0.02625974],\n",
       "        [0.70085687, 0.37563475],\n",
       "        [0.03740718, 0.54792552],\n",
       "        [0.47660392, 0.0703861 ],\n",
       "        [0.62075407, 0.41667059]],\n",
       "\n",
       "       [[0.97205639, 0.76725097],\n",
       "        [0.04297798, 0.78420592],\n",
       "        [0.97073027, 0.96154761],\n",
       "        [0.96767248, 0.99401847],\n",
       "        [0.08929529, 0.82685307]]])"
      ]
     },
     "execution_count": 33,
     "metadata": {},
     "output_type": "execute_result"
    }
   ],
   "source": [
    "x=np.random.random((9,9,2))\n",
    "new=x[:5,:5,:2]\n",
    "new"
   ]
  },
  {
   "cell_type": "markdown",
   "id": "65a59add",
   "metadata": {},
   "source": [
    "20. Write a code to create a 4*4 array with random values and sort each column."
   ]
  },
  {
   "cell_type": "code",
   "execution_count": 3,
   "id": "4c063c18",
   "metadata": {},
   "outputs": [
    {
     "name": "stdout",
     "output_type": "stream",
     "text": [
      "[[0.73116569 0.47109512 0.62246275 0.85406457]\n",
      " [0.32421546 0.69868489 0.94700342 0.23978581]\n",
      " [0.09495395 0.26017812 0.17072243 0.27191151]\n",
      " [0.18103731 0.32806935 0.03526291 0.09567822]]\n",
      "Array after sorted each column:\n",
      "[[0.09495395 0.26017812 0.03526291 0.09567822]\n",
      " [0.18103731 0.32806935 0.17072243 0.23978581]\n",
      " [0.32421546 0.47109512 0.62246275 0.27191151]\n",
      " [0.73116569 0.69868489 0.94700342 0.85406457]]\n"
     ]
    }
   ],
   "source": [
    "import numpy as np\n",
    "x=np.random.random((4,4))\n",
    "print(x)\n",
    "x.sort(axis=0)\n",
    "print('Array after sorted each column:')\n",
    "print(x)"
   ]
  }
 ],
 "metadata": {
  "kernelspec": {
   "display_name": "Python 3 (ipykernel)",
   "language": "python",
   "name": "python3"
  },
  "language_info": {
   "codemirror_mode": {
    "name": "ipython",
    "version": 3
   },
   "file_extension": ".py",
   "mimetype": "text/x-python",
   "name": "python",
   "nbconvert_exporter": "python",
   "pygments_lexer": "ipython3",
   "version": "3.11.4"
  }
 },
 "nbformat": 4,
 "nbformat_minor": 5
}
