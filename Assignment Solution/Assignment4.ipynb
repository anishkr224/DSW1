{
 "cells": [
  {
   "cell_type": "markdown",
   "metadata": {},
   "source": [
    "# Assignment-4\n",
    "\n",
    "Name: Anish kumar\n",
    "\n",
    "Regd. no: 2241011101\n",
    "\n",
    "Section: 2241007"
   ]
  },
  {
   "cell_type": "markdown",
   "metadata": {},
   "source": [
    "1. What is a List Object in Python? Write the syntax, how we create a List object? For the following\n",
    "   create List object of each scenario and display the output.\n",
    "   \n",
    "   (a) List of vowels.\n",
    "\n",
    "   (b) List of consonants.\n",
    "\n",
    "   (c) List of even integers within 1 to 20.\n",
    "\n",
    "   (d) List of odd integers within 1 to 20.\n",
    "\n",
    "   (e) List of all subjects in this semester.\n",
    "\n",
    "   (f) List of all subject codes in this semester.\n",
    "\n",
    "   (g) List of temperatures from last 10 days."
   ]
  },
  {
   "cell_type": "code",
   "execution_count": 6,
   "metadata": {},
   "outputs": [
    {
     "name": "stdout",
     "output_type": "stream",
     "text": [
      "Enter the range: 5\n",
      "Enter the alphabet: 1\n",
      "Enter the alphabet: e\n",
      "Enter the alphabet: 4\n",
      "Enter the alphabet: 5\n",
      "Enter the alphabet: a\n",
      "List of vowels: ['e', 'a']\n"
     ]
    }
   ],
   "source": [
    "# (a) List of vowels.\n",
    "n=(int)(input('Enter the range: '))\n",
    "L=[]\n",
    "for i in range(n):\n",
    "    alphabet=input('Enter the alphabet: ')\n",
    "    if alphabet in 'aeiouAEIOU':\n",
    "        L.append(alphabet)\n",
    "print('List of vowels:',L)"
   ]
  },
  {
   "cell_type": "code",
   "execution_count": 7,
   "metadata": {},
   "outputs": [
    {
     "name": "stdout",
     "output_type": "stream",
     "text": [
      "Enter the range: 5\n",
      "Enter the alphabet: 1\n",
      "Enter the alphabet: e\n",
      "Enter the alphabet: 2\n",
      "Enter the alphabet: 3\n",
      "Enter the alphabet: 4\n",
      "List of consonants: ['1', '2', '3', '4']\n"
     ]
    }
   ],
   "source": [
    "# (b) List of consonants.\n",
    "n=(int)(input('Enter the range: '))\n",
    "L=[]\n",
    "for i in range(n):\n",
    "    alphabet=input('Enter the alphabet: ')\n",
    "    if alphabet not in 'aeiouAEIOU':\n",
    "        L.append(alphabet)\n",
    "print('List of consonants:',L)"
   ]
  },
  {
   "cell_type": "code",
   "execution_count": 1,
   "metadata": {},
   "outputs": [
    {
     "name": "stdout",
     "output_type": "stream",
     "text": [
      "[0, 2, 4, 6, 8, 10, 12, 14, 16, 18]\n"
     ]
    }
   ],
   "source": [
    "# (c) List of even integers within 1 to 20.\n",
    "L=[]\n",
    "for i in range(20):\n",
    "    if i%2==0:\n",
    "        L.append(i)\n",
    "print(L)"
   ]
  },
  {
   "cell_type": "code",
   "execution_count": 2,
   "metadata": {},
   "outputs": [
    {
     "name": "stdout",
     "output_type": "stream",
     "text": [
      "[1, 3, 5, 7, 9, 11, 13, 15, 17, 19]\n"
     ]
    }
   ],
   "source": [
    "# (d) List of odd integers within 1 to 20.\n",
    "L=[]\n",
    "for i in range(20):\n",
    "    if i%2!=0:\n",
    "        L.append(i)\n",
    "print(L)"
   ]
  },
  {
   "cell_type": "code",
   "execution_count": 5,
   "metadata": {},
   "outputs": [
    {
     "name": "stdout",
     "output_type": "stream",
     "text": [
      "subjects: ['DSW1', 'AD1', 'PS', 'DLD', 'PME']\n"
     ]
    }
   ],
   "source": [
    "# (e) List of all subjects in this semester.\n",
    "l=['DSW1','AD1','PS','DLD','PME']\n",
    "print('subjects:',l)"
   ]
  },
  {
   "cell_type": "code",
   "execution_count": 6,
   "metadata": {},
   "outputs": [
    {
     "name": "stdout",
     "output_type": "stream",
     "text": [
      "subject codes: [2195, 1211, 3131, 2002, 2021]\n"
     ]
    }
   ],
   "source": [
    "# (f) List of all subject codes in this semester.\n",
    "l=[2195,1211,3131,2002,2021]\n",
    "print('subject codes:',l)"
   ]
  },
  {
   "cell_type": "code",
   "execution_count": 9,
   "metadata": {},
   "outputs": [
    {
     "name": "stdout",
     "output_type": "stream",
     "text": [
      "temp: ['29*', '33*', '31*', '28*', '25*', '39*', '44*', '32*', '41*', '30*']\n"
     ]
    }
   ],
   "source": [
    "# (g) List of temperatures from last 10 days.\n",
    "temp=['29*','33*','31*','28*','25*','39*','44*','32*','41*','30*']\n",
    "print('temp:',temp)"
   ]
  },
  {
   "cell_type": "markdown",
   "metadata": {},
   "source": [
    "2. Predict the output of following instructions when typed in Jupyter Notebook Cell and note down every\n",
    "output in your assignment copy."
   ]
  },
  {
   "cell_type": "code",
   "execution_count": 8,
   "metadata": {},
   "outputs": [
    {
     "name": "stdout",
     "output_type": "stream",
     "text": [
      "range(0, 15)\n"
     ]
    },
    {
     "data": {
      "text/plain": [
       "[0, 1, 2, 3, 4, 5, 6, 7, 8, 9, 10, 11, 12, 13, 14]"
      ]
     },
     "execution_count": 8,
     "metadata": {},
     "output_type": "execute_result"
    }
   ],
   "source": [
    "# (a)\n",
    "listObj = range(15)\n",
    "print(listObj)\n",
    "list(listObj)"
   ]
  },
  {
   "cell_type": "code",
   "execution_count": 9,
   "metadata": {},
   "outputs": [
    {
     "name": "stdout",
     "output_type": "stream",
     "text": [
      "['Bob', 'Joe', 'Will', 55, 'Will', 'XXXXX', 100.55]\n",
      "<class 'list'>\n",
      "Bob\n",
      "100.55\n",
      "55\n",
      "Will\n",
      "Will\n",
      "['Will', 55, 'Will']\n",
      "[55, 'Will', 'XXXXX']\n",
      "['Bob', 'Joe', 'Will', 55, 'Will']\n",
      "['Will', 55, 'Will', 'XXXXX', 100.55]\n",
      "['Bob', 'Joe', 'Will', 55, 'Will', 'XXXXX', 100.55]\n",
      "['Bob', 'Will', 'Will']\n",
      "['Bob', 'Will', 'Will', 100.55]\n",
      "[100.55, 'XXXXX', 'Will', 55, 'Will', 'Joe', 'Bob']\n",
      "['Joe', 55]\n"
     ]
    }
   ],
   "source": [
    "# (b)\n",
    "someList = [\"Bob\", \"Joe\", \"Will\", 55, \"Will\", \"XXXXX\", 100.55]\n",
    "print(someList)\n",
    "print(type(someList))\n",
    "print(someList[0])\n",
    "print(someList[-1])\n",
    "print(someList[3])\n",
    "print(someList[-3])\n",
    "print(someList[2])\n",
    "print(someList[2:5])\n",
    "print(someList[-4:-1])\n",
    "print(someList[:5])\n",
    "print(someList[2:])\n",
    "print(someList[:])\n",
    "print(someList[0:6:2])\n",
    "print(someList[::2])\n",
    "print(someList[::-1])\n",
    "print(someList[1:5:2])"
   ]
  },
  {
   "cell_type": "code",
   "execution_count": 10,
   "metadata": {},
   "outputs": [
    {
     "name": "stdout",
     "output_type": "stream",
     "text": [
      "[2, 3, 'SampleText', None]\n",
      "SampleText\n",
      "SampleText\n",
      "[2, 3, 'SampleText', None]\n"
     ]
    }
   ],
   "source": [
    "# (c)\n",
    "list1 = [2, 3, 7, None]\n",
    "list2 = [\"foo\", \"bar\", \"baz\"]\n",
    "list2 = list1\n",
    "list2[2] = \"SampleText\"\n",
    "print(list1)\n",
    "print(list1[2])\n",
    "print(list2[2])\n",
    "print(list2)"
   ]
  },
  {
   "cell_type": "code",
   "execution_count": 19,
   "metadata": {},
   "outputs": [
    {
     "name": "stdout",
     "output_type": "stream",
     "text": [
      "['foo', 'bar', 'peekaboo']\n",
      "['foo', 'bar', 'peekaboo', 'dwarf']\n",
      "['foo', 'red', 'bar', 'peekaboo', 'dwarf']\n",
      "['foo', 'red', 'peekaboo', 'dwarf']\n",
      "['foo', 'red', 'peekaboo', 'dwarf', 'foo']\n",
      "['red', 'peekaboo', 'dwarf', 'foo']\n"
     ]
    },
    {
     "data": {
      "text/plain": [
       "False"
      ]
     },
     "execution_count": 19,
     "metadata": {},
     "output_type": "execute_result"
    }
   ],
   "source": [
    "# (d)\n",
    "wordList = ['foo', 'bar', 'baz']\n",
    "wordList[2] = \"peekaboo\"\n",
    "print(wordList)\n",
    "wordList.append(\"dwarf\") # insert the element 'e' at the end of the list\n",
    "print(wordList)\n",
    "wordList.insert(1, \"red\") # Inserts element e at index i in the list L\n",
    "print(wordList)\n",
    "wordList.pop(2) # Returns the element from the list L at index i, while removing it from the list.\n",
    "print(wordList)\n",
    "wordList.append(\"foo\")\n",
    "print(wordList)\n",
    "wordList.remove(\"foo\") #Removes the first occurrence of the element e in the List L.\n",
    "print(wordList)\n",
    "\"dwarf\" in wordList\n",
    "\"dwarf\" not in wordList"
   ]
  },
  {
   "cell_type": "code",
   "execution_count": 11,
   "metadata": {},
   "outputs": [
    {
     "name": "stdout",
     "output_type": "stream",
     "text": [
      "[4, None, 'foo', 7, 8, 2, 3]\n",
      "['A', ('B', 'C')]\n",
      "['A', ('B', 'C'), 4, None, 'foo', 7, 8, 2, 3]\n",
      "[4, None, 'foo', 7, 8, 2, 3]\n",
      "[7, 2, 5, 1, 3, 73, 51, 7, 3, 9, 11, 1, 1, 10, 9]\n",
      "[1, 1, 1, 2, 3, 3, 5, 7, 7, 9, 9, 10, 11, 51, 73]\n",
      "['saw', 'small', 'He', 'foxes', 'six']\n",
      "['He', 'saw', 'six', 'small', 'foxes']\n",
      "['He', 'foxes', 'saw', 'six', 'small']\n"
     ]
    }
   ],
   "source": [
    "# (e)\n",
    "[4, None, \"foo\"] + [7, 8, 2, 3]\n",
    "list1 = [4, None, \"foo\"] + [7, 8, 2, 3]\n",
    "print(list1)\n",
    "x = ['A', ('B', 'C')]\n",
    "print(x)\n",
    "x.extend(list1)\n",
    "print(x)\n",
    "print(list1)\n",
    "a = [7, 2, 5, 1, 3, 73, 51, 7, 3, 9, 11, 1, 1, 10, 9]\n",
    "print(a)\n",
    "a.sort()\n",
    "print(a)\n",
    "\n",
    "b = [\"saw\", \"small\", \"He\", \"foxes\", \"six\"]\n",
    "print(b)\n",
    "b.sort(key=len)\n",
    "print(b)\n",
    "b.sort()\n",
    "print(b)"
   ]
  },
  {
   "cell_type": "markdown",
   "metadata": {},
   "source": [
    "3. Develop Python Programs for the following below scenario.\n",
    "\n",
    "(a) Write a Python Program which will prompt user to ask a range of integer(lower limit and higher\n",
    "limit) value. Once you receive the input values from the user programmatically store odd numbers\n",
    "and even numbers into separate list objects and display them as output."
   ]
  },
  {
   "cell_type": "code",
   "execution_count": 15,
   "metadata": {
    "scrolled": true
   },
   "outputs": [
    {
     "name": "stdout",
     "output_type": "stream",
     "text": [
      "Enter lower limit:0\n",
      "Enter higher limit:20\n",
      "Even: [0, 2, 4, 6, 8, 10, 12, 14, 16, 18]\n",
      "Odd: [1, 3, 5, 7, 9, 11, 13, 15, 17, 19]\n"
     ]
    }
   ],
   "source": [
    "E=[]\n",
    "O=[]\n",
    "ll=(int)(input('Enter lower limit:'))\n",
    "hl=(int)(input('Enter higher limit:'))\n",
    "for i in range(ll,hl,1):\n",
    "    if i%2==0:\n",
    "        E.append(i)\n",
    "    else:\n",
    "        O.append(i)\n",
    "print('Even:',E)\n",
    "print('Odd:',O)"
   ]
  },
  {
   "cell_type": "markdown",
   "metadata": {},
   "source": [
    "(b) Write a Python Program which will prompt user to enter a positive integer value. Once you receive\n",
    "the input, find factors of the integer and store into a list objects and display them as output."
   ]
  },
  {
   "cell_type": "code",
   "execution_count": 20,
   "metadata": {},
   "outputs": [
    {
     "name": "stdout",
     "output_type": "stream",
     "text": [
      "Enter no:9\n",
      "Factors of 9 is: [1, 3]\n"
     ]
    }
   ],
   "source": [
    "L=[]\n",
    "x=(int)(input('Enter no:'))\n",
    "for i in range(1,x):\n",
    "    if x%i==0:\n",
    "        L.append(i)\n",
    "print('Factors of',x,'is:',L)\n",
    "        "
   ]
  },
  {
   "cell_type": "markdown",
   "metadata": {},
   "source": [
    "(c) Write a Python Program which will prompt user to enter a range of integer(lower limit and higher\n",
    "limit) value, list down all prime numbers and composite numbers into separate list objects and\n",
    "display them."
   ]
  },
  {
   "cell_type": "code",
   "execution_count": 59,
   "metadata": {},
   "outputs": [
    {
     "name": "stdout",
     "output_type": "stream",
     "text": [
      "Enter lower limit:0\n",
      "Enter higher limit:20\n",
      "Prime no: [2, 3, 5, 7, 11, 13, 17, 19]\n",
      "Complex no: [0, 1, 4, 6, 8, 9, 10, 12, 14, 15, 16, 18]\n"
     ]
    }
   ],
   "source": [
    "def isPrime(n):\n",
    "    c=0\n",
    "    if n<2:\n",
    "        return False\n",
    "    for i in range (1,n+1):\n",
    "        if n%i==0:\n",
    "            c=c+1\n",
    "    if c==2:\n",
    "        return True\n",
    "    else:\n",
    "        return False\n",
    "PN=[]\n",
    "CN=[]\n",
    "ll=(int)(input('Enter lower limit:'))\n",
    "hl=(int)(input('Enter higher limit:'))\n",
    "for i in range(ll,hl):\n",
    "    if isPrime(i):\n",
    "        PN.append(i)\n",
    "    else:\n",
    "        CN.append(i)\n",
    "print('Prime no:',PN)\n",
    "print('Complex no:',CN)"
   ]
  },
  {
   "cell_type": "markdown",
   "metadata": {},
   "source": [
    "4. What is a Tuple Object in Python? Write the syntax, how we create a Tuple object? For the following\n",
    "scenario create Tuple object of each scenario and display them as output.\n",
    "\n",
    "(a) Tuple of few student’s information such as roll number, name, branch, specialization, mobile,\n",
    "email id etc."
   ]
  },
  {
   "cell_type": "code",
   "execution_count": 25,
   "metadata": {},
   "outputs": [
    {
     "name": "stdout",
     "output_type": "stream",
     "text": [
      "roll number: 1101\n",
      "name: Anish\n",
      "branch: CSE\n",
      "specialization: DS\n",
      "mobile no: 1234567890\n",
      "email id: anish123@gmail.com\n",
      "\n",
      "roll number: 1102\n",
      "name: Raj\n",
      "branch: EEE\n",
      "specialization: IOT\n",
      "mobile no: 9876543210\n",
      "email id: raj456@gmail.com\n",
      "\n",
      "roll number: 1103\n",
      "name: Shivam\n",
      "branch: ECE\n",
      "specialization: CS\n",
      "mobile no: 1237894560\n",
      "email id: shivam789@gmail.com\n",
      "\n",
      "roll number: 1104\n",
      "name: Suraj\n",
      "branch: CIVIL\n",
      "specialization: AIML\n",
      "mobile no: 7891234560\n",
      "email id: suraj098@gmai.com\n",
      "\n",
      "roll number: 1105\n",
      "name: Ayush\n",
      "branch: CSIT\n",
      "specialization: CSE\n",
      "mobile no: 4561237890\n",
      "email id: ayush765@gmail.com\n",
      "\n"
     ]
    }
   ],
   "source": [
    "rollNo=(1101,1102,1103,1104,1105)\n",
    "name=('Anish','Raj','Shivam','Suraj','Ayush')\n",
    "branch=('CSE','EEE','ECE','CIVIL','CSIT')\n",
    "specialization=('DS','IOT','CS','AIML','CSE')\n",
    "mobileNo=(1234567890,9876543210,1237894560,7891234560,4561237890)\n",
    "emailId=('anish123@gmail.com','raj456@gmail.com','shivam789@gmail.com','suraj098@gmai.com','ayush765@gmail.com')\n",
    "\n",
    "for i in range (len(emailId)):\n",
    "    print('roll number:',rollNo[i])\n",
    "    print('name:',name[i])\n",
    "    print('branch:',branch[i])\n",
    "    print('specialization:',specialization[i])\n",
    "    print('mobile no:',mobileNo[i])\n",
    "    print('email id:',emailId[i])\n",
    "    print()"
   ]
  },
  {
   "cell_type": "markdown",
   "metadata": {},
   "source": [
    "(b) Tuple of few book’s information such as ISBN Number, book title, category, author, number of authors etc."
   ]
  },
  {
   "cell_type": "code",
   "execution_count": 33,
   "metadata": {},
   "outputs": [
    {
     "name": "stdout",
     "output_type": "stream",
     "text": [
      "ISBN Number: 978-0-13-475706-0\n",
      "Book title: Introduction to Python\n",
      "Category: Programming\n",
      "Author: John Smith\n",
      "Number of authors: 1\n",
      "\n",
      "ISBN Number: 978-1-23-456789-0\n",
      "Book title: Data Science Essentials\n",
      "Category: Data Science\n",
      "Author: Jane Doe\n",
      "Number of authors: 1\n",
      "\n",
      "ISBN Number: 978-3-45-678901-2\n",
      "Book title: The Art of Fiction\n",
      "Category: Fiction\n",
      "Author: Alice Johnson\n",
      "Number of authors: 1\n",
      "\n"
     ]
    }
   ],
   "source": [
    "ISBN_Number=('978-0-13-475706-0','978-1-23-456789-0','978-3-45-678901-2')\n",
    "book_title=('Introduction to Python','Data Science Essentials','The Art of Fiction',)\n",
    "category=('Programming','Data Science','Fiction')\n",
    "author=('John Smith','Jane Doe','Alice Johnson')\n",
    "numberOfAuthors=(1,1,1)\n",
    "\n",
    "for i in range(len(ISBN_Number)):\n",
    "    print('ISBN Number:',ISBN_Number[i])\n",
    "    print('Book title:',book_title[i])\n",
    "    print('Category:',category[i])\n",
    "    print('Author:',author[i])\n",
    "    print('Number of authors:',numberOfAuthors[i])\n",
    "    print()\n",
    "    "
   ]
  },
  {
   "cell_type": "markdown",
   "metadata": {},
   "source": [
    "(c) Tuple of few parts of a vehicle."
   ]
  },
  {
   "cell_type": "code",
   "execution_count": 4,
   "metadata": {},
   "outputs": [
    {
     "name": "stdout",
     "output_type": "stream",
     "text": [
      "Sedan Parts: ('Engine', 'Wheels', 'Transmission', 'Steering Wheel', 'Brake System')\n",
      "SUV Parts: ('Engine', 'Large Tires', 'Four-Wheel Drive System', 'Power Steering', 'Advanced Brake System')\n"
     ]
    }
   ],
   "source": [
    "sedanParts=(\"Engine\",\"Wheels\",\"Transmission\",\"Steering Wheel\",\"Brake System\")\n",
    "suvParts=(\"Engine\",\"Large Tires\",\"Four-Wheel Drive System\",\"Power Steering\",\"Advanced Brake System\")\n",
    "\n",
    "print(\"Sedan Parts:\",sedanParts)\n",
    "print(\"SUV Parts:\",suvParts)\n"
   ]
  },
  {
   "cell_type": "markdown",
   "metadata": {},
   "source": [
    "(d) Tuple of few institution details such as name of the institute, departments, no. of students, address etc."
   ]
  },
  {
   "cell_type": "code",
   "execution_count": 8,
   "metadata": {},
   "outputs": [
    {
     "name": "stdout",
     "output_type": "stream",
     "text": [
      "Institution 1 Details: ('SOA University', ['Computer Science', 'Electrical Engineering', 'Physics'], 5000, 'Bhubansewar, Odisha')\n",
      "Institution 2 Details: ('Jawaharlal Nehru University', ['Biology', 'Chemistry', 'Mathematics'], 3000, 'New Delhi, Delhi')\n"
     ]
    }
   ],
   "source": [
    "institution1 = (\"SOA University\",[\"Computer Science\",\"Electrical Engineering\",\"Physics\"],5000,\"Bhubansewar, Odisha\")\n",
    "print(\"Institution 1 Details:\",institution1)\n",
    "institution2 = (\"Jawaharlal Nehru University\",[\"Biology\",\"Chemistry\",\"Mathematics\"],3000,\"New Delhi, Delhi\")\n",
    "print(\"Institution 2 Details:\",institution2)"
   ]
  },
  {
   "cell_type": "markdown",
   "metadata": {},
   "source": [
    "(e) Create tuple objects from List objects at all scenario in Question No. 1.\n",
    "\n",
    "1. What is a List Object in Python? Write the syntax, how we create a List object? For the following\n",
    "   create List object of each scenario and display the output.\n",
    "   \n",
    "   (a) List of vowels.\n",
    "\n",
    "   (b) List of consonants.\n",
    "\n",
    "   (c) List of even integers within 1 to 20.\n",
    "\n",
    "   (d) List of odd integers within 1 to 20.\n",
    "\n",
    "   (e) List of all subjects in this semester.\n",
    "\n",
    "   (f) List of all subject codes in this semester.\n",
    "\n",
    "   (g) List of temperatures from last 10 days."
   ]
  },
  {
   "cell_type": "code",
   "execution_count": null,
   "metadata": {},
   "outputs": [],
   "source": []
  },
  {
   "cell_type": "markdown",
   "metadata": {},
   "source": [
    "5. Predict the output of following instructions when typed in Jupyter Notebook Cell and note down ev\n",
    "ery output in your assignment copy."
   ]
  },
  {
   "cell_type": "code",
   "execution_count": 18,
   "metadata": {},
   "outputs": [
    {
     "name": "stdout",
     "output_type": "stream",
     "text": [
      "(4, 5, 6, 'Ram', 'Hari', 120.5643)\n",
      "<class 'tuple'>\n",
      "(2, 5, 1, 9, 5, 3, 8)\n",
      "(4, 5, 6)\n",
      "<class 'tuple'>\n",
      "(2, 5, 1, 9, 5, 3, 8)\n",
      "<class 'tuple'>\n",
      "('s', 't', 'r', 'i', 'n', 'g')\n"
     ]
    }
   ],
   "source": [
    "# (a) \n",
    "tupleObj=(4, 5, 6, \"Ram\", \"Hari\", 120.5643)\n",
    "print(tupleObj)\n",
    "print(type(tupleObj))\n",
    "\n",
    "print(tuple((2, 5, 1, 9, 5, 3, 8)))\n",
    "\n",
    "print(tuple((4, 5, 6)))\n",
    "print(type(tuple((4, 5, 6))))\n",
    "\n",
    "x=tuple([2, 5, 1, 9, 5, 3, 8])\n",
    "print(x)\n",
    "y=x\n",
    "print(type(y))\n",
    "\n",
    "tupleObj=tuple('string')\n",
    "print(tupleObj)"
   ]
  },
  {
   "cell_type": "code",
   "execution_count": 22,
   "metadata": {},
   "outputs": [
    {
     "name": "stdout",
     "output_type": "stream",
     "text": [
      "<class 'tuple'>\n",
      "Bob\n",
      "100.55\n",
      "55\n",
      "Will\n",
      "Will\n",
      "('Will', 55, 'Will')\n",
      "(55, 'Will', 'XXXXX')\n",
      "('Bob', 'Joe', 'Will', 55, 'Will')\n",
      "('Will', 55, 'Will', 'XXXXX', 100.55)\n",
      "('Bob', 'Joe', 'Will', 55, 'Will', 'XXXXX', 100.55)\n",
      "('Bob', 'Will', 'Will')\n",
      "('Bob', 'Will', 'Will', 100.55)\n",
      "(100.55, 'XXXXX', 'Will', 55, 'Will', 'Joe', 'Bob')\n",
      "('Joe', 55)\n"
     ]
    }
   ],
   "source": [
    "# (b)\n",
    "someList = [\"Bob\", \"Joe\", \"Will\", 55, \"Will\", \"XXXXX\", 100.55]\n",
    "someTuple = tuple(someList)\n",
    "print(type(someTuple))\n",
    "print(someTuple[0])\n",
    "print(someTuple[-1])\n",
    "print(someTuple[3])\n",
    "print(someTuple[-3])\n",
    "print(someTuple[2])\n",
    "print(someTuple[2:5])\n",
    "print(someTuple[-4:-1])\n",
    "print(someTuple[:5])\n",
    "print(someTuple[2:])\n",
    "print(someTuple[:])\n",
    "print(someTuple[0:6:2])\n",
    "print(someTuple[::2])\n",
    "print(someTuple[::-1])\n",
    "print(someTuple[1:5:2])"
   ]
  },
  {
   "cell_type": "code",
   "execution_count": 30,
   "metadata": {},
   "outputs": [
    {
     "name": "stdout",
     "output_type": "stream",
     "text": [
      "((4, 5, 6), (7, 8))\n",
      "(7, 8)\n"
     ]
    }
   ],
   "source": [
    "# (c)\n",
    "nestedTuple=(4, 5, 6), (7, 8)\n",
    "print(nestedTuple)\n",
    "print(nestedTuple[1])"
   ]
  },
  {
   "cell_type": "code",
   "execution_count": 14,
   "metadata": {},
   "outputs": [
    {
     "name": "stdout",
     "output_type": "stream",
     "text": [
      "('foo', [1, 2, 3], True)\n",
      "\n",
      "<class 'tuple'>\n",
      "<class 'str'>\n",
      "<class 'list'>\n",
      "<class 'bool'>\n"
     ]
    }
   ],
   "source": [
    "tup=tuple(['foo', [1, 2], True])\n",
    "tup[1].append(3)\n",
    "print(tup)\n",
    "\n",
    "print()\n",
    "print(type(tup))\n",
    "print(type(tup[0]))\n",
    "print(type(tup[1]))\n",
    "print(type(tup[2]))"
   ]
  },
  {
   "cell_type": "code",
   "execution_count": 20,
   "metadata": {},
   "outputs": [
    {
     "ename": "TypeError",
     "evalue": "'tuple' object does not support item assignment",
     "output_type": "error",
     "traceback": [
      "\u001b[1;31m---------------------------------------------------------------------------\u001b[0m",
      "\u001b[1;31mTypeError\u001b[0m                                 Traceback (most recent call last)",
      "Cell \u001b[1;32mIn[20], line 3\u001b[0m\n\u001b[0;32m      1\u001b[0m tup\u001b[38;5;241m=\u001b[39m\u001b[38;5;28mtuple\u001b[39m([\u001b[38;5;124m'\u001b[39m\u001b[38;5;124mfoo\u001b[39m\u001b[38;5;124m'\u001b[39m, [\u001b[38;5;241m1\u001b[39m, \u001b[38;5;241m2\u001b[39m], \u001b[38;5;28;01mTrue\u001b[39;00m])\n\u001b[0;32m      2\u001b[0m \u001b[38;5;66;03m# tup[1].append(False)\u001b[39;00m\n\u001b[1;32m----> 3\u001b[0m tup[\u001b[38;5;241m2\u001b[39m]\u001b[38;5;241m=\u001b[39m\u001b[38;5;28;01mFalse\u001b[39;00m \u001b[38;5;66;03m# tuple are immutable & list are mutable\u001b[39;00m\n\u001b[0;32m      4\u001b[0m \u001b[38;5;28mprint\u001b[39m(tup)\n",
      "\u001b[1;31mTypeError\u001b[0m: 'tuple' object does not support item assignment"
     ]
    }
   ],
   "source": [
    "tup=tuple(['foo', [1, 2], True])\n",
    "# tup[1].append(False)\n",
    "tup[2]=False # tuple are immutable & list are mutable\n",
    "print(tup)"
   ]
  },
  {
   "cell_type": "code",
   "execution_count": 33,
   "metadata": {},
   "outputs": [
    {
     "ename": "NameError",
     "evalue": "name 'list2' is not defined",
     "output_type": "error",
     "traceback": [
      "\u001b[1;31m---------------------------------------------------------------------------\u001b[0m",
      "\u001b[1;31mNameError\u001b[0m                                 Traceback (most recent call last)",
      "Cell \u001b[1;32mIn[33], line 1\u001b[0m\n\u001b[1;32m----> 1\u001b[0m \u001b[38;5;28mprint\u001b[39m(list2)\n",
      "\u001b[1;31mNameError\u001b[0m: name 'list2' is not defined"
     ]
    }
   ],
   "source": [
    "print(list2)"
   ]
  },
  {
   "cell_type": "code",
   "execution_count": 40,
   "metadata": {},
   "outputs": [
    {
     "data": {
      "text/plain": [
       "5"
      ]
     },
     "execution_count": 40,
     "metadata": {},
     "output_type": "execute_result"
    }
   ],
   "source": [
    "# (d)\n",
    "tup=(4, 5, 6)\n",
    "a,b,c=tup\n",
    "b"
   ]
  },
  {
   "cell_type": "code",
   "execution_count": 42,
   "metadata": {},
   "outputs": [
    {
     "data": {
      "text/plain": [
       "7"
      ]
     },
     "execution_count": 42,
     "metadata": {},
     "output_type": "execute_result"
    }
   ],
   "source": [
    "tup=4,5,(6,7)\n",
    "a,b,(c,d)=tup\n",
    "d"
   ]
  },
  {
   "cell_type": "code",
   "execution_count": 44,
   "metadata": {},
   "outputs": [
    {
     "name": "stdout",
     "output_type": "stream",
     "text": [
      "2\n",
      "1\n"
     ]
    }
   ],
   "source": [
    "a,b=1,2\n",
    "a,b=b,a\n",
    "print(a)\n",
    "print(b)"
   ]
  },
  {
   "cell_type": "code",
   "execution_count": 46,
   "metadata": {},
   "outputs": [
    {
     "name": "stdout",
     "output_type": "stream",
     "text": [
      "1\n",
      "2\n"
     ]
    }
   ],
   "source": [
    "# myself\n",
    "a,b=1,2\n",
    "a,b=a,b\n",
    "print(a)\n",
    "print(b)"
   ]
  },
  {
   "cell_type": "code",
   "execution_count": 47,
   "metadata": {},
   "outputs": [
    {
     "name": "stdout",
     "output_type": "stream",
     "text": [
      "a=a, b=b, c=c\n",
      "a=a, b=b, c=c\n",
      "a=a, b=b, c=c\n"
     ]
    }
   ],
   "source": [
    "seq=[(1, 2, 3),(4, 5, 6),(7, 8, 9)]\n",
    "for a,b,c in seq:\n",
    "    print(f'a=a, b=b, c=c')"
   ]
  },
  {
   "cell_type": "code",
   "execution_count": 49,
   "metadata": {},
   "outputs": [
    {
     "data": {
      "text/plain": [
       "[3, 4, 5]"
      ]
     },
     "execution_count": 49,
     "metadata": {},
     "output_type": "execute_result"
    }
   ],
   "source": [
    "values=1,2,3,4,5\n",
    "a,b,*rest=values\n",
    "a\n",
    "b\n",
    "rest"
   ]
  },
  {
   "cell_type": "code",
   "execution_count": 26,
   "metadata": {},
   "outputs": [
    {
     "name": "stdout",
     "output_type": "stream",
     "text": [
      "(4, None, 'foo', 6, 0, 'bar')\n",
      "7\n"
     ]
    },
    {
     "data": {
      "text/plain": [
       "14"
      ]
     },
     "execution_count": 26,
     "metadata": {},
     "output_type": "execute_result"
    }
   ],
   "source": [
    "# (e)\n",
    "(4, None, 'foo') + (6, 0) + ('bar',)\n",
    "tuple1 = (4, None, 'foo') + (6, 0) + ('bar',)\n",
    "print(tuple1)\n",
    "('foo', 'bar') * 4\n",
    "a=(1, 7, 2, 7, 2, 2, 7, 3, 7, 4, 7, 7, 2, 7)\n",
    "print(a.count(7))\n",
    "len(a)"
   ]
  },
  {
   "cell_type": "markdown",
   "metadata": {},
   "source": [
    "6. Develop Python Programs for the following below scenario.\n",
    "\n",
    "(a) Write a Python Program which will prompt user to ask enter his/her name, department, mobile\n",
    "number, roll number etc. Once you receive the input values from the user programmatically store\n",
    "these values into tuple objects and finally display them as output. Try to enter details for at least 5\n",
    "objects."
   ]
  },
  {
   "cell_type": "code",
   "execution_count": 62,
   "metadata": {},
   "outputs": [
    {
     "name": "stdout",
     "output_type": "stream",
     "text": [
      "Enter his/her name: Anish kumar\n",
      "Enter department: CSE\n",
      "Enter mobile number: 1234567890\n",
      "Enter roll number: 2241011101\n",
      "[('Anish kumar', 'CSE', '1234567890', '2241011101')]\n"
     ]
    }
   ],
   "source": [
    "# a\n",
    "l=[]\n",
    "for i in range (1):\n",
    "    n=str(input('Enter his/her name: '))\n",
    "    d=str(input('Enter department: '))\n",
    "    m=str(input('Enter mobile number: '))\n",
    "    r=str(input('Enter roll number: '))\n",
    "    t=(n,d,m,r)\n",
    "    l.append(t)\n",
    "print(l)"
   ]
  },
  {
   "cell_type": "markdown",
   "metadata": {},
   "source": [
    "6. (b) For all of the questions provided in Question No. 3, try to store all those values into Tuple objects display them.\n",
    "\n",
    "(3) Develop Python Programs for the following below scenario.\n",
    "\n",
    "(a) Write a Python Program which will prompt user to ask a range of integer(lower limit and higher\n",
    "limit) value. Once you receive the input values from the user programmatically store odd numbers\n",
    "and even numbers into separate list objects and display them as output.\n",
    "\n",
    "(b) Write a Python Program which will prompt user to enter a positive integer value. Once you receive the input, find factors of the integer and store into a list objects and display them as output.\n",
    "\n",
    "(c) Write a Python Program which will prompt user to enter a range of integer(lower limit and higher\n",
    "limit) value, list down all prime numbers and composite numbers into separate list objects and\n",
    "display them."
   ]
  },
  {
   "cell_type": "code",
   "execution_count": 50,
   "metadata": {},
   "outputs": [
    {
     "name": "stdout",
     "output_type": "stream",
     "text": [
      "Enter lower limit:9\n",
      "Enter higher limit:22\n",
      "(10, 12, 14, 16, 18, 20) <class 'tuple'>\n",
      "(9, 11, 13, 15, 17, 19, 21) <class 'tuple'>\n"
     ]
    }
   ],
   "source": [
    "LE=[]\n",
    "LO=[]\n",
    "ll=int(input('Enter lower limit:'))\n",
    "hl=int(input('Enter higher limit:'))\n",
    "for i in range(ll,hl,1):\n",
    "    if i%2==0:\n",
    "        LE.append(i)\n",
    "    else:\n",
    "        LO.append(i)\n",
    "TE=tuple(LE)\n",
    "TO=tuple(LO)\n",
    "print(TE,type(TE))\n",
    "print(TO,type(TO))"
   ]
  },
  {
   "cell_type": "code",
   "execution_count": 51,
   "metadata": {},
   "outputs": [
    {
     "name": "stdout",
     "output_type": "stream",
     "text": [
      "enter a positive integer value: 9\n",
      "factors are:\n",
      "(1, 3) <class 'tuple'>\n"
     ]
    }
   ],
   "source": [
    "L=[]\n",
    "n=int(input('enter a positive integer value: '))\n",
    "for i in range(1,n):\n",
    "    if n%i==0:\n",
    "        L.append(i)\n",
    "T=tuple(L)\n",
    "print('factors are:')\n",
    "print(T,type(T))"
   ]
  },
  {
   "cell_type": "code",
   "execution_count": 57,
   "metadata": {},
   "outputs": [
    {
     "name": "stdout",
     "output_type": "stream",
     "text": [
      "Enter lower limit:9\n",
      "Enter higher limit:22\n",
      "(11, 13, 17, 19) <class 'tuple'>\n",
      "(9, 10, 12, 14, 15, 16, 18, 20, 21) <class 'tuple'>\n"
     ]
    }
   ],
   "source": [
    "def isPrime(n):\n",
    "    c=0\n",
    "    if n<2:\n",
    "        return False\n",
    "    for i in range (1,n+1):\n",
    "        if n%i==0:\n",
    "            c=c+1\n",
    "    if c==2:\n",
    "        return True\n",
    "    else:\n",
    "        return False\n",
    "        \n",
    "LP=[]\n",
    "LC=[]\n",
    "ll=int(input('Enter lower limit:'))\n",
    "hl=int(input('Enter higher limit:'))\n",
    "for i in range(ll,hl,1):\n",
    "    if isPrime(i):\n",
    "        LP.append(i)\n",
    "    else:\n",
    "        LC.append(i)\n",
    "    \n",
    "TP=tuple(LP)\n",
    "TC=tuple(LC)\n",
    "print(TP,type(TP))\n",
    "print(TC,type(TC))"
   ]
  },
  {
   "cell_type": "markdown",
   "metadata": {},
   "source": [
    "7. What is a Dictionary Object in Python? Write the syntax, how we create a Dictionary object? For\n",
    "the following questions create Dictionary object of each scenario and display them as output.\n",
    "\n",
    "(a) Dictionary of few peoples as key and their mobile numbers as values(at least for 10 key).\n",
    "\n",
    "(b) Dictionary of few books as key and their authors(authors should be a list object) as values.\n",
    "\n",
    "(c) Dictionary of different types numbers(such as prime, composite, even, odd etc.) as keys and their\n",
    "examples as values.\n",
    "\n",
    "(d) Dictionary of engineering branches as keys and their specializations as values.\n",
    "\n",
    "(e) Dictionary of employee ids as keys and their details(as tuple) as values.\n",
    "\n",
    "(f) Dictionary of subject code as key and subject details(as list) such as course name, reference book,teacher name, department etc. as values."
   ]
  },
  {
   "cell_type": "code",
   "execution_count": 27,
   "metadata": {},
   "outputs": [
    {
     "name": "stdout",
     "output_type": "stream",
     "text": [
      "{'Anish': 1234567890, 'Raj': 9876543210, 'Ayush': 1237894560, 'Shivam': 7891234560, 'Suraj': 4561237890}\n"
     ]
    }
   ],
   "source": [
    "# (a)\n",
    "D={'Anish':1234567890,'Raj':9876543210,'Ayush':1237894560,'Shivam':7891234560,'Suraj':4561237890}\n",
    "print(D)"
   ]
  },
  {
   "cell_type": "code",
   "execution_count": 46,
   "metadata": {},
   "outputs": [
    {
     "name": "stdout",
     "output_type": "stream",
     "text": [
      "{'Introduction to Python': ['John Smith'], 'Data Science Essentials': ['Jane Doe'], 'The Art of Fiction': ['Alice Johnson']}\n"
     ]
    }
   ],
   "source": [
    "# (b)\n",
    "D={'Introduction to Python':['John Smith'],\n",
    "   'Data Science Essentials':['Jane Doe'],\n",
    "   'The Art of Fiction':['Alice Johnson']}\n",
    "print(D)"
   ]
  },
  {
   "cell_type": "code",
   "execution_count": 49,
   "metadata": {},
   "outputs": [
    {
     "name": "stdout",
     "output_type": "stream",
     "text": [
      "{'prime': [11, 13, 17, 19], 'composite': [9, 10, 12, 14, 15, 16, 18, 20, 21, 22], 'even': [10, 12, 14, 16, 18, 20, 22], 'odd': [9, 11, 13, 15, 17, 19, 21]}\n"
     ]
    }
   ],
   "source": [
    "# (c)\n",
    "D={'prime':[11, 13, 17, 19],\n",
    "  'composite':[9, 10, 12, 14, 15, 16, 18, 20, 21, 22],\n",
    "  'even':[10,12,14,16,18,20,22],\n",
    "  'odd':[9,11,13,15,17,19,21]}\n",
    "print(D)"
   ]
  },
  {
   "cell_type": "code",
   "execution_count": 55,
   "metadata": {},
   "outputs": [
    {
     "name": "stdout",
     "output_type": "stream",
     "text": [
      "{'CSE': ['Data Science', 'Internet of Things', 'Cyber Security', 'Artificial Intelligence & Machine Learning'], 'Civil': ['Environmental Eng.', 'Geotechnical Eng.', 'Transportation Eng.'], 'Mechanical': ['Fluid Mechanics', 'Machine Design & Solid Mechanics', 'Materials Engineering & Processing']}\n"
     ]
    }
   ],
   "source": [
    "# (d)\n",
    "D={'CSE':['Data Science','Internet of Things','Cyber Security','Artificial Intelligence & Machine Learning'],\n",
    "  'Civil':['Environmental Eng.','Geotechnical Eng.','Transportation Eng.'],\n",
    "  'Mechanical':['Fluid Mechanics', 'Machine Design & Solid Mechanics', 'Materials Engineering & Processing']}\n",
    "print(D)"
   ]
  },
  {
   "cell_type": "code",
   "execution_count": 7,
   "metadata": {},
   "outputs": [
    {
     "name": "stdout",
     "output_type": "stream",
     "text": [
      "{1101: ('Anish', 1234567890, 'anish123@gmail.com'), 1102: ('Raj', 9876543210, 'raj456@gmail.com'), 1103: ('Suraj', 1237894560, 'suraj098@gmai.com')}\n"
     ]
    }
   ],
   "source": [
    "# (e)\n",
    "D={1101:('Anish',1234567890,'anish123@gmail.com'),\n",
    "  1102:('Raj',9876543210,'raj456@gmail.com'),\n",
    "  1103:('Suraj',1237894560,'suraj098@gmai.com')}\n",
    "print(D)\n",
    "\n",
    "# print(D.get(1101))\n",
    "# print(type(D.get(1101)))"
   ]
  },
  {
   "cell_type": "code",
   "execution_count": 2,
   "metadata": {},
   "outputs": [
    {
     "name": "stdout",
     "output_type": "stream",
     "text": [
      "{'CSE2195': ['Data Science Workshop 1', 'Book- Python for Data Analysis: Data Wrangling with pandass', 'Teacher- Ashis Kumar Pati'], 'MTH2002': ['Probablity And Statistics', 'Book- Probablity And Statistics for Engineers and Scientists by Walpole and Myers', 'Teacher- Satyananda Mohapatra'], 'CSE3131': ['Algoriths Design 1', 'Book- Algorithm Design by kleinberg and Tardos, Pearson India', 'Teacher- Prajukta Tripathy']}\n"
     ]
    }
   ],
   "source": [
    "# (f)\n",
    "D={'CSE2195':['Data Science Workshop 1','Book- Python for Data Analysis: Data Wrangling with pandass','Teacher- Ashis Kumar Pati'],\n",
    "   'MTH2002':['Probablity And Statistics','Book- Probablity And Statistics for Engineers and Scientists by Walpole and Myers','Teacher- Satyananda Mohapatra'],\n",
    "   'CSE3131':['Algoriths Design 1','Book- Algorithm Design by kleinberg and Tardos, Pearson India','Teacher- Prajukta Tripathy']}\n",
    "print(D)"
   ]
  },
  {
   "cell_type": "markdown",
   "metadata": {},
   "source": [
    " 8. Predict the output of following instructions when typed in Jupyter Notebook Cell and note down every\n",
    " output in your assignment copy."
   ]
  },
  {
   "cell_type": "code",
   "execution_count": 6,
   "metadata": {},
   "outputs": [
    {
     "name": "stdout",
     "output_type": "stream",
     "text": [
      "{'fruits': ['banana', 'apple', 'guava', 'jackfruit'], 'colors': ('red', 'blue', 'green'), 'int': 165, 'float': 99.56, 'string': 'some sample text'}\n",
      "<class 'dict'>\n",
      "{'fruits': ['banana', 'apple', 'guava', 'jackfruit'], 'colors': ('red', 'blue', 'green'), 'int': 165, 'float': 99.56, 'string': 'some sample text', 10: 'New added value'}\n",
      "New added value\n",
      "165\n",
      "('red', 'blue', 'green')\n",
      "New added value\n"
     ]
    }
   ],
   "source": [
    "# (a)\n",
    "dictObj = {\"fruits\": [\"banana\", \"apple\", \"guava\", \"jackfruit\"], \"colors\": (\"red\", \"blue\", \"green\"),\n",
    "           \"int\": 165, \"float\": 99.56, \"string\":\"some sample text\"}\n",
    "print(dictObj)\n",
    "print(type(dictObj))\n",
    "\n",
    "dictObj[10] = \"New added value\"\n",
    "print(dictObj)\n",
    "print(dictObj[10])\n",
    "print(dictObj[\"int\"])\n",
    "print(dictObj[\"colors\"])\n",
    "\n",
    "print(dictObj[10])"
   ]
  },
  {
   "cell_type": "code",
   "execution_count": 4,
   "metadata": {},
   "outputs": [
    {
     "ename": "SyntaxError",
     "evalue": "invalid syntax (3819451231.py, line 1)",
     "output_type": "error",
     "traceback": [
      "\u001b[1;36m  Cell \u001b[1;32mIn[4], line 1\u001b[1;36m\u001b[0m\n\u001b[1;33m    dict(\"key\":\"value\")\u001b[0m\n\u001b[1;37m              ^\u001b[0m\n\u001b[1;31mSyntaxError\u001b[0m\u001b[1;31m:\u001b[0m invalid syntax\n"
     ]
    }
   ],
   "source": [
    "dict(\"key\":\"value\")"
   ]
  },
  {
   "cell_type": "code",
   "execution_count": 5,
   "metadata": {},
   "outputs": [
    {
     "ename": "KeyError",
     "evalue": "'10'",
     "output_type": "error",
     "traceback": [
      "\u001b[1;31m---------------------------------------------------------------------------\u001b[0m",
      "\u001b[1;31mKeyError\u001b[0m                                  Traceback (most recent call last)",
      "Cell \u001b[1;32mIn[5], line 1\u001b[0m\n\u001b[1;32m----> 1\u001b[0m \u001b[38;5;28mprint\u001b[39m(dictObj[\u001b[38;5;124m\"\u001b[39m\u001b[38;5;124m10\u001b[39m\u001b[38;5;124m\"\u001b[39m])\n",
      "\u001b[1;31mKeyError\u001b[0m: '10'"
     ]
    }
   ],
   "source": [
    "print(dictObj[\"10\"])"
   ]
  },
  {
   "cell_type": "code",
   "execution_count": 6,
   "metadata": {},
   "outputs": [
    {
     "name": "stdout",
     "output_type": "stream",
     "text": [
      "True\n",
      "False\n",
      "False\n",
      "False\n",
      "I_am_ancient_10_years old\n",
      "{'Bob': 10, 'Joe': 34, 'Will': 'I_am_ancient_10_years old', 'Limba': 55, 'XXXXX': 100}\n",
      "{'Bob': 10, 'Joe': 34, 'Limba': 55, 'XXXXX': 100}\n"
     ]
    }
   ],
   "source": [
    "# (b)\n",
    "dictObj2 = {\"Bob\":10, \"Joe\":34, \"Will\":77, \"Limba\":55, \"Will\":36, \"XXXXX\":100}\n",
    "\n",
    "print(\"Limba\" in dictObj2)\n",
    "print(55 in dictObj2)\n",
    "print(\"55\" in dictObj2)\n",
    "print(\"XXXXXX\" in dictObj2)\n",
    "\n",
    "dictObj2[\"Will\"] = '_'.join([\"I\", \"am\", \"ancient\", \"10\", \"years old\"])\n",
    "print(dictObj2[\"Will\"])\n",
    "print(dictObj2)\n",
    "dictObj2.pop(\"Will\")\n",
    "print(dictObj2)"
   ]
  },
  {
   "cell_type": "code",
   "execution_count": 7,
   "metadata": {},
   "outputs": [
    {
     "ename": "TypeError",
     "evalue": "pop expected at least 1 argument, got 0",
     "output_type": "error",
     "traceback": [
      "\u001b[1;31m---------------------------------------------------------------------------\u001b[0m",
      "\u001b[1;31mTypeError\u001b[0m                                 Traceback (most recent call last)",
      "Cell \u001b[1;32mIn[7], line 1\u001b[0m\n\u001b[1;32m----> 1\u001b[0m dictObj2\u001b[38;5;241m.\u001b[39mpop()\n",
      "\u001b[1;31mTypeError\u001b[0m: pop expected at least 1 argument, got 0"
     ]
    }
   ],
   "source": [
    "dictObj2.pop()"
   ]
  },
  {
   "cell_type": "code",
   "execution_count": 7,
   "metadata": {},
   "outputs": [
    {
     "name": "stdout",
     "output_type": "stream",
     "text": [
      "{'fruits': ['banana', 'apple', 'guava', 'jackfruit'], 'colors': ('red', 'blue', 'green'), 'int': 165, 'float': 99.56, 'string': 'some sample text', 10: 'New added value'}\n",
      "\n",
      "['fruits', 'colors', 'int', 'float', 'string', 10]\n",
      "\n",
      "[['banana', 'apple', 'guava', 'jackfruit'], ('red', 'blue', 'green'), 165, 99.56, 'some sample text', 'New added value']\n",
      "\n",
      "[('fruits', ['banana', 'apple', 'guava', 'jackfruit']), ('colors', ('red', 'blue', 'green')), ('int', 165), ('float', 99.56), ('string', 'some sample text'), (10, 'New added value')]\n",
      "\n",
      "['fruits', 'colors', 'int', 'float', 'string', 10, 'iter']\n",
      "\n",
      "[['banana', 'apple', 'guava', 'jackfruit'], ('red', 'blue', 'green'), 165, 99.56, 'some sample text', 'New added value', 'INSTITUTE OF TECHNICAL EDUCATION & RESEARCH']\n",
      "\n",
      "[('fruits', ['banana', 'apple', 'guava', 'jackfruit']), ('colors', ('red', 'blue', 'green')), ('int', 165), ('float', 99.56), ('string', 'some sample text'), (10, 'New added value'), ('iter', 'INSTITUTE OF TECHNICAL EDUCATION & RESEARCH')]\n",
      "\n",
      "{'fruits': ['banana', 'apple', 'guava', 'jackfruit'], 'colors': ('red', 'blue', 'green'), 'int': 165, 'float': 99.56, 'string': 'some sample text', 10: 'New added value', 'iter': 'INSTITUTE OF TECHNICAL EDUCATION & RESEARCH'}\n"
     ]
    }
   ],
   "source": [
    "# (c)\n",
    "print(dictObj)\n",
    "print()\n",
    "print(list(dictObj.keys()))\n",
    "print()\n",
    "print(list(dictObj.values()))\n",
    "print()\n",
    "print(list(dictObj.items()))\n",
    "print()\n",
    "dictObj[\"iter\"]=\"INSTITUTE OF TECHNICAL EDUCATION & RESEARCH\"\n",
    "print(list(dictObj.keys()))\n",
    "print()\n",
    "print(list(dictObj.values()))\n",
    "print()\n",
    "print(list(dictObj.items()))\n",
    "print()\n",
    "print(dictObj)"
   ]
  },
  {
   "cell_type": "code",
   "execution_count": 10,
   "metadata": {},
   "outputs": [
    {
     "ename": "SyntaxError",
     "evalue": "invalid syntax (1521580157.py, line 1)",
     "output_type": "error",
     "traceback": [
      "\u001b[1;36m  Cell \u001b[1;32mIn[10], line 1\u001b[1;36m\u001b[0m\n\u001b[1;33m    dictObj.update(\"b\": \"foo\", \"c\": 12)\u001b[0m\n\u001b[1;37m                      ^\u001b[0m\n\u001b[1;31mSyntaxError\u001b[0m\u001b[1;31m:\u001b[0m invalid syntax\n"
     ]
    }
   ],
   "source": [
    "dictObj.update(\"b\": \"foo\", \"c\": 12)\n",
    "print(dictObj)"
   ]
  },
  {
   "cell_type": "code",
   "execution_count": 13,
   "metadata": {},
   "outputs": [
    {
     "data": {
      "text/plain": [
       "{0: 'A',\n",
       " 1: 'B',\n",
       " 2: 'C',\n",
       " 3: 'D',\n",
       " 4: 'E',\n",
       " 5: 'F',\n",
       " 6: 'G',\n",
       " 7: 'G',\n",
       " 8: 'I',\n",
       " 9: 'J'}"
      ]
     },
     "execution_count": 13,
     "metadata": {},
     "output_type": "execute_result"
    }
   ],
   "source": [
    "# (d)\n",
    "myDict = {}\n",
    "keyList = range(10)\n",
    "valueList = ['A', 'B', 'C', 'D', 'E', 'F', 'G', 'G', 'I', 'J']\n",
    "for key, value in zip(keyList, valueList):\n",
    "    myDict[key] = value\n",
    "myDict"
   ]
  },
  {
   "cell_type": "code",
   "execution_count": 2,
   "metadata": {},
   "outputs": [
    {
     "data": {
      "text/plain": [
       "defaultdict(list,\n",
       "            {'d': ['duck', 'dog', 'dance'],\n",
       "             'a': ['apple', 'atom'],\n",
       "             'b': ['bat', 'bar', 'book'],\n",
       "             'c': ['cat', 'cup']})"
      ]
     },
     "execution_count": 2,
     "metadata": {},
     "output_type": "execute_result"
    }
   ],
   "source": [
    "# (e) from collections import defaultdict\n",
    "\n",
    "from collections import defaultdict\n",
    "words = ['duck', 'apple', 'dog', 'bat', 'cat', 'cup', 'bar', 'atom', 'book', 'dance']\n",
    "myDict = defaultdict(list)\n",
    "for w in words:\n",
    "    myDict[w[0]].append(w)\n",
    "myDict"
   ]
  },
  {
   "cell_type": "markdown",
   "metadata": {},
   "source": [
    " 9. Develop Python Programs for the following below scenario.\n",
    "    \n",
    " (a) Write a Python Program which will prompt user to ask enter his/her name, profession, mobile\n",
    " number, employment organization, email id etc. Once you receive the input values from the user\n",
    " programmatically store these values into Dictionary objects such as mobile number is the key and\n",
    " other details as tuple object. Try to enter details for at least 7 objects."
   ]
  },
  {
   "cell_type": "code",
   "execution_count": 8,
   "metadata": {},
   "outputs": [
    {
     "name": "stdout",
     "output_type": "stream",
     "text": [
      "Enter name:Anish kumar\n",
      "Enter profession:Data Scientist\n",
      "Enter mobile number:1234567890\n",
      "Enter employment organization:Google\n",
      "Enter email id:anish123@gmail.com\n",
      "Enter name:Shivam Kumar\n",
      "Enter profession:Engineer\n",
      "Enter mobile number:0987654321\n",
      "Enter employment organization:amazon\n",
      "Enter email id:shivam123@gmail.com\n",
      "{1234567890: ('Anish kumar', 'Data Scientist', 'Google', 'anish123@gmail.com'), 987654321: ('Shivam Kumar', 'Engineer', 'amazon', 'shivam123@gmail.com')}\n"
     ]
    }
   ],
   "source": [
    "D={}\n",
    "for i in range(2):\n",
    "    n=str(input('Enter name:'))\n",
    "    p=str(input('Enter profession:'))\n",
    "    mNo=int(input('Enter mobile number:'))\n",
    "    eO=str(input('Enter employment organization:'))\n",
    "    eID=str(input('Enter email id:'))\n",
    "    D[mNo]=(n,p,eO,eID)\n",
    "#   t={mNo:(n,p,eO,eID)}\n",
    "#   D.update(t)\n",
    "print(D)"
   ]
  },
  {
   "cell_type": "markdown",
   "metadata": {},
   "source": [
    "(b) Develop a Python program which will take lower limit +ve integer and higher limit +ve integer\n",
    " values from the user as user input(lower limit should be lesser than the higher limit). Following\n",
    " that calculate factors of those elements within the range and store them as key value pairs(dictionary\n",
    " object) such as the number is the key and factors are as values of a list object and display them."
   ]
  },
  {
   "cell_type": "code",
   "execution_count": 43,
   "metadata": {},
   "outputs": [
    {
     "name": "stdout",
     "output_type": "stream",
     "text": [
      "Enter lower limit: 2\n",
      "Enter higher limit: 9\n",
      "{2: (1, 2), 3: (1, 3), 4: (1, 2, 4), 5: (1, 5), 6: (1, 2, 3, 6), 7: (1, 7), 8: (1, 2, 4, 8), 9: (1, 3, 9)}\n"
     ]
    }
   ],
   "source": [
    "D={}\n",
    "ll=int(input('Enter lower limit: '))\n",
    "hl=int(input('Enter higher limit: '))\n",
    "for i in range(ll,hl+1):\n",
    "    l=[]\n",
    "    for j in range(1,i+1):\n",
    "        if i%j==0:\n",
    "            l.append(j)\n",
    "    D[i]=tuple(l)\n",
    "print(D)"
   ]
  },
  {
   "cell_type": "code",
   "execution_count": 9,
   "metadata": {},
   "outputs": [
    {
     "name": "stdout",
     "output_type": "stream",
     "text": [
      "Enter the lower limit: 2\n",
      "Enter the upper limit: 9\n",
      "{2: [1, 2], 3: [1, 3], 4: [1, 2, 4], 5: [1, 5], 6: [1, 2, 3, 6], 7: [1, 7], 8: [1, 2, 4, 8], 9: [1, 3, 9]}\n"
     ]
    }
   ],
   "source": [
    "l=int(input('Enter the lower limit: '))\n",
    "u=int(input('Enter the upper limit: '))\n",
    "D={}\n",
    "def factor(n):\n",
    "    l=[]\n",
    "    for i in range(1,n+1):\n",
    "        if n%i==0:\n",
    "            l.append(i)\n",
    "    return l\n",
    "for i in range(l,u+1):\n",
    "    D.update({i:factor(i)})\n",
    "print(D)"
   ]
  },
  {
   "cell_type": "markdown",
   "metadata": {},
   "source": [
    "(c) Modify the Question No. (a) to develop a Python program which will consider name as the key\n",
    " and rest values into tuple as the value. Without using any predefined sort() method use your own\n",
    " logic to sort them based on name and finally display them as output."
   ]
  },
  {
   "cell_type": "code",
   "execution_count": 1,
   "metadata": {},
   "outputs": [
    {
     "name": "stdout",
     "output_type": "stream",
     "text": [
      "Enter his/her name: Anish Kumar\n",
      "Enter profession: Data Scientist\n",
      "Enter mobile number: 1234567890\n",
      "Enter employment organization: Google\n",
      "Enter emailID: anish12345@gmail.com\n",
      "[{'Anish Kumar': ('Data Scientist', '1234567890', 'Google', 'anish12345@gmail.com')}]\n"
     ]
    }
   ],
   "source": [
    "l=[]\n",
    "for i in range (1):\n",
    "    n=str(input('Enter his/her name: '))\n",
    "    p=str(input('Enter profession: '))\n",
    "    m=str(input('Enter mobile number: '))\n",
    "    o=str(input('Enter employment organization: '))\n",
    "    e=str(input('Enter emailID: '))\n",
    "    D={n:(p,m,o,e)}\n",
    "    l.append(D)\n",
    "print(l)"
   ]
  },
  {
   "cell_type": "markdown",
   "metadata": {},
   "source": [
    "10. What is a Set Object in Python? Write different syntax, how we create a Set object? For the following questions create Set object of each scenario and display them as output.\n",
    "\n",
    " (a) Set of all cricket players currently working in Indian Cricket Team."
   ]
  },
  {
   "cell_type": "code",
   "execution_count": 16,
   "metadata": {},
   "outputs": [
    {
     "name": "stdout",
     "output_type": "stream",
     "text": [
      "{'Shibman Gill', 'Virat Kholi', 'Prasidh Krishna', 'Ravichandran Ashwin', 'Ishan Kishan', 'Shikhar Dhawan', 'Shardul Thakur', 'Mohammed Siraj', 'Rohit Sharma', 'Rituraj Gaikwad', 'Jasprit Bumrah', 'KL Rahul'}\n"
     ]
    }
   ],
   "source": [
    "T={'Rohit Sharma','Virat Kholi','Jasprit Bumrah','KL Rahul','Ishan Kishan','Shardul Thakur','Mohammed Siraj','Ravichandran Ashwin','Prasidh Krishna','Shibman Gill','Shikhar Dhawan','Rituraj Gaikwad'}\n",
    "print(T)"
   ]
  },
  {
   "cell_type": "markdown",
   "metadata": {},
   "source": [
    "(b) Set of all 3rd semester courses."
   ]
  },
  {
   "cell_type": "code",
   "execution_count": 19,
   "metadata": {},
   "outputs": [
    {
     "name": "stdout",
     "output_type": "stream",
     "text": [
      "{'MBA', 'MBBS', 'MCA', 'BHMCT', 'DM', 'MCh', 'M.Tech.', 'MD', 'MDS', 'B.Pharm.', 'BCA', 'MS', 'BDS', 'B.Tech', 'M.Pharm', 'B.V.Sc.&A.H.'}\n"
     ]
    }
   ],
   "source": [
    "c={'B.Tech','M.Tech.','BCA','MCA','MBBS','MD','MS','DM','MCh','BDS','MDS','B.V.Sc.&A.H.','BHMCT','MBA','B.Pharm.','M.Pharm'}\n",
    "print(c)"
   ]
  },
  {
   "cell_type": "markdown",
   "metadata": {},
   "source": [
    "(c) Set of all books you are following for this semester."
   ]
  },
  {
   "cell_type": "code",
   "execution_count": 14,
   "metadata": {},
   "outputs": [
    {
     "name": "stdout",
     "output_type": "stream",
     "text": [
      "{'Probablity & Statistics for Engineers & Scientists', 'Algorith Design', 'Problem solving in DSA', 'Fundamental of Logic Design', 'Principles of Economics', 'Python for Data Analysis'}\n"
     ]
    }
   ],
   "source": [
    "B={'Python for Data Analysis','Fundamental of Logic Design','Algorith Design','Problem solving in DSA','Probablity & Statistics for Engineers & Scientists','Principles of Economics'}\n",
    "print(B)"
   ]
  },
  {
   "cell_type": "markdown",
   "metadata": {},
   "source": [
    "(d) Set of 10 integer objects(both-ve and +ve) which are divisible by 11."
   ]
  },
  {
   "cell_type": "code",
   "execution_count": 17,
   "metadata": {},
   "outputs": [
    {
     "name": "stdout",
     "output_type": "stream",
     "text": [
      "{33, 99, -88, 11, 77, 110, -44, 22, 55, -66}\n"
     ]
    }
   ],
   "source": [
    "s={11,22,33,-44,55,-66,77,-88,99,110}\n",
    "print(s)"
   ]
  },
  {
   "cell_type": "markdown",
   "metadata": {},
   "source": [
    "(e) Set of words containing more than 3 vowels."
   ]
  },
  {
   "cell_type": "code",
   "execution_count": 18,
   "metadata": {},
   "outputs": [
    {
     "name": "stdout",
     "output_type": "stream",
     "text": [
      "{'Queueing', 'prosopopoeia', 'Euouae', 'Eunoia', 'cooeeing'}\n"
     ]
    }
   ],
   "source": [
    "v={'prosopopoeia','Eunoia','Euouae','Queueing','cooeeing'}\n",
    "print(v)"
   ]
  },
  {
   "cell_type": "markdown",
   "metadata": {},
   "source": [
    "11. Predict the output of following instructions when typed in Jupyter Notebook Cell and note down every\n",
    " output in your assignment copy."
   ]
  },
  {
   "cell_type": "code",
   "execution_count": 5,
   "metadata": {
    "scrolled": true
   },
   "outputs": [
    {
     "name": "stdout",
     "output_type": "stream",
     "text": [
      "{1, 2, 3, 4, 5, '1', 7, '5', '2'}\n",
      "{1, 3, 6, '1', 7, '5', '9', 10, 9, '2', '6'}\n",
      "<class 'set'>\n",
      "<class 'set'>\n",
      "{1, 2, 3, 4, 5, '1', 7, '5', '2', '55'}\n",
      "{1, 3, 6, '1', 7, '5', '9', 10, 9, '2', '6'}\n",
      "True\n",
      "False\n"
     ]
    }
   ],
   "source": [
    "# (a) \n",
    "A = {5, 3, 1, 4, 4, 2, 3, 4, 5, \"5\", 2, \"2\", 7, \"1\"}\n",
    "print(A)\n",
    "B={\"6\", 3, 1, 3, \"5\", \"2\", 7, \"1\", 6, \"9\", 10, 9, \"6\"}\n",
    "print(B)\n",
    "print(type(A))\n",
    "print(type(B))\n",
    "A.add(\"55\")\n",
    "print(A)\n",
    "D=B\n",
    "print(D)\n",
    "print(D==B)\n",
    "print(D==A)"
   ]
  },
  {
   "cell_type": "code",
   "execution_count": 6,
   "metadata": {},
   "outputs": [
    {
     "name": "stdout",
     "output_type": "stream",
     "text": [
      "{1, 2, 3, 4, 5, '1', 7, '5', '2', '55'}\n",
      "{1, 2, 3, 4, 5, '1', 7, '5', '2', '55'}\n",
      "{1, 3, 6, '1', 7, '5', '9', 10, 9, '2', '6'}\n",
      "{1, 3, '1', 7, '5', '2'}\n",
      "{1, 3, 6, '1', 7, '5', '9', 10, 9, '2', '6'}\n",
      "{1, 3, '1', 7, 6, '5', '9', 10, 9, '2', '6'}\n"
     ]
    }
   ],
   "source": [
    "# (b) \n",
    "C = A\n",
    "C.union(D) # all unique term\n",
    "print(C)\n",
    "C.intersection(D) # common term\n",
    "print(C)\n",
    "print(D)\n",
    "C.intersection_update(D)\n",
    "print(C)\n",
    "print(D)\n",
    "C.update(D)\n",
    "print(C)"
   ]
  },
  {
   "cell_type": "code",
   "execution_count": 10,
   "metadata": {},
   "outputs": [
    {
     "name": "stdout",
     "output_type": "stream",
     "text": [
      "{54, 'Sample Text'}\n",
      "{54, 'Sample Text'}\n",
      "{1, 3, 6, '1', 7, '5', '9', 10, 9, '2', '6'}\n",
      "{54, 'Sample Text'}\n",
      "{1, 3, 6, '1', 7, '5', '9', 10, 9, '2', '6'}\n",
      "{54, 'Sample Text'}\n",
      "{1, 3, 6, '1', 7, '5', '9', 10, 9, '2', '6'}\n"
     ]
    }
   ],
   "source": [
    "# (c) \n",
    "C.add(54)\n",
    "print(C)\n",
    "C.add(\"Sample Text\")\n",
    "print(C)\n",
    "print(D)\n",
    "C.difference(D)\n",
    "print(C)\n",
    "print(D)\n",
    "C.difference_update(D)\n",
    "print(C)\n",
    "print(D)"
   ]
  },
  {
   "cell_type": "code",
   "execution_count": 13,
   "metadata": {},
   "outputs": [
    {
     "name": "stdout",
     "output_type": "stream",
     "text": [
      "{54, 'Sample Text'}\n",
      "{1, 3, 6, 7, '9', 9, 10, '6', '1', '5', '2', 54, 'Sample Text'}\n",
      "{1, 3, 6, 7, '9', 9, 10, '6', '1', '5', '2', 54, 'Sample Text'}\n",
      "{1, 3, 6, '1', 7, '5', '9', 10, 9, '2', '6'}\n"
     ]
    }
   ],
   "source": [
    "# (d) \n",
    "C.symmetric_difference(D)\n",
    "print(C)\n",
    "C.symmetric_difference_update(D)\n",
    "print(C)\n",
    "A.issubset(B)\n",
    "A.issuperset(B)\n",
    "A.isdisjoint(B)\n",
    "print(A)\n",
    "print(B)"
   ]
  },
  {
   "cell_type": "code",
   "execution_count": 1,
   "metadata": {},
   "outputs": [
    {
     "name": "stdout",
     "output_type": "stream",
     "text": [
      "{1, 2, 3, 4, 5, 6, 8, 9}\n"
     ]
    },
    {
     "ename": "NameError",
     "evalue": "name 'Y' is not defined",
     "output_type": "error",
     "traceback": [
      "\u001b[1;31m---------------------------------------------------------------------------\u001b[0m",
      "\u001b[1;31mNameError\u001b[0m                                 Traceback (most recent call last)",
      "Cell \u001b[1;32mIn[1], line 4\u001b[0m\n\u001b[0;32m      2\u001b[0m X \u001b[38;5;241m=\u001b[39m {\u001b[38;5;241m1\u001b[39m, \u001b[38;5;241m2\u001b[39m, \u001b[38;5;241m3\u001b[39m, \u001b[38;5;241m4\u001b[39m, \u001b[38;5;241m2\u001b[39m, \u001b[38;5;241m3\u001b[39m, \u001b[38;5;241m5\u001b[39m, \u001b[38;5;241m6\u001b[39m, \u001b[38;5;241m1\u001b[39m, \u001b[38;5;241m2\u001b[39m, \u001b[38;5;241m9\u001b[39m, \u001b[38;5;241m8\u001b[39m}\n\u001b[0;32m      3\u001b[0m \u001b[38;5;28mprint\u001b[39m(X)\n\u001b[1;32m----> 4\u001b[0m Y\u001b[38;5;241m.\u001b[39madd(\u001b[38;5;241m7\u001b[39m)\n\u001b[0;32m      5\u001b[0m Y\u001b[38;5;241m.\u001b[39madd(\u001b[38;5;241m100.65\u001b[39m)\n\u001b[0;32m      6\u001b[0m Y\u001b[38;5;241m.\u001b[39madd(\u001b[38;5;124m\"\u001b[39m\u001b[38;5;124mITER\u001b[39m\u001b[38;5;124m\"\u001b[39m)\n",
      "\u001b[1;31mNameError\u001b[0m: name 'Y' is not defined"
     ]
    }
   ],
   "source": [
    "# (e) \n",
    "X = {1, 2, 3, 4, 2, 3, 5, 6, 1, 2, 9, 8}\n",
    "print(X)\n",
    "Y.add(7)\n",
    "Y.add(100.65)\n",
    "Y.add(\"ITER\")\n",
    "Y.add(76.89)\n",
    "print(Y)\n",
    "print(Y|X)\n",
    "print(Y&X)\n",
    "print(Y-X)\n",
    "print(Y^X)\n",
    "print(Y)\n",
    "print(X)\n",
    "print(Y|=X)\n",
    "print(Y&=X)\n",
    "print(Y)\n",
    "print(X)"
   ]
  },
  {
   "cell_type": "markdown",
   "metadata": {},
   "source": [
    " 12. Develop Python Programs for the following below scenario.\n",
    "    \n",
    " (a) Write a Python Program which will prompt user to enter 10 different sample inputs like integer/float/string/boolean/list/tuple/set/dictionary objects etc. and store them into a Set object. Find\n",
    " out all unique characters present in that set object."
   ]
  },
  {
   "cell_type": "code",
   "execution_count": null,
   "metadata": {},
   "outputs": [],
   "source": []
  },
  {
   "cell_type": "markdown",
   "metadata": {},
   "source": [
    "(b) Develop a Python program which will prompt user to enter 15 positive numbers randomly (repetition\n",
    " allowed) and divide all those unique numbers into two different list objects such that one list contains prime numbers and another list contains composite numbers. Finally, display the output."
   ]
  },
  {
   "cell_type": "code",
   "execution_count": 15,
   "metadata": {},
   "outputs": [
    {
     "name": "stdout",
     "output_type": "stream",
     "text": [
      "Prime no: [2, 17, 3, 47]\n",
      "Complex no: [49, 15, 93, 90, 84, 12, 51, 36, 36, 63, 72]\n"
     ]
    }
   ],
   "source": [
    "def isPrime(n):\n",
    "    c=0\n",
    "    if n<2:\n",
    "        return False\n",
    "    for i in range (1,n+1):\n",
    "        if n%i==0:\n",
    "            c=c+1\n",
    "    if c==2:\n",
    "        return True\n",
    "    else:\n",
    "        return False\n",
    "PN=[]\n",
    "CN=[]\n",
    "\n",
    "for i in range(15):\n",
    "    n=random.randint(0,100)\n",
    "    if isPrime(n):\n",
    "        PN.append(n)\n",
    "    else:\n",
    "        CN.append(n)\n",
    "print('Prime no:',PN)\n",
    "print('Complex no:',CN)"
   ]
  },
  {
   "cell_type": "markdown",
   "metadata": {},
   "source": [
    "(c) Develop a Python script which will prompt the user to enter 10 student details such as roll number, name, Physics Mark, Chemistry Mark, Mathematics mark as tuple objects and display them.\n",
    " Finally update those student details with adding fields such as total mark, average mark, status(pass\n",
    " if average mark is > 60) by adding student details as list of tuples and display the output."
   ]
  },
  {
   "cell_type": "code",
   "execution_count": null,
   "metadata": {},
   "outputs": [],
   "source": [
    "student_details = []\n",
    "for i in range(10):\n",
    "    roll_number = int(input(\"Enter roll number: \"))\n",
    "    name = input(\"Enter name: \")\n",
    "    physics_mark = int(input(\"Enter Physics mark: \"))\n",
    "    chemistry_mark = int(input(\"Enter Chemistry mark: \"))\n",
    "    mathematics_mark = int(input(\"Enter Mathematics mark: \"))\n",
    "\n",
    "    total_mark = physics_mark + chemistry_mark + mathematics_mark\n",
    "    average_mark = total_mark / 3\n",
    "    status = \"Pass\" if average_mark > 60 else \"Fail\"\n",
    "\n",
    "    student_details.append((roll_number, name, physics_mark, chemistry_mark, mathematics_mark, total_mark, average_mark, status))\n",
    "\n",
    "print(\"Student details:\")\n",
    "for student in student_details:\n",
    "    print(student)"
   ]
  },
  {
   "cell_type": "code",
   "execution_count": null,
   "metadata": {},
   "outputs": [],
   "source": [
    "l=[]\n",
    "for i in range (1):\n",
    "    r=str(input('Enter roll number: '))\n",
    "    n=str(input('Enter his/her name: '))\n",
    "    p=str(input('Enter Physics Mark: '))\n",
    "    c=str(input('Enter Chemistry Mark: '))\n",
    "    m=str(input('Enter Mathematics mark: '))\n",
    "    t=(r,n,p,c,m)\n",
    "    l.append(t)\n",
    "print(l)"
   ]
  }
 ],
 "metadata": {
  "kernelspec": {
   "display_name": "Python 3 (ipykernel)",
   "language": "python",
   "name": "python3"
  },
  "language_info": {
   "codemirror_mode": {
    "name": "ipython",
    "version": 3
   },
   "file_extension": ".py",
   "mimetype": "text/x-python",
   "name": "python",
   "nbconvert_exporter": "python",
   "pygments_lexer": "ipython3",
   "version": "3.11.4"
  }
 },
 "nbformat": 4,
 "nbformat_minor": 2
}
