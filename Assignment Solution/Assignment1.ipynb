{
 "cells": [
  {
   "cell_type": "markdown",
   "id": "55e625e8",
   "metadata": {},
   "source": [
    "                           ASSIGNMENT 1\n",
    "\n",
    "Name: Anish Kumar\n",
    "\n",
    "Regd. No: 2241011101\n",
    "\n",
    "Section: 2241007"
   ]
  },
  {
   "cell_type": "markdown",
   "id": "063674f9",
   "metadata": {},
   "source": [
    " 1. Write a Python script to show the output as\n",
    " \n",
    "    a. ”I’m a ’Student’ of ITER.”\n",
    "    \n",
    "    b. ’My Name is \\n Khan.’"
   ]
  },
  {
   "cell_type": "code",
   "execution_count": 2,
   "id": "0a21de7b",
   "metadata": {},
   "outputs": [
    {
     "name": "stdout",
     "output_type": "stream",
     "text": [
      " \"I'm a 'Student' of ITER.\" \n"
     ]
    }
   ],
   "source": [
    "print(\" \\\"I\\'m a \\'Student\\' of ITER.\\\" \")"
   ]
  },
  {
   "cell_type": "code",
   "execution_count": 2,
   "id": "9618b3d4",
   "metadata": {},
   "outputs": [
    {
     "name": "stdout",
     "output_type": "stream",
     "text": [
      "'MY Name is \n",
      " Khan.'\n"
     ]
    }
   ],
   "source": [
    "print(\"\\'MY Name is \\n Khan.\\'\")"
   ]
  },
  {
   "cell_type": "markdown",
   "id": "c551fd49",
   "metadata": {},
   "source": [
    " 2. Find the outputs for the following scripts.\n",
    " \n",
    "    a. 5 and 6\n",
    " \n",
    "    b. 0 and 6\n",
    " \n",
    "    c. 0 or 1\n",
    " \n",
    "    d. 1 or 0\n",
    " \n",
    "    e.-7*20+8/16*2+54\n",
    " \n",
    "    f. 5%10+10-25*8//5\n",
    " \n",
    "    e. ’hello’*(2-5)\n",
    " \n",
    "    f. ’hi’ > ’hello’ or ’bye’ < ’Bye’\n",
    " \n",
    "    g. 10 !=9 and 29 >= 29 and ’hi’ > ’hello’ or ’bye’ < ’Bye’ and 7 <= 2.5"
   ]
  },
  {
   "cell_type": "code",
   "execution_count": 3,
   "id": "a75e006a",
   "metadata": {},
   "outputs": [
    {
     "name": "stdout",
     "output_type": "stream",
     "text": [
      "6\n",
      "0\n",
      "1\n",
      "1\n",
      "-85.0\n",
      "-25\n",
      "hellohellohello\n",
      "True\n",
      "True\n"
     ]
    }
   ],
   "source": [
    " print(5 and 6)\n",
    " print(0 and 6)\n",
    " print(0 or 1)\n",
    " print(1 or 0)\n",
    " print(-7*20+8/16*2+54)\n",
    " print(5%10+10-25*8//5)\n",
    " print('hello'*(5-2))\n",
    " print('hi'>'hello' or 'bye'<'Bye')\n",
    " print(10 != 9 and 29 >= 29 and 'hi' > 'hello' or 'bye' < 'Bye' and 7 <= 2.5)"
   ]
  },
  {
   "cell_type": "markdown",
   "id": "62f0d785",
   "metadata": {},
   "source": [
    "3. Differentiate between the following and give examples:\n",
    "\n",
    "   a. = & ==\n",
    "    \n",
    "    '=' is an Assignment Operator used to assign values & '==' is used as Equall to Operator to check     two values are equal or not.\n",
    "    \n",
    "   b. / & %\n",
    "   \n",
    "   '/' is used as Division Operetor which gives us the value as normal division & '%' is used as Modulo Operator which gives us only reminder.\n",
    " \n",
    "   c. / & //\n",
    "   \n",
    "   '/' is used as Division Operator & '//' is used as Floor Division Operator.\n",
    "   \n",
    "   d.* & **\n",
    "   \n",
    "  * is used for multiplication & ** is used for exponential operation\n",
    " \n",
    "    e. x=x10 & x=x*10\n",
    "    \n",
    "    first one is simply the multiplication of x and 10 & in the second one it will evaluate xx10\n",
    "    \n",
    "    f. interpreted Language & Compiled Language\n",
    "    \n",
    "    In interpreted language there is no work of a compiler and in a compile language the high level\n",
    "    language is first converted to machine level language.\n",
    "    \n",
    "    g. Data scientist & Datat Analyst\n",
    "    \n",
    "    Data scientist create and mine data & Data Analyst analyse the Data\n",
    "    \n",
    "    h. \\ & /\n",
    "    \n",
    "    \\ is used for Ecape Sequence & / is used for division operation"
   ]
  },
  {
   "cell_type": "markdown",
   "id": "b32214cc",
   "metadata": {},
   "source": [
    "4. Construct logical expressions for representing the following conditions:\n",
    "\n",
    "   a. marks scored should be greater than 300 and less than 400.\n",
    " \n",
    "   b. Whether the value of grade is an uppercase letter.\n",
    " \n",
    "   c. The post is engineer and experience is more than four years."
   ]
  },
  {
   "cell_type": "code",
   "execution_count": 5,
   "id": "25862045",
   "metadata": {},
   "outputs": [
    {
     "name": "stdout",
     "output_type": "stream",
     "text": [
      "Enter the mark: 360\n",
      "True\n"
     ]
    }
   ],
   "source": [
    "# a:\n",
    "mark=int(input(\"Enter the mark: \"))\n",
    "print(mark>300 and mark<400)"
   ]
  },
  {
   "cell_type": "code",
   "execution_count": 6,
   "id": "d0b5b10d",
   "metadata": {},
   "outputs": [
    {
     "name": "stdout",
     "output_type": "stream",
     "text": [
      "Enter the string: A\n",
      "True\n"
     ]
    }
   ],
   "source": [
    "# b.\n",
    "grade=str(input(\"Enter the string: \"))\n",
    "print(grade.isupper())"
   ]
  },
  {
   "cell_type": "code",
   "execution_count": 7,
   "id": "f55ca8ae",
   "metadata": {},
   "outputs": [
    {
     "name": "stdout",
     "output_type": "stream",
     "text": [
      "Enter the Post: Engineer\n",
      "Enter the experience year: 5\n",
      "True\n"
     ]
    }
   ],
   "source": [
    "# c.\n",
    "Post=str(input(\"Enter the Post: \"))\n",
    "Experience=int(input(\"Enter the experience year: \"))\n",
    "print(Post== \"Engineer\" and Experience>4)"
   ]
  },
  {
   "cell_type": "markdown",
   "id": "cef76ff4",
   "metadata": {},
   "source": [
    " 5. Create a program that reads the length and width of a farmer’s field from the user in feet. Display the\n",
    " area of the field in acres. Hint: There are 43,560 square feet in an acre."
   ]
  },
  {
   "cell_type": "code",
   "execution_count": 9,
   "id": "f40ba126",
   "metadata": {},
   "outputs": [
    {
     "name": "stdout",
     "output_type": "stream",
     "text": [
      "Enter the length in feet: 123\n",
      "Enter the width in feet: 123\n",
      "Area in acre: 0.34731404958677686\n"
     ]
    }
   ],
   "source": [
    "length=int(input(\"Enter the length in feet: \"))\n",
    "width=int(input(\"Enter the width in feet: \"))\n",
    "area= length*width\n",
    "areainacre= area/43560;\n",
    "print('Area in acre:',areainacre)"
   ]
  },
  {
   "cell_type": "markdown",
   "id": "b74960bb",
   "metadata": {},
   "source": [
    " 6. Anonline retailer sells two products: Soap and Shampoo. Each soap costs 75 rs. Each shampoo costs\n",
    " 111 rs. Write a program that reads the number of soaps and the number of shampoo from the user.\n",
    " Then your program should compute and display the total price for the order."
   ]
  },
  {
   "cell_type": "code",
   "execution_count": 10,
   "id": "331b91bd",
   "metadata": {},
   "outputs": [
    {
     "name": "stdout",
     "output_type": "stream",
     "text": [
      "Enter the price of Soap: 5\n",
      "Enter the price of Shampoo: 5\n",
      "Total price: 930\n"
     ]
    }
   ],
   "source": [
    "x=int(input('Enter the price of Soap: '))\n",
    "y=int(input('Enter the price of Shampoo: '))\n",
    "TotalPrice=x*75+y*111\n",
    "print('Total price:',TotalPrice)"
   ]
  },
  {
   "cell_type": "markdown",
   "id": "bd159080",
   "metadata": {},
   "source": [
    " 7. Write a program that determines how quickly an object is travelling when it hits the ground. The user\n",
    " will enter the height from which the object is dropped in meters (m). Because the object is dropped\n",
    " its initial speed is 0 m/s. Assume that the acceleration due to gravity is 9.8m/s2. You can use the\n",
    " formula vf= (v2\n",
    " i +2ad) to compute the final speed, vf, when the initial speed, vi, acceleration, a,\n",
    " and distance, d, are known."
   ]
  },
  {
   "cell_type": "code",
   "execution_count": 11,
   "id": "32ecc664",
   "metadata": {},
   "outputs": [
    {
     "name": "stdout",
     "output_type": "stream",
     "text": [
      "Enter the height from which the object is dropped in meters (m): 1213\n",
      "Final Speed: 154.1907909052937\n"
     ]
    }
   ],
   "source": [
    "import math\n",
    "d=float(input(\"Enter the height from which the object is dropped in meters (m): \"))\n",
    "a=9.8\n",
    "Vi=0\n",
    "Vf= (Vi*Vi)+(2*a*d)\n",
    "print('Final Speed:',math.sqrt(Vf))"
   ]
  },
  {
   "cell_type": "markdown",
   "id": "2ab8de3b",
   "metadata": {},
   "source": [
    " 8. Write a program that reads a four-digit integer from the user and displays the sum of its digits. For\n",
    " example, if the user enters 3141 then your program should display 3 + 1 + 4 + 1 = 9."
   ]
  },
  {
   "cell_type": "code",
   "execution_count": 11,
   "id": "b5fda396",
   "metadata": {},
   "outputs": [
    {
     "name": "stdout",
     "output_type": "stream",
     "text": [
      "Enter a four digit no. :1234\n",
      "sum: 10\n"
     ]
    }
   ],
   "source": [
    "x=int(input('Enter a four digit no. :'))\n",
    "sum=0\n",
    "sum=sum+(x%10)\n",
    "x=x//10\n",
    "sum=sum+(x%10)\n",
    "x=x//10\n",
    "sum=sum+(x%10)\n",
    "x=x//10\n",
    "sum=sum+(x%10)\n",
    "print('sum:',sum)"
   ]
  },
  {
   "cell_type": "markdown",
   "id": "9e8f8e51",
   "metadata": {},
   "source": [
    " 9. Write a program that reads three integers from the user and displays them in sorted order (from\n",
    " smallest to largest). Use the min and max functions to find the smallest and largest values. The middle\n",
    " value can be found by computing the sum of all three values, and then subtracting the minimum value\n",
    " and the maximum value."
   ]
  },
  {
   "cell_type": "code",
   "execution_count": 1,
   "id": "84f047ab",
   "metadata": {},
   "outputs": [
    {
     "name": "stdout",
     "output_type": "stream",
     "text": [
      "Enter x: 7\n",
      "Enter y: 5\n",
      "Enter z: 4\n",
      "sorted order: 4 5 7\n"
     ]
    }
   ],
   "source": [
    "x=int(input('Enter x: '))\n",
    "y=int(input('Enter y: '))\n",
    "z=int(input('Enter z: '))\n",
    "minm=min(x,y,z)\n",
    "maxm=max(x,y,z)\n",
    "midVal=(x+y+z)-(minm+maxm)\n",
    "print('sorted order:',minm,midVal,maxm)\n"
   ]
  },
  {
   "cell_type": "markdown",
   "id": "5f533d53",
   "metadata": {},
   "source": [
    " 10. Create a program that reads duration from the user as a number of days, hours, minutes, and seconds.\n",
    " Compute and display the total number of seconds represented by this duration."
   ]
  },
  {
   "cell_type": "code",
   "execution_count": 5,
   "id": "007d8dd7",
   "metadata": {},
   "outputs": [
    {
     "name": "stdout",
     "output_type": "stream",
     "text": [
      "Enter no of days: 1\n",
      "Enter no of hours: 0\n",
      "Enter no of minutes: 0\n",
      "Enter no of seconds: 0\n",
      "total number of seconds= 86400 seconds\n"
     ]
    }
   ],
   "source": [
    "d=int(input('Enter no of days: '))\n",
    "h=int(input('Enter no of hours: '))\n",
    "m=int(input('Enter no of minutes: '))\n",
    "s=int(input('Enter no of seconds: '))\n",
    "totSec=(d*24*60*60)+(h*60*60)+(m*60)+s\n",
    "print('total number of seconds=',totSec,'seconds')"
   ]
  },
  {
   "cell_type": "markdown",
   "id": "db7d526f",
   "metadata": {},
   "source": [
    "11. Write a program that begins by reading a radius, r, from the user. The program will continue by\n",
    " computing and displaying the area of a circle with radius r and the volume of a sphere with radius r.\n",
    " Use the pi constant in the math module in your calculations.\n",
    " Hint: The area of a circle is computed using the formula area = π ∗ r2. The volume of a sphere is\n",
    " computed using the formula volume = (4/3)∗π∗r3."
   ]
  },
  {
   "cell_type": "code",
   "execution_count": 9,
   "id": "bccd9a33",
   "metadata": {},
   "outputs": [
    {
     "name": "stdout",
     "output_type": "stream",
     "text": [
      "Enter the radius: 9\n",
      "area of a circle is= 254.34\n",
      "volume of a sphere is= 3052.08\n"
     ]
    }
   ],
   "source": [
    "r=int(input('Enter the radius: '))\n",
    "aCircle=3.14*r**2\n",
    "vCircle=(4/3)*(3.14)*(r**3)\n",
    "print('area of a circle is=',aCircle)\n",
    "print('volume of a sphere is=',vCircle)"
   ]
  },
  {
   "cell_type": "markdown",
   "id": "899ae943",
   "metadata": {},
   "source": [
    " 12. Find the output and describe the mnethod that is used in the question.\n",
    " \n",
    "     Let the string str is given by:\n",
    " \n",
    "     str= Hey! Hello!, Can you hear me, Mr. Hello?\n",
    " \n",
    "     a. len(str)\n",
    " \n",
    "     b. str.upper()\n",
    " \n",
    "     c. str.lower()\n",
    " \n",
    "     d. str.title()\n",
    " \n",
    "     e. str.capitalize()\n",
    " \n",
    "     f. str.swapcase()\n",
    " \n",
    "     g. str.split(’,’)\n",
    " \n",
    "     h. str.find(’He’)\n",
    " \n",
    "     i. str.rfind(’He’)\n",
    " \n",
    "     j. str.find(’He’,4,12)\n",
    " \n",
    "     k. str.isalpha()\n",
    " \n",
    "     l. str.islower()\n",
    " \n",
    "     i. str.count(’He’)\n",
    " \n",
    "     j. str.count(’He’,3,10)\n",
    " \n",
    "     k. str.startswith(”Hey”)\n",
    " \n",
    "     l. str.rstrip(’H’)\n",
    " \n",
    "     m. str.replace(’Hello’, ’Virat’)\n",
    " \n",
    "     n. str.replace(’Hello’,’Virat’,1)\n",
    " \n",
    "     o. str.endswith(’!’)\n",
    " \n",
    "     p. str.partition(’!’)"
   ]
  },
  {
   "cell_type": "code",
   "execution_count": 18,
   "id": "f53e8cde",
   "metadata": {},
   "outputs": [
    {
     "name": "stdout",
     "output_type": "stream",
     "text": [
      "40\n",
      "HEY! HELLO!, CAN YOU HEAR ME, MR. HELLO?\n",
      "hey! hello!, can you hear me, mr. hello?\n",
      "Hey! Hello!, Can You Hear Me, Mr. Hello?\n",
      "Hey! hello!, can you hear me, mr. hello?\n",
      "hEY! hELLO!, cAN YOU HEAR ME, mR. hELLO?\n",
      "['Hey! Hello!', ' Can you hear me', ' Mr. Hello?']\n",
      "0\n",
      "34\n",
      "5\n",
      "False\n",
      "False\n",
      "3\n",
      "1\n",
      "True\n",
      "Hey! Hello!, Can you hear me, Mr. Hello?\n",
      "Hey! Virat!, Can you hear me, Mr. Virat?\n",
      "Hey! Virat!, Can you hear me, Mr. Hello?\n",
      "False\n",
      "('Hey', '!', ' Hello!, Can you hear me, Mr. Hello?')\n"
     ]
    }
   ],
   "source": [
    "str= \"Hey! Hello!, Can you hear me, Mr. Hello?\"\n",
    "print(len(str))\n",
    "print(str.upper())\n",
    "print(str.lower())\n",
    "print(str.title())\n",
    "print(str.capitalize())\n",
    "print(str.swapcase())\n",
    "print(str.split(','))\n",
    "print(str.find('He'))\n",
    "print(str.rfind('He'))\n",
    "print(str.find('He',4,12))\n",
    "print(str.isalpha())\n",
    "print(str.islower())\n",
    "print(str.count('He'))\n",
    "print(str.count('He',3,10))\n",
    "print(str.startswith('Hey'))\n",
    "print(str.rstrip('H'))\n",
    "print(str.replace('Hello', 'Virat'))\n",
    "print(str.replace('Hello','Virat',1))\n",
    "print(str.endswith('!'))\n",
    "print(str.partition('!'))\n"
   ]
  },
  {
   "cell_type": "markdown",
   "id": "73ff3dd1",
   "metadata": {},
   "source": [
    "13. For the string,\n",
    "\n",
    "    str= Hey! Hello!, Can you hear me, Mr. Hello?\n",
    " \n",
    "    write the outputs of the followings.\n",
    " \n",
    "    a. str[4:7]\n",
    " \n",
    "    b. str[:7]\n",
    " \n",
    "    c. str[4:]\n",
    " \n",
    "    d. str[-len(str): len(str)]\n",
    " \n",
    "    e. str[:-5] + address[-3:]\n",
    " \n",
    "    f. ’$’.join(str)"
   ]
  },
  {
   "cell_type": "code",
   "execution_count": 23,
   "id": "76fa97a7",
   "metadata": {},
   "outputs": [
    {
     "name": "stdout",
     "output_type": "stream",
     "text": [
      " He\n",
      "Hey! He\n",
      " Hello!, Can you hear me, Mr. Hello?\n",
      "Hey! Hello!, Can you hear me, Mr. Hello?\n",
      "Hey! Hello!, Can you hear me, Mr. H\n",
      "H$e$y$!$ $H$e$l$l$o$!$,$ $C$a$n$ $y$o$u$ $h$e$a$r$ $m$e$,$ $M$r$.$ $H$e$l$l$o$?\n"
     ]
    }
   ],
   "source": [
    "str=\"Hey! Hello!, Can you hear me, Mr. Hello?\"\n",
    "print(str[4:7])\n",
    "print(str[:7])\n",
    "print(str[4:])\n",
    "print(str[-len(str): len(str)])\n",
    "print(str[:-5])\n",
    "print('$'.join(str))"
   ]
  }
 ],
 "metadata": {
  "kernelspec": {
   "display_name": "Python 3 (ipykernel)",
   "language": "python",
   "name": "python3"
  },
  "language_info": {
   "codemirror_mode": {
    "name": "ipython",
    "version": 3
   },
   "file_extension": ".py",
   "mimetype": "text/x-python",
   "name": "python",
   "nbconvert_exporter": "python",
   "pygments_lexer": "ipython3",
   "version": "3.11.4"
  }
 },
 "nbformat": 4,
 "nbformat_minor": 5
}
