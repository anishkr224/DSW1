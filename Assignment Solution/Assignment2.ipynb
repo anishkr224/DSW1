{
 "cells": [
  {
   "cell_type": "markdown",
   "metadata": {},
   "source": [
    "                                      Assignment-2\n",
    "\n",
    "Name: Anish Kumar\n",
    "\n",
    "Regd. no: 2241011101\n",
    "\n",
    "Section: 2241007"
   ]
  },
  {
   "cell_type": "markdown",
   "metadata": {},
   "source": [
    "1. Write a python script to solve the following problems.(Don’t use loops or functions for the following problems)\n",
    "\n",
    "   a. Given a positive integer, determine it is an even number or odd number.\n",
    "   \n",
    "   b. Given a string check it is a palindrome or not. Hint: Use string slicing with step=-1 to reverse the string.\n",
    "   \n",
    "   c. Given an alphabet, check whether it is a vowel or a consonant.\n",
    "   \n",
    "   d. Given a month and date, find which season does it belong to. Hint: Dec21-Mar20: winter, Mar21-\n",
    "   June20: Spring, June21-Sep20: Summer, Sep21-Dec20: Fall\n",
    "   \n",
    "   e. Given a year find it is a leap year or not. Hint: A year that is an integer multiple of 4 (except for years evenly divisible by 100, but not by 400)."
   ]
  },
  {
   "cell_type": "code",
   "execution_count": 1,
   "metadata": {},
   "outputs": [
    {
     "name": "stdout",
     "output_type": "stream",
     "text": [
      "Enter the number: 9\n",
      "Odd\n"
     ]
    }
   ],
   "source": [
    "# a:\n",
    "n=int(input('Enter the number: '))\n",
    "if n%2==0:\n",
    "    print('Even')\n",
    "else:\n",
    "    print('Odd')"
   ]
  },
  {
   "cell_type": "code",
   "execution_count": 2,
   "metadata": {},
   "outputs": [
    {
     "name": "stdout",
     "output_type": "stream",
     "text": [
      "Enter the string: adda\n",
      "palindrome\n"
     ]
    }
   ],
   "source": [
    "# b.\n",
    "string=str(input('Enter the string: '))\n",
    "if string==string[::-1]:\n",
    "    print('palindrome')\n",
    "else:\n",
    "    print('not palindrome')"
   ]
  },
  {
   "cell_type": "code",
   "execution_count": 14,
   "metadata": {},
   "outputs": [
    {
     "name": "stdout",
     "output_type": "stream",
     "text": [
      "Enter the alphabet: A\n",
      "vowel\n"
     ]
    }
   ],
   "source": [
    "# c.\n",
    "alphabet=input('Enter the alphabet: ')\n",
    "if alphabet in 'aeiouAEIOU':\n",
    "    print('vowel')\n",
    "else:\n",
    "    print('consonant')"
   ]
  },
  {
   "cell_type": "code",
   "execution_count": 46,
   "metadata": {},
   "outputs": [
    {
     "name": "stdout",
     "output_type": "stream",
     "text": [
      "Enter the month: Feb\n",
      "Enter the date: 9\n",
      "Winter\n"
     ]
    }
   ],
   "source": [
    "# d.\n",
    "m=str(input('Enter the month: '))\n",
    "d=int(input('Enter the date: '))\n",
    "\n",
    "if m=='Dec':\n",
    "    if d>=21:\n",
    "        print('winter')\n",
    "    else:\n",
    "        print('fall')\n",
    "\n",
    "if m=='Jan':\n",
    "    print('Winter')\n",
    "    \n",
    "if m=='Feb':\n",
    "    print('Winter')\n",
    "    \n",
    "if m=='Mar':\n",
    "    if d>=21:\n",
    "        print('Spring')\n",
    "    else:def mean(x,y,z):\n",
    "        print('Winter')\n",
    "        \n",
    "if m=='Apr':\n",
    "    print('Spring')\n",
    "    \n",
    "if m=='May':\n",
    "    print('Spring')\n",
    "    \n",
    "if m=='June':\n",
    "    if d>=21:\n",
    "        print('Summer')\n",
    "    else:\n",
    "        print('Spring')\n",
    "        \n",
    "if m=='July':\n",
    "    print('Summer')\n",
    "    \n",
    "if m=='Aug':\n",
    "    print('Summer')\n",
    "    \n",
    "if m=='Sep':\n",
    "    if d>=21:\n",
    "        print('Fall')\n",
    "    else:\n",
    "        print('Summer')\n",
    "        \n",
    "if m=='Oct':\n",
    "    print('Fall')\n",
    "    \n",
    "if m=='Nov':\n",
    "    print('Fall')\n",
    "    \n",
    "        \n",
    "    "
   ]
  },
  {
   "cell_type": "code",
   "execution_count": 3,
   "metadata": {},
   "outputs": [
    {
     "name": "stdout",
     "output_type": "stream",
     "text": [
      "Enter the year: 2016\n",
      "Leap year\n"
     ]
    }
   ],
   "source": [
    "# e.\n",
    "year=int(input('Enter the year: '))\n",
    "if year%100!=0 and year%4==0 or year%400==0:\n",
    "    print('Leap year')\n",
    "else:\n",
    "    print('Not leap year')"
   ]
  },
  {
   "cell_type": "markdown",
   "metadata": {},
   "source": [
    "2. (Don’t use conditional and loops for the following problems)\n",
    "\n",
    "    a. Create functions add(), subtract(), multiply(), division(), so that we can get same value for the\n",
    "    following two expressions. 2 + 3 − 4 ∗ 5/6 and subtract(add(2,3),multiply(division(5,6),4)).\n",
    "    \n",
    "    b. Write a python function solution(a,b,c) to find the quadratic roots of the equation\n",
    "    ax2 + bx + c = 0.\n",
    "    Hint: The return statement should return a tuple=(root1,root2)\n",
    "    \n",
    "    c. Write a python HI(x), which will show output, ”Hi x”, when the argument ’x’ is passed to the\n",
    "    function Hi().\n",
    "    \n",
    "    d. Write two python functions mean() and median(), to find the mean and median of three numbers.\n",
    "    \n",
    "    e. Write a function to compute sum of first n natural numbers. Hint: use the formula\n",
    "    1 + 2 + 3 + · · · + n = n(n + 1)/2."
   ]
  },
  {
   "cell_type": "code",
   "execution_count": 21,
   "metadata": {},
   "outputs": [
    {
     "name": "stdout",
     "output_type": "stream",
     "text": [
      "1.6666666666666665\n",
      "1.6666666666666665\n"
     ]
    }
   ],
   "source": [
    "# a.\n",
    "def add(x,y):\n",
    "    return (x+y)\n",
    "def subtract(x,y):\n",
    "    return (x-y)\n",
    "def multiply(x,y):\n",
    "    return (x*y)\n",
    "def division(x,y):\n",
    "    return (x/y)\n",
    "print(subtract(add(2,3),multiply(division(5,6),4)))\n",
    "print(2+3-4*5/6)\n"
   ]
  },
  {
   "cell_type": "code",
   "execution_count": 9,
   "metadata": {},
   "outputs": [
    {
     "name": "stdout",
     "output_type": "stream",
     "text": [
      "(-0.2041684766872809, -9.79583152331272)\n"
     ]
    }
   ],
   "source": [
    "# b.\n",
    "import math\n",
    "def solution(a,b,c):\n",
    "    if b*b-4*a*c>0:\n",
    "        r1=(-b+math.sqrt(b*b-4*a*c))/2*a\n",
    "        r2=(-b-math.sqrt(b*b-4*a*c))/2*a\n",
    "        return (r1,r2)\n",
    "    else:\n",
    "        return ('Imaginary Root')\n",
    "print (solution(1,10,2))"
   ]
  },
  {
   "cell_type": "code",
   "execution_count": 22,
   "metadata": {},
   "outputs": [
    {
     "name": "stdout",
     "output_type": "stream",
     "text": [
      "Pass the argument: anish\n",
      "Hi anish\n"
     ]
    }
   ],
   "source": [
    "# c.\n",
    "def HI(x):\n",
    "    return('Hi '+x)\n",
    "x=input('Pass the argument: ')\n",
    "print(HI(x))"
   ]
  },
  {
   "cell_type": "code",
   "execution_count": 41,
   "metadata": {},
   "outputs": [
    {
     "name": "stdout",
     "output_type": "stream",
     "text": [
      "Enter x: 2\n",
      "Enter y: 4\n",
      "Enter z: 5\n",
      "mean: 3.6666666666666665\n",
      "median: 4\n"
     ]
    }
   ],
   "source": [
    "# d.\n",
    "x=int(input('Enter x: '))\n",
    "y=int(input('Enter y: '))\n",
    "z=int(input('Enter z: '))\n",
    "def mean(x,y,z):\n",
    "    return((x+y+z)/3)\n",
    "def median(x,y,z):\n",
    "    return(mid)\n",
    "minm=min(x,y,z)\n",
    "maxm=max(x,y,z)\n",
    "mid=((x+y+z)-(minm+maxm))\n",
    "print('mean:',mean(x,y,z))\n",
    "print('median:',median(x,y,z))"
   ]
  },
  {
   "cell_type": "code",
   "execution_count": 49,
   "metadata": {},
   "outputs": [
    {
     "name": "stdout",
     "output_type": "stream",
     "text": [
      "Enter the range: 9\n",
      "Sum: 45.0\n"
     ]
    }
   ],
   "source": [
    "# e.\n",
    "n=int(input('Enter the range: '))\n",
    "def sum(n):\n",
    "    return((n*(n+1))/2)\n",
    "print('Sum:',sum(n))"
   ]
  },
  {
   "cell_type": "markdown",
   "metadata": {},
   "source": [
    "3. In this exercise you will create a program that displays a multiplication table that shows the products\n",
    "of all combinations of integers from 1 times 1 up to and including 10 times 10. Your multiplication\n",
    "table should include a row of labels across the top of it containing the numbers 1 through 10. It should\n",
    "also include labels down the left side consisting of the numbers 1 through 10. The expected output\n",
    "from the program is shown below:"
   ]
  },
  {
   "cell_type": "code",
   "execution_count": 4,
   "metadata": {},
   "outputs": [
    {
     "name": "stdout",
     "output_type": "stream",
     "text": [
      "       1   2   3   4   5   6   7   8   9  10\n",
      "                                             \n",
      " 1     1   2   3   4   5   6   7   8   9  10\n",
      " 2     2   4   6   8  10  12  14  16  18  20\n",
      " 3     3   6   9  12  15  18  21  24  27  30\n",
      " 4     4   8  12  16  20  24  28  32  36  40\n",
      " 5     5  10  15  20  25  30  35  40  45  50\n",
      " 6     6  12  18  24  30  36  42  48  54  60\n",
      " 7     7  14  21  28  35  42  49  56  63  70\n",
      " 8     8  16  24  32  40  48  56  64  72  80\n",
      " 9     9  18  27  36  45  54  63  72  81  90\n",
      "10    10  20  30  40  50  60  70  80  90 100\n"
     ]
    }
   ],
   "source": [
    "# format operator:\n",
    "# Print the column labels (1 to 10)\n",
    "print(\"    \", end=\"\")\n",
    "for i in range(1, 11):\n",
    "    print(f\"{i:4}\", end=\"\")\n",
    "print(\"\\n\" + \" \" * 45)\n",
    "\n",
    "# Print the table rows\n",
    "for i in range(1, 11):\n",
    "    print(f\"{i:2}  \", end=\"\")\n",
    "    for j in range(1, 11):\n",
    "        product = i * j\n",
    "        print(f\"{product:4}\", end=\"\")\n",
    "    print()"
   ]
  },
  {
   "cell_type": "markdown",
   "metadata": {},
   "source": [
    "  4. Write a function that accepts as an input parameter the number of rows to be printed and printsa\n",
    " figure like:"
   ]
  },
  {
   "cell_type": "markdown",
   "metadata": {},
   "source": [
    "# a."
   ]
  },
  {
   "cell_type": "code",
   "execution_count": 3,
   "metadata": {},
   "outputs": [
    {
     "name": "stdout",
     "output_type": "stream",
     "text": [
      "   1\n",
      "  212\n",
      " 32123\n",
      "4321234\n"
     ]
    }
   ],
   "source": [
    "s='1'\n",
    "for i in range(2,6):\n",
    "    print((5-i)*' '+s)\n",
    "    s=str(i)+s+str(i)"
   ]
  },
  {
   "cell_type": "markdown",
   "metadata": {},
   "source": [
    "# b."
   ]
  },
  {
   "cell_type": "code",
   "execution_count": 5,
   "metadata": {},
   "outputs": [
    {
     "name": "stdout",
     "output_type": "stream",
     "text": [
      "5  4  3  2  1  \n",
      "4  3  2  1  \n",
      "3  2  1  \n",
      "2  1  \n",
      "1  \n"
     ]
    }
   ],
   "source": [
    "c=int(6)\n",
    "for i in range(0,5) :\n",
    "    c=c-1\n",
    "    for j in range(c,0,-1) :\n",
    "        print(str(j)+' ',end=' ')\n",
    "    print()"
   ]
  },
  {
   "cell_type": "markdown",
   "metadata": {},
   "source": [
    "# c."
   ]
  },
  {
   "cell_type": "code",
   "execution_count": 6,
   "metadata": {},
   "outputs": [
    {
     "name": "stdout",
     "output_type": "stream",
     "text": [
      "      \n",
      "     * \n",
      "    * * \n",
      "   * * * \n",
      "  * * * * \n",
      " * * * * * \n",
      "  * * * * \n",
      "   * * * \n",
      "    * * \n",
      "     * \n"
     ]
    }
   ],
   "source": [
    "for i in range (6):\n",
    "    print(' '*(6-i)+('* '*i))\n",
    "\n",
    "for j in range (4):\n",
    "    print(' ' ,end=' ')\n",
    "    print((' '*j)+'* '*(4-j))"
   ]
  }
 ],
 "metadata": {
  "kernelspec": {
   "display_name": "Python 3 (ipykernel)",
   "language": "python",
   "name": "python3"
  },
  "language_info": {
   "codemirror_mode": {
    "name": "ipython",
    "version": 3
   },
   "file_extension": ".py",
   "mimetype": "text/x-python",
   "name": "python",
   "nbconvert_exporter": "python",
   "pygments_lexer": "ipython3",
   "version": "3.11.4"
  }
 },
 "nbformat": 4,
 "nbformat_minor": 2
}
