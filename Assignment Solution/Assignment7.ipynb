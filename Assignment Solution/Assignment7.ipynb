{
 "cells": [
  {
   "cell_type": "markdown",
   "id": "f3f950a0",
   "metadata": {},
   "source": [
    "# Assignment-7\n",
    "\n",
    "Name: Anish kumar\n",
    "\n",
    "Regd. no: 2241011101\n",
    "\n",
    "Section: 2241007"
   ]
  },
  {
   "cell_type": "markdown",
   "id": "a7ff103d",
   "metadata": {},
   "source": [
    "1. Write a function in python to create a text file named as ‘states.txt’ and read its \n",
    "contents line by line and display the same on screen using- ‘with’ statement and \n",
    "without it. "
   ]
  },
  {
   "cell_type": "code",
   "execution_count": 10,
   "id": "e805b212",
   "metadata": {},
   "outputs": [
    {
     "name": "stdout",
     "output_type": "stream",
     "text": [
      "Odisha\n",
      "Bihar\n",
      "Jharkhand\n",
      "West Bengal\n",
      "Maharastra\n"
     ]
    }
   ],
   "source": [
    "def write_file():\n",
    "    file=open(\"states.txt\",\"w\")\n",
    "    file.write(\"Odisha\\n\")\n",
    "    file.write(\"Bihar\\n\")\n",
    "    file.write(\"Jharkhand\\n\")\n",
    "    file.write(\"West Bengal\\n\")\n",
    "    file.write(\"Maharastra\\n\")\n",
    "    file.close()\n",
    "write_file()\n",
    "# \"with\"\n",
    "def read_file():\n",
    "    with open(\"states.txt\",\"r\") as file:\n",
    "        for line in file:\n",
    "            print(line,end=\"\")\n",
    "read_file()"
   ]
  },
  {
   "cell_type": "code",
   "execution_count": 8,
   "id": "3d82ae59",
   "metadata": {},
   "outputs": [
    {
     "name": "stdout",
     "output_type": "stream",
     "text": [
      "Odisha\n",
      "Bihar\n",
      "Jharkhand\n",
      "West Bengal\n",
      "Maharastra\n"
     ]
    }
   ],
   "source": [
    "# \"without\"\n",
    "def read_file():\n",
    "    file=open(\"states.txt\",\"r\")\n",
    "    for line in file:\n",
    "        print(line,end=\"\")\n",
    "read_file()"
   ]
  },
  {
   "cell_type": "markdown",
   "id": "c25ef613",
   "metadata": {},
   "source": [
    "2. Create a ‘sales’ Data Frame consisting of 5 rows and the following column headings- \n",
    "product_id, product_name, sold_units, and profit. Sort the frame by ‘product_id’. \n",
    "Export it to CSV file using panda’s Data Frame delimited by ‘|’ with column headings- \n",
    "id, name, units, and gain. Read and display the first 3 rows of the same file."
   ]
  },
  {
   "cell_type": "code",
   "execution_count": 42,
   "id": "ba602ab2",
   "metadata": {},
   "outputs": [
    {
     "data": {
      "text/html": [
       "<div>\n",
       "<style scoped>\n",
       "    .dataframe tbody tr th:only-of-type {\n",
       "        vertical-align: middle;\n",
       "    }\n",
       "\n",
       "    .dataframe tbody tr th {\n",
       "        vertical-align: top;\n",
       "    }\n",
       "\n",
       "    .dataframe thead th {\n",
       "        text-align: right;\n",
       "    }\n",
       "</style>\n",
       "<table border=\"1\" class=\"dataframe\">\n",
       "  <thead>\n",
       "    <tr style=\"text-align: right;\">\n",
       "      <th></th>\n",
       "      <th>id</th>\n",
       "      <th>name</th>\n",
       "      <th>units</th>\n",
       "      <th>gain</th>\n",
       "    </tr>\n",
       "  </thead>\n",
       "  <tbody>\n",
       "    <tr>\n",
       "      <th>0</th>\n",
       "      <td>1100</td>\n",
       "      <td>D</td>\n",
       "      <td>2</td>\n",
       "      <td>9</td>\n",
       "    </tr>\n",
       "    <tr>\n",
       "      <th>1</th>\n",
       "      <td>1101</td>\n",
       "      <td>E</td>\n",
       "      <td>1</td>\n",
       "      <td>0</td>\n",
       "    </tr>\n",
       "    <tr>\n",
       "      <th>2</th>\n",
       "      <td>1102</td>\n",
       "      <td>B</td>\n",
       "      <td>4</td>\n",
       "      <td>7</td>\n",
       "    </tr>\n",
       "  </tbody>\n",
       "</table>\n",
       "</div>"
      ],
      "text/plain": [
       "     id name  units  gain\n",
       "0  1100    D      2     9\n",
       "1  1101    E      1     0\n",
       "2  1102    B      4     7"
      ]
     },
     "execution_count": 42,
     "metadata": {},
     "output_type": "execute_result"
    }
   ],
   "source": [
    "import pandas as pd\n",
    "data={'product_id':[1104,1102,1109,1100,1101],\n",
    "      'product_name':['A','B','C','D','E'],\n",
    "      'sold_units':[5,4,3,2,1],\n",
    "      'profit':[6,7,8,9,0]}\n",
    "sales=pd.DataFrame(data)\n",
    "salesDF=sales.sort_values(['product_id'])\n",
    "salesDF.to_csv('sales.csv',header=['id','name','units','gain'],sep='|',index=None)\n",
    "pd.read_csv('sales.csv',sep=\"|\").head(3)"
   ]
  },
  {
   "cell_type": "markdown",
   "id": "47d96fba",
   "metadata": {},
   "source": [
    "3. Write a Python program to convert Python dictionary object (sort by key) to JSON \n",
    "data. Print the object members using indent level 4."
   ]
  },
  {
   "cell_type": "code",
   "execution_count": 49,
   "id": "81bed407",
   "metadata": {},
   "outputs": [
    {
     "data": {
      "text/plain": [
       "'{\\n    \"1\": 9,\\n    \"4\": 0,\\n    \"6\": 1,\\n    \"7\": 2,\\n    \"9\": 5\\n}'"
      ]
     },
     "execution_count": 49,
     "metadata": {},
     "output_type": "execute_result"
    }
   ],
   "source": [
    "import json\n",
    "D={'1':9,'7':2,'9':5,'4':0,'6':1}\n",
    "json.dumps(D,sort_keys=True,indent=4)"
   ]
  },
  {
   "cell_type": "markdown",
   "id": "be98df38",
   "metadata": {},
   "source": [
    "4. Write a program to create a JSON file with the following columns- name, branch, \n",
    "roll_number, and cgpa. Read the JSON file into a Data Frame and insert a new column \n",
    "‘grade’ according to ‘cgpa’-  \n",
    "\n",
    "• If cgpa <= 2 then grade=’D’ \n",
    "\n",
    "• If cgpa > 2 & cgpa <= 5 then grade=’C’ \n",
    "\n",
    "• If cgpa > 5 & cgpa <= 8 then grade=’B’ \n",
    "\n",
    "• If cgpa > 8 then grade= 'A'\n",
    "\n",
    "Save the updated Data Frame into JSON, HTML, XML, pickle, and Excel file formats. \n",
    "Read the contents of saved files into a Data Frame object and display it. "
   ]
  },
  {
   "cell_type": "code",
   "execution_count": 44,
   "id": "4b58dd25",
   "metadata": {},
   "outputs": [
    {
     "data": {
      "text/plain": [
       "'{\"name\": [\"Anish\", \"Raj\", \"Ayush\", \"Suraj\", \"Aman\"], \"branch\": [\"DS\", \"CSE\", \"CSE\", \"IoT\", \"AI & ML\"], \"roll_number\": [1101, 1102, 1103, 1104, 1105], \"cgpa\": [8.7, 9.6, 8.6, 9, 7]}'"
      ]
     },
     "execution_count": 44,
     "metadata": {},
     "output_type": "execute_result"
    }
   ],
   "source": [
    "import pandas as pd\n",
    "import json\n",
    "D={'name':['Anish','Raj','Ayush','Suraj','Aman'],\n",
    "   'branch':['DS','CSE','CSE','IoT','AI & ML'],\n",
    "   'roll_number':[1101,1102,1103,1104,1105],\n",
    "   'cgpa':[8.7,9.6,8.6,9,7]   \n",
    "}\n",
    "DJSON=json.dumps(D)\n",
    "DJSON"
   ]
  },
  {
   "cell_type": "code",
   "execution_count": 45,
   "id": "d854d85c",
   "metadata": {},
   "outputs": [
    {
     "data": {
      "text/html": [
       "<div>\n",
       "<style scoped>\n",
       "    .dataframe tbody tr th:only-of-type {\n",
       "        vertical-align: middle;\n",
       "    }\n",
       "\n",
       "    .dataframe tbody tr th {\n",
       "        vertical-align: top;\n",
       "    }\n",
       "\n",
       "    .dataframe thead th {\n",
       "        text-align: right;\n",
       "    }\n",
       "</style>\n",
       "<table border=\"1\" class=\"dataframe\">\n",
       "  <thead>\n",
       "    <tr style=\"text-align: right;\">\n",
       "      <th></th>\n",
       "      <th>name</th>\n",
       "      <th>branch</th>\n",
       "      <th>roll_number</th>\n",
       "      <th>cgpa</th>\n",
       "    </tr>\n",
       "  </thead>\n",
       "  <tbody>\n",
       "    <tr>\n",
       "      <th>0</th>\n",
       "      <td>Anish</td>\n",
       "      <td>DS</td>\n",
       "      <td>1101</td>\n",
       "      <td>8.7</td>\n",
       "    </tr>\n",
       "    <tr>\n",
       "      <th>1</th>\n",
       "      <td>Raj</td>\n",
       "      <td>CSE</td>\n",
       "      <td>1102</td>\n",
       "      <td>9.6</td>\n",
       "    </tr>\n",
       "    <tr>\n",
       "      <th>2</th>\n",
       "      <td>Ayush</td>\n",
       "      <td>CSE</td>\n",
       "      <td>1103</td>\n",
       "      <td>8.6</td>\n",
       "    </tr>\n",
       "    <tr>\n",
       "      <th>3</th>\n",
       "      <td>Suraj</td>\n",
       "      <td>IoT</td>\n",
       "      <td>1104</td>\n",
       "      <td>9.0</td>\n",
       "    </tr>\n",
       "    <tr>\n",
       "      <th>4</th>\n",
       "      <td>Aman</td>\n",
       "      <td>AI &amp; ML</td>\n",
       "      <td>1105</td>\n",
       "      <td>7.0</td>\n",
       "    </tr>\n",
       "  </tbody>\n",
       "</table>\n",
       "</div>"
      ],
      "text/plain": [
       "    name   branch  roll_number  cgpa\n",
       "0  Anish       DS         1101   8.7\n",
       "1    Raj      CSE         1102   9.6\n",
       "2  Ayush      CSE         1103   8.6\n",
       "3  Suraj      IoT         1104   9.0\n",
       "4   Aman  AI & ML         1105   7.0"
      ]
     },
     "execution_count": 45,
     "metadata": {},
     "output_type": "execute_result"
    }
   ],
   "source": [
    "with open(\"savedata.json\",\"w\") as file:\n",
    "    file.write(DJSON)\n",
    "\n",
    "df=pd.read_json(\"savedata.json\")\n",
    "df"
   ]
  },
  {
   "cell_type": "code",
   "execution_count": 46,
   "id": "89a4e05a",
   "metadata": {},
   "outputs": [
    {
     "data": {
      "text/html": [
       "<div>\n",
       "<style scoped>\n",
       "    .dataframe tbody tr th:only-of-type {\n",
       "        vertical-align: middle;\n",
       "    }\n",
       "\n",
       "    .dataframe tbody tr th {\n",
       "        vertical-align: top;\n",
       "    }\n",
       "\n",
       "    .dataframe thead th {\n",
       "        text-align: right;\n",
       "    }\n",
       "</style>\n",
       "<table border=\"1\" class=\"dataframe\">\n",
       "  <thead>\n",
       "    <tr style=\"text-align: right;\">\n",
       "      <th></th>\n",
       "      <th>name</th>\n",
       "      <th>branch</th>\n",
       "      <th>roll_number</th>\n",
       "      <th>cgpa</th>\n",
       "      <th>grade</th>\n",
       "    </tr>\n",
       "  </thead>\n",
       "  <tbody>\n",
       "    <tr>\n",
       "      <th>0</th>\n",
       "      <td>Anish</td>\n",
       "      <td>DS</td>\n",
       "      <td>1101</td>\n",
       "      <td>8.7</td>\n",
       "      <td>A</td>\n",
       "    </tr>\n",
       "    <tr>\n",
       "      <th>1</th>\n",
       "      <td>Raj</td>\n",
       "      <td>CSE</td>\n",
       "      <td>1102</td>\n",
       "      <td>9.6</td>\n",
       "      <td>A</td>\n",
       "    </tr>\n",
       "    <tr>\n",
       "      <th>2</th>\n",
       "      <td>Ayush</td>\n",
       "      <td>CSE</td>\n",
       "      <td>1103</td>\n",
       "      <td>8.6</td>\n",
       "      <td>A</td>\n",
       "    </tr>\n",
       "    <tr>\n",
       "      <th>3</th>\n",
       "      <td>Suraj</td>\n",
       "      <td>IoT</td>\n",
       "      <td>1104</td>\n",
       "      <td>9.0</td>\n",
       "      <td>A</td>\n",
       "    </tr>\n",
       "    <tr>\n",
       "      <th>4</th>\n",
       "      <td>Aman</td>\n",
       "      <td>AI &amp; ML</td>\n",
       "      <td>1105</td>\n",
       "      <td>7.0</td>\n",
       "      <td>B</td>\n",
       "    </tr>\n",
       "  </tbody>\n",
       "</table>\n",
       "</div>"
      ],
      "text/plain": [
       "    name   branch  roll_number  cgpa grade\n",
       "0  Anish       DS         1101   8.7     A\n",
       "1    Raj      CSE         1102   9.6     A\n",
       "2  Ayush      CSE         1103   8.6     A\n",
       "3  Suraj      IoT         1104   9.0     A\n",
       "4   Aman  AI & ML         1105   7.0     B"
      ]
     },
     "execution_count": 46,
     "metadata": {},
     "output_type": "execute_result"
    }
   ],
   "source": [
    "import numpy as np\n",
    "condition=[\n",
    "    (df['cgpa']<=2),\n",
    "    (df['cgpa']>2) & (df['cgpa']<=5),\n",
    "    (df['cgpa']>5) & (df['cgpa']<=8),\n",
    "    (df['cgpa']>8),\n",
    "]\n",
    "value=['D','C','B','A']\n",
    "df['grade']=np.select(condition,value)\n",
    "df"
   ]
  },
  {
   "cell_type": "code",
   "execution_count": 47,
   "id": "d4e23f15",
   "metadata": {},
   "outputs": [
    {
     "data": {
      "text/html": [
       "<div>\n",
       "<style scoped>\n",
       "    .dataframe tbody tr th:only-of-type {\n",
       "        vertical-align: middle;\n",
       "    }\n",
       "\n",
       "    .dataframe tbody tr th {\n",
       "        vertical-align: top;\n",
       "    }\n",
       "\n",
       "    .dataframe thead th {\n",
       "        text-align: right;\n",
       "    }\n",
       "</style>\n",
       "<table border=\"1\" class=\"dataframe\">\n",
       "  <thead>\n",
       "    <tr style=\"text-align: right;\">\n",
       "      <th></th>\n",
       "      <th>name</th>\n",
       "      <th>branch</th>\n",
       "      <th>roll_number</th>\n",
       "      <th>cgpa</th>\n",
       "      <th>grade</th>\n",
       "    </tr>\n",
       "  </thead>\n",
       "  <tbody>\n",
       "    <tr>\n",
       "      <th>0</th>\n",
       "      <td>Anish</td>\n",
       "      <td>DS</td>\n",
       "      <td>1101</td>\n",
       "      <td>8.7</td>\n",
       "      <td>A</td>\n",
       "    </tr>\n",
       "    <tr>\n",
       "      <th>1</th>\n",
       "      <td>Raj</td>\n",
       "      <td>CSE</td>\n",
       "      <td>1102</td>\n",
       "      <td>9.6</td>\n",
       "      <td>A</td>\n",
       "    </tr>\n",
       "    <tr>\n",
       "      <th>2</th>\n",
       "      <td>Ayush</td>\n",
       "      <td>CSE</td>\n",
       "      <td>1103</td>\n",
       "      <td>8.6</td>\n",
       "      <td>A</td>\n",
       "    </tr>\n",
       "    <tr>\n",
       "      <th>3</th>\n",
       "      <td>Suraj</td>\n",
       "      <td>IoT</td>\n",
       "      <td>1104</td>\n",
       "      <td>9.0</td>\n",
       "      <td>A</td>\n",
       "    </tr>\n",
       "    <tr>\n",
       "      <th>4</th>\n",
       "      <td>Aman</td>\n",
       "      <td>AI &amp; ML</td>\n",
       "      <td>1105</td>\n",
       "      <td>7.0</td>\n",
       "      <td>B</td>\n",
       "    </tr>\n",
       "  </tbody>\n",
       "</table>\n",
       "</div>"
      ],
      "text/plain": [
       "    name   branch  roll_number  cgpa grade\n",
       "0  Anish       DS         1101   8.7     A\n",
       "1    Raj      CSE         1102   9.6     A\n",
       "2  Ayush      CSE         1103   8.6     A\n",
       "3  Suraj      IoT         1104   9.0     A\n",
       "4   Aman  AI & ML         1105   7.0     B"
      ]
     },
     "execution_count": 47,
     "metadata": {},
     "output_type": "execute_result"
    }
   ],
   "source": [
    "def grade_calculate(cgpa):\n",
    "    if cgpa<=2:\n",
    "        return 'D';\n",
    "    elif 2< cgpa <=5:\n",
    "        return 'C';\n",
    "    elif 5< cgpa <=8:\n",
    "        return 'B';\n",
    "    else:\n",
    "        return 'A';\n",
    "df['grade']=df['cgpa'].apply(grade_calculate)\n",
    "df"
   ]
  },
  {
   "cell_type": "code",
   "execution_count": 48,
   "id": "63d09845",
   "metadata": {},
   "outputs": [],
   "source": [
    "df.to_json(\"updatedData.json\")"
   ]
  },
  {
   "cell_type": "code",
   "execution_count": 49,
   "id": "21cc8d62",
   "metadata": {},
   "outputs": [
    {
     "name": "stdout",
     "output_type": "stream",
     "text": [
      "HTML Data Frame:\n",
      "[    name   branch  roll_number  cgpa grade\n",
      "0  Anish       DS         1101   8.7     A\n",
      "1    Raj      CSE         1102   9.6     A\n",
      "2  Ayush      CSE         1103   8.6     A\n",
      "3  Suraj      IoT         1104   9.0     A\n",
      "4   Aman  AI & ML         1105   7.0     B]\n",
      "XML Data Frame:\n",
      "    name   branch  roll_number  cgpa grade\n",
      "0  Anish       DS         1101   8.7     A\n",
      "1    Raj      CSE         1102   9.6     A\n",
      "2  Ayush      CSE         1103   8.6     A\n",
      "3  Suraj      IoT         1104   9.0     A\n",
      "4   Aman  AI & ML         1105   7.0     B\n",
      "pickle Data Frame:\n",
      "    name   branch  roll_number  cgpa grade\n",
      "0  Anish       DS         1101   8.7     A\n",
      "1    Raj      CSE         1102   9.6     A\n",
      "2  Ayush      CSE         1103   8.6     A\n",
      "3  Suraj      IoT         1104   9.0     A\n",
      "4   Aman  AI & ML         1105   7.0     B\n",
      "Excel Data Frame:\n",
      "    name   branch  roll_number  cgpa grade\n",
      "0  Anish       DS         1101   8.7     A\n",
      "1    Raj      CSE         1102   9.6     A\n",
      "2  Ayush      CSE         1103   8.6     A\n",
      "3  Suraj      IoT         1104   9.0     A\n",
      "4   Aman  AI & ML         1105   7.0     B\n"
     ]
    }
   ],
   "source": [
    "df.to_html(\"updatedData.html\",index=None)\n",
    "df.to_xml(\"updatedData.xml\",index=None)\n",
    "df.to_pickle(\"updatedData.pkl\")\n",
    "df.to_excel(\"updatedData.xlsx\",index=None)\n",
    "\n",
    "\n",
    "dfHTML=pd.read_html(\"updatedData.html\")\n",
    "print(\"HTML Data Frame:\")\n",
    "print(dfHTML)\n",
    "\n",
    "dfXML=pd.read_xml(\"updatedData.xml\")\n",
    "print(\"XML Data Frame:\")\n",
    "print(dfXML)\n",
    "\n",
    "dfPICKLE=pd.read_pickle(\"updatedData.pkl\")\n",
    "print(\"pickle Data Frame:\")\n",
    "print(dfPICKLE)\n",
    "\n",
    "dfEXCEL=pd.read_excel(\"updatedData.xlsx\")\n",
    "print(\"Excel Data Frame:\")\n",
    "print(dfEXCEL)"
   ]
  },
  {
   "cell_type": "markdown",
   "id": "22f60997",
   "metadata": {},
   "source": [
    "5. Write a function to search and display details of student whose grade is 'A' from the \n",
    "binary file student.pkl having structure [name, branch, roll_number, cgpa, and grade] "
   ]
  },
  {
   "cell_type": "code",
   "execution_count": 71,
   "id": "ed7e3e8c",
   "metadata": {},
   "outputs": [],
   "source": [
    "def search():\n",
    "    file=open(\"updatedData.pkl\",\"rb\")\n",
    "    try:\n",
    "        record=pickle.load(file)\n",
    "        print(record[record['grade']=='A'])\n",
    "    except EOFError:\n",
    "        pass\n",
    "    file.close()"
   ]
  },
  {
   "cell_type": "code",
   "execution_count": 72,
   "id": "e5ef2093",
   "metadata": {},
   "outputs": [
    {
     "name": "stdout",
     "output_type": "stream",
     "text": [
      "    name branch  roll_number  cgpa grade\n",
      "0  Anish     DS         1101   8.7     A\n",
      "1    Raj    CSE         1102   9.6     A\n",
      "2  Ayush    CSE         1103   8.6     A\n",
      "3  Suraj    IoT         1104   9.0     A\n"
     ]
    }
   ],
   "source": [
    "search()"
   ]
  },
  {
   "cell_type": "markdown",
   "id": "e8aa865a",
   "metadata": {},
   "source": [
    "method-2"
   ]
  },
  {
   "cell_type": "code",
   "execution_count": 64,
   "id": "56a6ca17",
   "metadata": {},
   "outputs": [],
   "source": [
    "import pickle\n",
    "import pandas as pd\n",
    "D={'name':['Anish','Raj','Ayush','Suraj','Aman'],\n",
    "   'branch':['DS','CSE','CSE','IoT','AI & ML'],\n",
    "   'roll_number':[1101,1102,1103,1104,1105],\n",
    "   'cgpa':[8.7,9.6,8.6,9,7],\n",
    "   'grade':['A','A','A','A','B']\n",
    "}\n",
    "Dpickle=pickle.dumps(D)"
   ]
  },
  {
   "cell_type": "markdown",
   "id": "6d332197",
   "metadata": {},
   "source": [
    "6. A binary file \"Book.pkl\" has structure [BookNo, Book_Name, Author, Price]. \n",
    "\n",
    "• Write a user defined function createFile() to input data for a record and add to \n",
    "Book.pkl. \n",
    "\n",
    "• Write a function countRec(Author) in Python which accepts the Author name as \n",
    "parameter and count and return number of books by the given Author are stored in \n",
    "the binary file \"Book.pkl\""
   ]
  },
  {
   "cell_type": "code",
   "execution_count": 79,
   "id": "919c570d",
   "metadata": {},
   "outputs": [
    {
     "name": "stdout",
     "output_type": "stream",
     "text": [
      "Enter book number:1\n",
      "Enter book name:z\n",
      "Enter author:a\n",
      "Enter price:10\n",
      "Add more record (y/n)?n\n",
      "Enter author name to search:a\n",
      "No of books are 4\n"
     ]
    }
   ],
   "source": [
    "import pickle\n",
    "def createFile():\n",
    "    file=open(\"Book.pkl\",\"ab\")\n",
    "    BookNo=int(input(\"Enter book number:\"))\n",
    "    Book_Name=str(input(\"Enter book name:\"))\n",
    "    Author=str(input(\"Enter author:\"))\n",
    "    Price=str(input(\"Enter price:\"))\n",
    "    record=[BookNo,Book_Name,Author,Price]\n",
    "    pickle.dump(record,file)\n",
    "    file.close()\n",
    "\n",
    "def countRec(Author):\n",
    "    file=open(\"Book.pkl\",\"rb\")\n",
    "    count=0\n",
    "    try:\n",
    "        while True:\n",
    "            record=pickle.load(file)\n",
    "            if record[2]==Author:\n",
    "                count=count+1;\n",
    "    except EOFError:\n",
    "        pass\n",
    "    return count\n",
    "    file.close()\n",
    "\n",
    "def testProgram():\n",
    "    while True:\n",
    "        createFile()\n",
    "        choice=input(\"Add more record (y/n)?\")\n",
    "        if choice in 'Nn':\n",
    "            break\n",
    "    Author=input('Enter author name to search:')\n",
    "    n=countRec(Author)\n",
    "    print(\"No of books are\",n)\n",
    "testProgram()"
   ]
  }
 ],
 "metadata": {
  "kernelspec": {
   "display_name": "Python 3 (ipykernel)",
   "language": "python",
   "name": "python3"
  },
  "language_info": {
   "codemirror_mode": {
    "name": "ipython",
    "version": 3
   },
   "file_extension": ".py",
   "mimetype": "text/x-python",
   "name": "python",
   "nbconvert_exporter": "python",
   "pygments_lexer": "ipython3",
   "version": "3.11.4"
  }
 },
 "nbformat": 4,
 "nbformat_minor": 5
}
